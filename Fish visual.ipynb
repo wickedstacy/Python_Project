{
 "cells": [
  {
   "cell_type": "markdown",
   "id": "e9e93b68",
   "metadata": {},
   "source": [
    "# Визуализация данных. Анализ."
   ]
  },
  {
   "cell_type": "code",
   "execution_count": 1,
   "id": "71d29835",
   "metadata": {
    "ExecuteTime": {
     "end_time": "2023-06-08T19:37:17.474570Z",
     "start_time": "2023-06-08T19:37:13.395694Z"
    }
   },
   "outputs": [],
   "source": [
    "import matplotlib.pyplot as plt\n",
    "import numpy as np\n",
    "import os\n",
    "import pandas as pd\n",
    "import seaborn as sns\n",
    "from sklearn.metrics import mean_absolute_error\n",
    "from sklearn.preprocessing import LabelEncoder\n",
    "from tqdm import tqdm\n",
    "import seaborn as sns\n",
    "from sklearn.model_selection import train_test_split"
   ]
  },
  {
   "cell_type": "code",
   "execution_count": 2,
   "id": "93253c4d",
   "metadata": {
    "ExecuteTime": {
     "end_time": "2023-06-08T19:37:17.915892Z",
     "start_time": "2023-06-08T19:37:17.476562Z"
    }
   },
   "outputs": [
    {
     "ename": "FileNotFoundError",
     "evalue": "[Errno 2] No such file or directory: 'fishes.csv'",
     "output_type": "error",
     "traceback": [
      "\u001b[1;31m---------------------------------------------------------------------------\u001b[0m",
      "\u001b[1;31mFileNotFoundError\u001b[0m                         Traceback (most recent call last)",
      "\u001b[1;32m~\\AppData\\Local\\Temp\\ipykernel_17916\\346751335.py\u001b[0m in \u001b[0;36m<module>\u001b[1;34m\u001b[0m\n\u001b[1;32m----> 1\u001b[1;33m \u001b[0mdf\u001b[0m\u001b[1;33m=\u001b[0m\u001b[0mpd\u001b[0m\u001b[1;33m.\u001b[0m\u001b[0mread_csv\u001b[0m\u001b[1;33m(\u001b[0m\u001b[1;34m'fishes.csv'\u001b[0m\u001b[1;33m)\u001b[0m\u001b[1;33m\u001b[0m\u001b[1;33m\u001b[0m\u001b[0m\n\u001b[0m\u001b[0;32m      2\u001b[0m \u001b[0mdf\u001b[0m\u001b[1;33m.\u001b[0m\u001b[0mhead\u001b[0m\u001b[1;33m(\u001b[0m\u001b[1;33m)\u001b[0m\u001b[1;33m\u001b[0m\u001b[1;33m\u001b[0m\u001b[0m\n",
      "\u001b[1;32mF:\\Program Files (x86)\\ANACONDA\\lib\\site-packages\\pandas\\util\\_decorators.py\u001b[0m in \u001b[0;36mwrapper\u001b[1;34m(*args, **kwargs)\u001b[0m\n\u001b[0;32m    309\u001b[0m                     \u001b[0mstacklevel\u001b[0m\u001b[1;33m=\u001b[0m\u001b[0mstacklevel\u001b[0m\u001b[1;33m,\u001b[0m\u001b[1;33m\u001b[0m\u001b[1;33m\u001b[0m\u001b[0m\n\u001b[0;32m    310\u001b[0m                 )\n\u001b[1;32m--> 311\u001b[1;33m             \u001b[1;32mreturn\u001b[0m \u001b[0mfunc\u001b[0m\u001b[1;33m(\u001b[0m\u001b[1;33m*\u001b[0m\u001b[0margs\u001b[0m\u001b[1;33m,\u001b[0m \u001b[1;33m**\u001b[0m\u001b[0mkwargs\u001b[0m\u001b[1;33m)\u001b[0m\u001b[1;33m\u001b[0m\u001b[1;33m\u001b[0m\u001b[0m\n\u001b[0m\u001b[0;32m    312\u001b[0m \u001b[1;33m\u001b[0m\u001b[0m\n\u001b[0;32m    313\u001b[0m         \u001b[1;32mreturn\u001b[0m \u001b[0mwrapper\u001b[0m\u001b[1;33m\u001b[0m\u001b[1;33m\u001b[0m\u001b[0m\n",
      "\u001b[1;32mF:\\Program Files (x86)\\ANACONDA\\lib\\site-packages\\pandas\\io\\parsers\\readers.py\u001b[0m in \u001b[0;36mread_csv\u001b[1;34m(filepath_or_buffer, sep, delimiter, header, names, index_col, usecols, squeeze, prefix, mangle_dupe_cols, dtype, engine, converters, true_values, false_values, skipinitialspace, skiprows, skipfooter, nrows, na_values, keep_default_na, na_filter, verbose, skip_blank_lines, parse_dates, infer_datetime_format, keep_date_col, date_parser, dayfirst, cache_dates, iterator, chunksize, compression, thousands, decimal, lineterminator, quotechar, quoting, doublequote, escapechar, comment, encoding, encoding_errors, dialect, error_bad_lines, warn_bad_lines, on_bad_lines, delim_whitespace, low_memory, memory_map, float_precision, storage_options)\u001b[0m\n\u001b[0;32m    676\u001b[0m     \u001b[0mkwds\u001b[0m\u001b[1;33m.\u001b[0m\u001b[0mupdate\u001b[0m\u001b[1;33m(\u001b[0m\u001b[0mkwds_defaults\u001b[0m\u001b[1;33m)\u001b[0m\u001b[1;33m\u001b[0m\u001b[1;33m\u001b[0m\u001b[0m\n\u001b[0;32m    677\u001b[0m \u001b[1;33m\u001b[0m\u001b[0m\n\u001b[1;32m--> 678\u001b[1;33m     \u001b[1;32mreturn\u001b[0m \u001b[0m_read\u001b[0m\u001b[1;33m(\u001b[0m\u001b[0mfilepath_or_buffer\u001b[0m\u001b[1;33m,\u001b[0m \u001b[0mkwds\u001b[0m\u001b[1;33m)\u001b[0m\u001b[1;33m\u001b[0m\u001b[1;33m\u001b[0m\u001b[0m\n\u001b[0m\u001b[0;32m    679\u001b[0m \u001b[1;33m\u001b[0m\u001b[0m\n\u001b[0;32m    680\u001b[0m \u001b[1;33m\u001b[0m\u001b[0m\n",
      "\u001b[1;32mF:\\Program Files (x86)\\ANACONDA\\lib\\site-packages\\pandas\\io\\parsers\\readers.py\u001b[0m in \u001b[0;36m_read\u001b[1;34m(filepath_or_buffer, kwds)\u001b[0m\n\u001b[0;32m    573\u001b[0m \u001b[1;33m\u001b[0m\u001b[0m\n\u001b[0;32m    574\u001b[0m     \u001b[1;31m# Create the parser.\u001b[0m\u001b[1;33m\u001b[0m\u001b[1;33m\u001b[0m\u001b[0m\n\u001b[1;32m--> 575\u001b[1;33m     \u001b[0mparser\u001b[0m \u001b[1;33m=\u001b[0m \u001b[0mTextFileReader\u001b[0m\u001b[1;33m(\u001b[0m\u001b[0mfilepath_or_buffer\u001b[0m\u001b[1;33m,\u001b[0m \u001b[1;33m**\u001b[0m\u001b[0mkwds\u001b[0m\u001b[1;33m)\u001b[0m\u001b[1;33m\u001b[0m\u001b[1;33m\u001b[0m\u001b[0m\n\u001b[0m\u001b[0;32m    576\u001b[0m \u001b[1;33m\u001b[0m\u001b[0m\n\u001b[0;32m    577\u001b[0m     \u001b[1;32mif\u001b[0m \u001b[0mchunksize\u001b[0m \u001b[1;32mor\u001b[0m \u001b[0miterator\u001b[0m\u001b[1;33m:\u001b[0m\u001b[1;33m\u001b[0m\u001b[1;33m\u001b[0m\u001b[0m\n",
      "\u001b[1;32mF:\\Program Files (x86)\\ANACONDA\\lib\\site-packages\\pandas\\io\\parsers\\readers.py\u001b[0m in \u001b[0;36m__init__\u001b[1;34m(self, f, engine, **kwds)\u001b[0m\n\u001b[0;32m    930\u001b[0m \u001b[1;33m\u001b[0m\u001b[0m\n\u001b[0;32m    931\u001b[0m         \u001b[0mself\u001b[0m\u001b[1;33m.\u001b[0m\u001b[0mhandles\u001b[0m\u001b[1;33m:\u001b[0m \u001b[0mIOHandles\u001b[0m \u001b[1;33m|\u001b[0m \u001b[1;32mNone\u001b[0m \u001b[1;33m=\u001b[0m \u001b[1;32mNone\u001b[0m\u001b[1;33m\u001b[0m\u001b[1;33m\u001b[0m\u001b[0m\n\u001b[1;32m--> 932\u001b[1;33m         \u001b[0mself\u001b[0m\u001b[1;33m.\u001b[0m\u001b[0m_engine\u001b[0m \u001b[1;33m=\u001b[0m \u001b[0mself\u001b[0m\u001b[1;33m.\u001b[0m\u001b[0m_make_engine\u001b[0m\u001b[1;33m(\u001b[0m\u001b[0mf\u001b[0m\u001b[1;33m,\u001b[0m \u001b[0mself\u001b[0m\u001b[1;33m.\u001b[0m\u001b[0mengine\u001b[0m\u001b[1;33m)\u001b[0m\u001b[1;33m\u001b[0m\u001b[1;33m\u001b[0m\u001b[0m\n\u001b[0m\u001b[0;32m    933\u001b[0m \u001b[1;33m\u001b[0m\u001b[0m\n\u001b[0;32m    934\u001b[0m     \u001b[1;32mdef\u001b[0m \u001b[0mclose\u001b[0m\u001b[1;33m(\u001b[0m\u001b[0mself\u001b[0m\u001b[1;33m)\u001b[0m\u001b[1;33m:\u001b[0m\u001b[1;33m\u001b[0m\u001b[1;33m\u001b[0m\u001b[0m\n",
      "\u001b[1;32mF:\\Program Files (x86)\\ANACONDA\\lib\\site-packages\\pandas\\io\\parsers\\readers.py\u001b[0m in \u001b[0;36m_make_engine\u001b[1;34m(self, f, engine)\u001b[0m\n\u001b[0;32m   1214\u001b[0m             \u001b[1;31m# \"Union[str, PathLike[str], ReadCsvBuffer[bytes], ReadCsvBuffer[str]]\"\u001b[0m\u001b[1;33m\u001b[0m\u001b[1;33m\u001b[0m\u001b[0m\n\u001b[0;32m   1215\u001b[0m             \u001b[1;31m# , \"str\", \"bool\", \"Any\", \"Any\", \"Any\", \"Any\", \"Any\"\u001b[0m\u001b[1;33m\u001b[0m\u001b[1;33m\u001b[0m\u001b[0m\n\u001b[1;32m-> 1216\u001b[1;33m             self.handles = get_handle(  # type: ignore[call-overload]\n\u001b[0m\u001b[0;32m   1217\u001b[0m                 \u001b[0mf\u001b[0m\u001b[1;33m,\u001b[0m\u001b[1;33m\u001b[0m\u001b[1;33m\u001b[0m\u001b[0m\n\u001b[0;32m   1218\u001b[0m                 \u001b[0mmode\u001b[0m\u001b[1;33m,\u001b[0m\u001b[1;33m\u001b[0m\u001b[1;33m\u001b[0m\u001b[0m\n",
      "\u001b[1;32mF:\\Program Files (x86)\\ANACONDA\\lib\\site-packages\\pandas\\io\\common.py\u001b[0m in \u001b[0;36mget_handle\u001b[1;34m(path_or_buf, mode, encoding, compression, memory_map, is_text, errors, storage_options)\u001b[0m\n\u001b[0;32m    784\u001b[0m         \u001b[1;32mif\u001b[0m \u001b[0mioargs\u001b[0m\u001b[1;33m.\u001b[0m\u001b[0mencoding\u001b[0m \u001b[1;32mand\u001b[0m \u001b[1;34m\"b\"\u001b[0m \u001b[1;32mnot\u001b[0m \u001b[1;32min\u001b[0m \u001b[0mioargs\u001b[0m\u001b[1;33m.\u001b[0m\u001b[0mmode\u001b[0m\u001b[1;33m:\u001b[0m\u001b[1;33m\u001b[0m\u001b[1;33m\u001b[0m\u001b[0m\n\u001b[0;32m    785\u001b[0m             \u001b[1;31m# Encoding\u001b[0m\u001b[1;33m\u001b[0m\u001b[1;33m\u001b[0m\u001b[0m\n\u001b[1;32m--> 786\u001b[1;33m             handle = open(\n\u001b[0m\u001b[0;32m    787\u001b[0m                 \u001b[0mhandle\u001b[0m\u001b[1;33m,\u001b[0m\u001b[1;33m\u001b[0m\u001b[1;33m\u001b[0m\u001b[0m\n\u001b[0;32m    788\u001b[0m                 \u001b[0mioargs\u001b[0m\u001b[1;33m.\u001b[0m\u001b[0mmode\u001b[0m\u001b[1;33m,\u001b[0m\u001b[1;33m\u001b[0m\u001b[1;33m\u001b[0m\u001b[0m\n",
      "\u001b[1;31mFileNotFoundError\u001b[0m: [Errno 2] No such file or directory: 'fishes.csv'"
     ]
    }
   ],
   "source": [
    "df=pd.read_csv('fishes.csv')\n",
    "df.head()"
   ]
  },
  {
   "cell_type": "code",
   "execution_count": null,
   "id": "16106c75",
   "metadata": {
    "ExecuteTime": {
     "end_time": "2023-06-08T19:37:17.919878Z",
     "start_time": "2023-06-08T19:37:17.919878Z"
    }
   },
   "outputs": [],
   "source": [
    "df.corr()"
   ]
  },
  {
   "cell_type": "code",
   "execution_count": null,
   "id": "2c138fde",
   "metadata": {
    "ExecuteTime": {
     "end_time": "2023-06-08T19:37:17.920875Z",
     "start_time": "2023-06-08T19:37:17.920875Z"
    }
   },
   "outputs": [],
   "source": [
    "df.info()\n"
   ]
  },
  {
   "cell_type": "code",
   "execution_count": null,
   "id": "311c5afb",
   "metadata": {
    "ExecuteTime": {
     "end_time": "2023-06-08T19:37:17.921873Z",
     "start_time": "2023-06-08T19:37:17.921873Z"
    }
   },
   "outputs": [],
   "source": [
    "f, ax = plt.subplots(figsize=(12, 8))\n",
    "sns.heatmap(df.corr(),  annot=True, fmt='.1g', cmap = 'spring', linewidths=.5, ax=ax);"
   ]
  },
  {
   "cell_type": "markdown",
   "id": "c1df43cd",
   "metadata": {},
   "source": [
    "**Микровыводы:** построили тепловую матрицу корреляций числовых характеристик наших данных, выяснили, что есть прямая положительная линейная связь между суммой пойманных рыб и их реальным денежным выражением в долларах. Остальные связи слабые."
   ]
  },
  {
   "cell_type": "markdown",
   "id": "d24a568c",
   "metadata": {},
   "source": [
    "# Анализ по функциональным группам рыб"
   ]
  },
  {
   "cell_type": "code",
   "execution_count": null,
   "id": "3fa220e0",
   "metadata": {
    "ExecuteTime": {
     "end_time": "2023-06-08T19:37:17.922869Z",
     "start_time": "2023-06-08T19:37:17.922869Z"
    }
   },
   "outputs": [],
   "source": [
    "df['functional_group'].value_counts()"
   ]
  },
  {
   "cell_type": "markdown",
   "id": "7d4a2730",
   "metadata": {},
   "source": [
    "Всего 30 функциональных групп."
   ]
  },
  {
   "cell_type": "code",
   "execution_count": null,
   "id": "f5357295",
   "metadata": {
    "ExecuteTime": {
     "end_time": "2023-06-08T19:37:17.923866Z",
     "start_time": "2023-06-08T19:37:17.923866Z"
    }
   },
   "outputs": [],
   "source": [
    "sns.set(rc={'figure.figsize':(11.7,8.27)})\n",
    "s_dev= df.groupby([\"functional_group\", \"year\"]).sum().reset_index()\n",
    "fig, axes = plt.subplots(2, 1)\n",
    "fig.suptitle('By functional_group')\n",
    "\n",
    "\n",
    "sns.lineplot(ax=axes[0], data=s_dev, x =\"year\", y=\"catch_sum\", hue= 'functional_group')\n",
    "axes[0].set_title('Общий улов')\n",
    "\n",
    "axes[0].legend(bbox_to_anchor=(1, 1))\n",
    "\n",
    "sns.lineplot(ax=axes[1],data=s_dev, x =\"year\", y=\"real_value\", hue= 'functional_group')\n",
    "axes[1].set_title('Стоимость улова в долларах')\n",
    "\n",
    "axes[1].legend(bbox_to_anchor=(1, 1))\n",
    "\n",
    "\n",
    "fig.tight_layout()\n",
    "  \n",
    "\n",
    "plt.show()"
   ]
  },
  {
   "cell_type": "code",
   "execution_count": null,
   "id": "e55ca3a8",
   "metadata": {
    "ExecuteTime": {
     "end_time": "2023-06-08T19:37:17.924862Z",
     "start_time": "2023-06-08T19:37:17.924862Z"
    }
   },
   "outputs": [],
   "source": [
    "s=df['functional_group'].value_counts().nlargest(10)\n",
    "sdata=df[df['functional_group'].isin(s.index)]\n",
    "sdata #только 10 самых часто вылавливаемых рыб"
   ]
  },
  {
   "cell_type": "code",
   "execution_count": null,
   "id": "3c609b4e",
   "metadata": {
    "ExecuteTime": {
     "end_time": "2023-06-08T19:37:17.926855Z",
     "start_time": "2023-06-08T19:37:17.926855Z"
    },
    "scrolled": false
   },
   "outputs": [],
   "source": [
    "sns.set(rc={'figure.figsize':(11.7,8.27)})\n",
    "s_dav= sdata.groupby([\"functional_group\", \"year\"]).sum().reset_index()\n",
    "fig, axes = plt.subplots(2, 1)\n",
    "fig.suptitle('By functional_group')\n",
    "\n",
    "\n",
    "sns.lineplot(ax=axes[0], data=s_dav, x =\"year\", y=\"catch_sum\", hue= 'functional_group')\n",
    "axes[0].set_title('Общий улов')\n",
    "\n",
    "axes[0].legend(bbox_to_anchor=(1, 1))\n",
    "\n",
    "sns.lineplot(ax=axes[1],data=s_dav, x =\"year\", y=\"real_value\", hue= 'functional_group')\n",
    "axes[1].set_title('Стоимость улова в долларах')\n",
    "\n",
    "axes[1].legend(bbox_to_anchor=(1, 1))\n",
    "\n",
    "\n",
    "fig.tight_layout()\n",
    "  \n",
    "\n",
    "plt.show()"
   ]
  },
  {
   "cell_type": "code",
   "execution_count": null,
   "id": "460e6e04",
   "metadata": {
    "ExecuteTime": {
     "end_time": "2023-06-08T19:37:17.927853Z",
     "start_time": "2023-06-08T19:37:17.927853Z"
    }
   },
   "outputs": [],
   "source": [
    "f, ax = plt.subplots(figsize=(10, 5))\n",
    "sns.lineplot(data=sdata, x='year', y='real_value', hue='functional_group');\n",
    "plt.show();"
   ]
  },
  {
   "cell_type": "markdown",
   "id": "161a24a9",
   "metadata": {},
   "source": [
    "**Микровывод:** в ходе аналитики 10 самых часто вылавливаемых рыб и морских продуктов стало ясно,что в основном диапазон количества вылова всех видов за 70 лет не особо изменился - да, есть опредленные скачки роста и спада, но средняя динамика держится на среднем уровне. \n",
    "\n",
    "Что касается улова в стоимостном денежном выражении, то в 1960-ые заметен рост ценового спроса на среднеразмерные и крупноразменые камбалы (benthopelagic) , но затем динамика снижается и цены по всем группам выравниваются в одном ценовом диапазоне. "
   ]
  },
  {
   "cell_type": "markdown",
   "id": "366c2095",
   "metadata": {},
   "source": [
    "# Анализ по странам вылова"
   ]
  },
  {
   "cell_type": "code",
   "execution_count": null,
   "id": "74c479f3",
   "metadata": {
    "ExecuteTime": {
     "end_time": "2023-06-08T19:37:17.928849Z",
     "start_time": "2023-06-08T19:37:17.928849Z"
    }
   },
   "outputs": [],
   "source": [
    "df['fishing_entity'].value_counts()"
   ]
  },
  {
   "cell_type": "markdown",
   "id": "35f0c77a",
   "metadata": {},
   "source": [
    "Всего 60 значений."
   ]
  },
  {
   "cell_type": "code",
   "execution_count": null,
   "id": "e4355014",
   "metadata": {
    "ExecuteTime": {
     "end_time": "2023-06-08T19:37:17.929846Z",
     "start_time": "2023-06-08T19:37:17.929846Z"
    },
    "scrolled": true
   },
   "outputs": [],
   "source": [
    "sns.set(rc={'figure.figsize':(11.7,8.27)})\n",
    "s_dev= df.groupby([\"fishing_entity\", \"year\"]).sum().reset_index()\n",
    "fig, axes = plt.subplots(2, 1)\n",
    "fig.suptitle('By fishing_entity')\n",
    "\n",
    "\n",
    "sns.lineplot(ax=axes[0], data=s_dev, x =\"year\", y=\"catch_sum\", hue= 'fishing_entity')\n",
    "axes[0].set_title('Общий улов')\n",
    "\n",
    "axes[0].legend(bbox_to_anchor=(1, 1))\n",
    "\n",
    "sns.lineplot(ax=axes[1],data=s_dev, x =\"year\", y=\"real_value\", hue= 'fishing_entity')\n",
    "axes[1].set_title('Стоимость улова в долларах')\n",
    "\n",
    "axes[1].legend(bbox_to_anchor=(1, 1))\n",
    "\n",
    "\n",
    "fig.tight_layout()\n",
    "  \n",
    "\n",
    "plt.show()"
   ]
  },
  {
   "cell_type": "code",
   "execution_count": null,
   "id": "9c0d1fda",
   "metadata": {
    "ExecuteTime": {
     "end_time": "2023-06-08T19:37:17.931839Z",
     "start_time": "2023-06-08T19:37:17.931839Z"
    }
   },
   "outputs": [],
   "source": [
    "f=df['fishing_entity'].value_counts().nlargest(10)\n",
    "fdata=df[df['fishing_entity'].isin(f.index)]\n",
    "fdata #только 10 стран, где чаще всего ловят рыбу"
   ]
  },
  {
   "cell_type": "code",
   "execution_count": null,
   "id": "a2bd7e1e",
   "metadata": {
    "ExecuteTime": {
     "end_time": "2023-06-08T19:37:17.932835Z",
     "start_time": "2023-06-08T19:37:17.932835Z"
    }
   },
   "outputs": [],
   "source": [
    "sns.set(rc={'figure.figsize':(11.7,8.27)})\n",
    "f_dav= fdata.groupby([\"fishing_entity\", \"year\"]).sum().reset_index()\n",
    "fig, axes = plt.subplots(2, 1)\n",
    "fig.suptitle('By fishing_entity')\n",
    "\n",
    "\n",
    "sns.lineplot(ax=axes[0], data=f_dav, x =\"year\", y=\"catch_sum\", hue= 'fishing_entity')\n",
    "axes[0].set_title('Общий улов')\n",
    "\n",
    "axes[0].legend(bbox_to_anchor=(1, 1))\n",
    "\n",
    "sns.lineplot(ax=axes[1],data=f_dav, x =\"year\", y=\"real_value\", hue= 'fishing_entity')\n",
    "axes[1].set_title('Стоимость улова в долларах')\n",
    "\n",
    "axes[1].legend(bbox_to_anchor=(1, 1))\n",
    "\n",
    "\n",
    "fig.tight_layout()\n",
    "  \n",
    "\n",
    "plt.show()"
   ]
  },
  {
   "cell_type": "markdown",
   "id": "e8a2599f",
   "metadata": {},
   "source": [
    "**Миккровывод:** интересная динамика по Норвегии - виден всплеск вылова в 1970-1980 гг. Возможно камбала вылавливалась именно там.Также к 2020 происходит рост вылова в зоне Исландии."
   ]
  },
  {
   "cell_type": "markdown",
   "id": "ea8c313a",
   "metadata": {},
   "source": [
    "# Анализ по типу сектора"
   ]
  },
  {
   "cell_type": "code",
   "execution_count": null,
   "id": "23c3522e",
   "metadata": {
    "ExecuteTime": {
     "end_time": "2023-06-08T19:37:17.933832Z",
     "start_time": "2023-06-08T19:37:17.933832Z"
    }
   },
   "outputs": [],
   "source": [
    "df['sector_type'].value_counts()"
   ]
  },
  {
   "cell_type": "markdown",
   "id": "2e2af11d",
   "metadata": {},
   "source": [
    "Всего 4 сектора вылова."
   ]
  },
  {
   "cell_type": "code",
   "execution_count": null,
   "id": "d4079922",
   "metadata": {
    "ExecuteTime": {
     "end_time": "2023-06-08T19:37:17.934828Z",
     "start_time": "2023-06-08T19:37:17.934828Z"
    }
   },
   "outputs": [],
   "source": [
    "sns.set(rc={'figure.figsize':(11.7,8.27)})\n",
    "a_dav= df.groupby([\"sector_type\", \"year\"]).sum().reset_index()\n",
    "fig, axes = plt.subplots(2, 1)\n",
    "fig.suptitle('By sector_type')\n",
    "\n",
    "\n",
    "sns.lineplot(ax=axes[0], data=a_dav, x =\"year\", y=\"catch_sum\", hue= 'sector_type')\n",
    "axes[0].set_title('Общий улов')\n",
    "\n",
    "axes[0].legend(bbox_to_anchor=(1, 1))\n",
    "\n",
    "sns.lineplot(ax=axes[1],data=a_dav, x =\"year\", y=\"real_value\", hue= 'sector_type')\n",
    "axes[1].set_title('Стоимость улова в долларах')\n",
    "\n",
    "axes[1].legend(bbox_to_anchor=(1, 1))\n",
    "\n",
    "\n",
    "fig.tight_layout()\n",
    "\n",
    "\n",
    "plt.show()"
   ]
  },
  {
   "cell_type": "code",
   "execution_count": null,
   "id": "e59e104c",
   "metadata": {
    "ExecuteTime": {
     "end_time": "2023-06-08T19:37:17.935824Z",
     "start_time": "2023-06-08T19:37:17.935824Z"
    }
   },
   "outputs": [],
   "source": [
    "import seaborn as sns\n",
    "d=df[['sector_type','catch_sum','real_value']]\n",
    "sns.pairplot(d, hue=\"sector_type\");\n"
   ]
  },
  {
   "cell_type": "markdown",
   "id": "dc5be670",
   "metadata": {},
   "source": [
    "**Микровывод:** в основном вылов характеризован индустриальными нуждами, при чем реальная стоимость логарифмически возрастает с ростом вылова\n"
   ]
  },
  {
   "cell_type": "markdown",
   "id": "e8c446e4",
   "metadata": {},
   "source": [
    "# Анализ по разным коммерческим группам"
   ]
  },
  {
   "cell_type": "code",
   "execution_count": null,
   "id": "4b45a85f",
   "metadata": {
    "ExecuteTime": {
     "end_time": "2023-06-08T19:37:17.936823Z",
     "start_time": "2023-06-08T19:37:17.936823Z"
    }
   },
   "outputs": [],
   "source": [
    "df['commercial_group'].unique()"
   ]
  },
  {
   "cell_type": "markdown",
   "id": "0773de79",
   "metadata": {},
   "source": [
    "Всего 12 групп."
   ]
  },
  {
   "cell_type": "code",
   "execution_count": null,
   "id": "78c2320c",
   "metadata": {
    "ExecuteTime": {
     "end_time": "2023-06-08T19:37:17.937819Z",
     "start_time": "2023-06-08T19:37:17.937819Z"
    }
   },
   "outputs": [],
   "source": [
    "sns.set(rc={'figure.figsize':(11.7,8.27)})\n",
    "b_dav= df.groupby([\"commercial_group\", \"year\"]).sum().reset_index()\n",
    "fig, axes = plt.subplots(2, 1)\n",
    "fig.suptitle('By commercial_group')\n",
    "\n",
    "\n",
    "sns.lineplot(ax=axes[0], data=b_dav, x =\"year\", y=\"catch_sum\", hue= 'commercial_group')\n",
    "axes[0].set_title('Общий улов')\n",
    "\n",
    "axes[0].legend(bbox_to_anchor=(1, 1))\n",
    "\n",
    "sns.lineplot(ax=axes[1],data=b_dav, x =\"year\", y=\"real_value\", hue= 'commercial_group')\n",
    "axes[1].set_title('Стоимость улова в долларах')\n",
    "\n",
    "axes[1].legend(bbox_to_anchor=(1, 1))\n",
    "\n",
    "\n",
    "fig.tight_layout()\n",
    "  \n",
    "\n",
    "plt.show()"
   ]
  },
  {
   "cell_type": "code",
   "execution_count": null,
   "id": "656472b7",
   "metadata": {
    "ExecuteTime": {
     "end_time": "2023-06-08T19:37:17.938816Z",
     "start_time": "2023-06-08T19:37:17.938816Z"
    }
   },
   "outputs": [],
   "source": [
    "fig, axs = plt.subplots(1,2)\n",
    "fig.set_size_inches(15,5)\n",
    "axs[0].hist(x=b_dav['catch_sum'],bins=20, alpha=0.5, label='catch sum');\n",
    "\n",
    "axs[1].hist(x=b_dav['real_value'],bins=20, alpha=0.5, label='real value');\n",
    "plt.show()"
   ]
  },
  {
   "cell_type": "code",
   "execution_count": null,
   "id": "f4eaa018",
   "metadata": {
    "ExecuteTime": {
     "end_time": "2023-06-08T19:37:17.939812Z",
     "start_time": "2023-06-08T19:37:17.939812Z"
    }
   },
   "outputs": [],
   "source": [
    "m1=b_dav['catch_sum'].mean()\n",
    "var1=np.var(b_dav['catch_sum'])\n",
    "print(m1, var1)"
   ]
  },
  {
   "cell_type": "code",
   "execution_count": null,
   "id": "afd1fa5c",
   "metadata": {
    "ExecuteTime": {
     "end_time": "2023-06-08T19:37:17.940809Z",
     "start_time": "2023-06-08T19:37:17.940809Z"
    }
   },
   "outputs": [],
   "source": [
    "m2=b_dav['real_value'].mean()\n",
    "var2=np.var(b_dav['real_value'])\n",
    "print(m2, var2)"
   ]
  },
  {
   "cell_type": "markdown",
   "id": "167f6fae",
   "metadata": {},
   "source": [
    "**Микровывод:** димперсия и мат ожидание не равны друг другу следовательно нельзя утверждать что это распрделение Пуасонна."
   ]
  },
  {
   "cell_type": "markdown",
   "id": "4222ef7f",
   "metadata": {},
   "source": [
    "# Анализ по разным статусам поимки"
   ]
  },
  {
   "cell_type": "markdown",
   "id": "fa0db3a4",
   "metadata": {},
   "source": [
    "*Что такое вообще \"статус поимки\"?* Это по факту то, в каком состоянии дошла рыба до морского порта после вылова. Она может умереть или погибнуть - тогда она выбрасывается и считается как **discard**, либо она живая, целая и невредимая идет дальше на поставку продавцам и потом покупателям **(landing)**."
   ]
  },
  {
   "cell_type": "code",
   "execution_count": null,
   "id": "a69e55ba",
   "metadata": {
    "ExecuteTime": {
     "end_time": "2023-06-08T19:37:17.941806Z",
     "start_time": "2023-06-08T19:37:17.941806Z"
    }
   },
   "outputs": [],
   "source": [
    "sns.set(rc={'figure.figsize':(11.7,8.27)})\n",
    "с_dav= df.groupby([\"catch_status\", \"year\"]).sum().reset_index()\n",
    "fig, axes = plt.subplots(2, 1)\n",
    "fig.suptitle('By catch_status')\n",
    "\n",
    "\n",
    "sns.lineplot(ax=axes[0], data=с_dav, x =\"year\", y=\"catch_sum\", hue= 'catch_status')\n",
    "axes[0].set_title('Общий улов')\n",
    "\n",
    "axes[0].legend(bbox_to_anchor=(1, 1))\n",
    "\n",
    "sns.lineplot(ax=axes[1],data=с_dav, x =\"year\", y=\"real_value\", hue= 'catch_status')\n",
    "axes[1].set_title('Стоимость улова в долларах')\n",
    "\n",
    "axes[1].legend(bbox_to_anchor=(1, 1))\n",
    "\n",
    "\n",
    "fig.tight_layout()\n",
    "  \n",
    "\n",
    "plt.show()"
   ]
  },
  {
   "cell_type": "markdown",
   "id": "f59a0cdc",
   "metadata": {},
   "source": [
    "**Микровывод:** как можно заметить, мертвой рыби во все годы не так много, самые большие интервалы в 1970-е и 1980-е годы. Стоимость выброшенной рыбы очевидно равна нулю, что видно на нижнем графике по всем годам. А стоимость здорового пригодного улова прямо пропорциональная связана с объемом вылова."
   ]
  },
  {
   "cell_type": "code",
   "execution_count": null,
   "id": "72a09e77",
   "metadata": {
    "ExecuteTime": {
     "end_time": "2023-06-08T19:37:17.942802Z",
     "start_time": "2023-06-08T19:37:17.942802Z"
    }
   },
   "outputs": [],
   "source": [
    "hm= df.groupby([\"catch_status\", \"year\", \"fishing_entity\"]).sum().reset_index()\n",
    "(hm['fishing_entity'].value_counts())"
   ]
  },
  {
   "cell_type": "markdown",
   "id": "82f902a9",
   "metadata": {},
   "source": [
    "Всего 60 стран в которых вылавливается рыба"
   ]
  },
  {
   "cell_type": "code",
   "execution_count": null,
   "id": "018aa89c",
   "metadata": {
    "ExecuteTime": {
     "end_time": "2023-06-08T19:37:17.944796Z",
     "start_time": "2023-06-08T19:37:17.944796Z"
    }
   },
   "outputs": [],
   "source": [
    "import seaborn as sns\n",
    "fig=plt.gcf()\n",
    "fig.set_size_inches(20,20)\n",
    "g = sns.catplot(\n",
    "    data=hm, kind=\"bar\",\n",
    "    x=\"fishing_entity\", y=\"catch_sum\", hue=\"catch_status\", palette=\"dark\", alpha=.6, height=6)\n",
    "g.despine(left=True)\n",
    "g.set_axis_labels(\"\", \"catch_sum\")\n",
    "g.legend.set_title(\"\")"
   ]
  },
  {
   "cell_type": "markdown",
   "id": "b9ead5a8",
   "metadata": {},
   "source": [
    "Даженесмотря на размер выглядит не очень из-за большого количества стран, поэтому построим такую же диаграмму для 10 лидеров-стран с самыми большими данными по вылову\n"
   ]
  },
  {
   "cell_type": "code",
   "execution_count": null,
   "id": "a85480e7",
   "metadata": {
    "ExecuteTime": {
     "end_time": "2023-06-08T19:37:17.944796Z",
     "start_time": "2023-06-08T19:37:17.944796Z"
    }
   },
   "outputs": [],
   "source": [
    "r=df['fishing_entity'].value_counts().nlargest(10)\n",
    "rdata=df[df['fishing_entity'].isin(r.index)]\n",
    "rdata"
   ]
  },
  {
   "cell_type": "code",
   "execution_count": null,
   "id": "80e2644f",
   "metadata": {
    "ExecuteTime": {
     "end_time": "2023-06-08T19:37:17.946789Z",
     "start_time": "2023-06-08T19:37:17.946789Z"
    }
   },
   "outputs": [],
   "source": [
    "import seaborn as sns\n",
    "sns.set(rc={'figure.figsize':(100,30)})\n",
    "g = sns.catplot(\n",
    "    data=rdata, kind=\"bar\",\n",
    "    x=\"fishing_entity\", y=\"catch_sum\", hue=\"catch_status\", palette=\"dark\", alpha=.6, height=6)\n",
    "g.despine(left=True)\n",
    "g.set_axis_labels(\"\", \"catch_sum\")\n",
    "g.legend.set_title(\"\");\n",
    "g.set_xticklabels(rotation=40)\n",
    "plt.show()"
   ]
  },
  {
   "cell_type": "code",
   "execution_count": null,
   "id": "7f376ad3",
   "metadata": {
    "ExecuteTime": {
     "end_time": "2023-06-08T19:37:17.947785Z",
     "start_time": "2023-06-08T19:37:17.947785Z"
    }
   },
   "outputs": [],
   "source": [
    "import seaborn as sns\n",
    "rdata1=rdata[['fishing_entity','catch_sum','real_value']]\n",
    "sns.pairplot(rdata1, hue=\"fishing_entity\");\n"
   ]
  },
  {
   "cell_type": "markdown",
   "id": "2602ced0",
   "metadata": {},
   "source": [
    "**Микровывод:** как можно заметить самый большой совокупный улов свежей и востребованной рыбы у Норвегии, далее идет Ирландия и Дания. Испания и Франция находятся в рядах аутсайдеров, т к рыба которую они ловят либо не доживает до порта либо умирает в процессе транспортировки, но совокупный объем умершей рыбы у этих двух стран больше всего. Остальные страны производят хорошую рыбу но не в таких крупных масштабах чем те страны, что были перечислены выше"
   ]
  },
  {
   "cell_type": "markdown",
   "id": "7c00539e",
   "metadata": {},
   "source": [
    "# Анализ по статусу отчетов "
   ]
  },
  {
   "cell_type": "code",
   "execution_count": null,
   "id": "a4aafe95",
   "metadata": {
    "ExecuteTime": {
     "end_time": "2023-06-08T19:37:17.948781Z",
     "start_time": "2023-06-08T19:37:17.948781Z"
    }
   },
   "outputs": [],
   "source": [
    "df['reporting_status'].value_counts()"
   ]
  },
  {
   "cell_type": "markdown",
   "id": "1d0547d4",
   "metadata": {},
   "source": [
    "**Микровывод:** большая доля выловов является официальной и фигурирует в статистике с официальными отчетами. "
   ]
  },
  {
   "cell_type": "code",
   "execution_count": null,
   "id": "2e0f021c",
   "metadata": {
    "ExecuteTime": {
     "end_time": "2023-06-08T19:37:17.949779Z",
     "start_time": "2023-06-08T19:37:17.949779Z"
    },
    "scrolled": false
   },
   "outputs": [],
   "source": [
    "sns.set(rc={'figure.figsize':(11.7,8.27)})\n",
    "с_dav= df.groupby([\"reporting_status\", \"year\"]).sum().reset_index()\n",
    "fig, axes = plt.subplots(2, 1)\n",
    "fig.suptitle('By reporting_status')\n",
    "\n",
    "\n",
    "sns.lineplot(ax=axes[0], data=с_dav, x =\"year\", y=\"catch_sum\", hue= 'reporting_status')\n",
    "axes[0].set_title('Общий улов')\n",
    "\n",
    "axes[0].legend(bbox_to_anchor=(1, 1))\n",
    "\n",
    "sns.lineplot(ax=axes[1],data=с_dav, x =\"year\", y=\"real_value\", hue= 'reporting_status')\n",
    "axes[1].set_title('Стоимость улова в долларах')\n",
    "\n",
    "axes[1].legend(bbox_to_anchor=(1, 1))\n",
    "\n",
    "\n",
    "fig.tight_layout()\n",
    "  \n",
    "\n",
    "plt.ешп()"
   ]
  },
  {
   "cell_type": "markdown",
   "id": "776d8293",
   "metadata": {},
   "source": [
    "**Микровывод:** в основном все случа вылова регистрируются и лишь малая часть из общего числа не числится в официальной информации. К тому же число неофициальных случаев вылова сокращается к 2020 году достаточно заметно."
   ]
  },
  {
   "cell_type": "markdown",
   "id": "a23de22a",
   "metadata": {},
   "source": [
    "# Анализ по инструменту ловли"
   ]
  },
  {
   "cell_type": "code",
   "execution_count": null,
   "id": "547e9844",
   "metadata": {
    "ExecuteTime": {
     "end_time": "2023-06-08T19:37:17.950776Z",
     "start_time": "2023-06-08T19:37:17.950776Z"
    }
   },
   "outputs": [],
   "source": [
    "len(df['gear_name'].unique())"
   ]
  },
  {
   "cell_type": "markdown",
   "id": "9c2c3bd0",
   "metadata": {},
   "source": [
    "Всего 38 различных способов и подходов к ловле рыби и морских продуктов."
   ]
  },
  {
   "cell_type": "code",
   "execution_count": null,
   "id": "cc2e1590",
   "metadata": {
    "ExecuteTime": {
     "end_time": "2023-06-08T19:37:17.952768Z",
     "start_time": "2023-06-08T19:37:17.952768Z"
    }
   },
   "outputs": [],
   "source": [
    "sns.set(rc={'figure.figsize':(11.7,8.27)})\n",
    "с_dav= df.groupby([\"gear_name\", \"year\"]).sum().reset_index()\n",
    "fig, axes = plt.subplots(2, 1)\n",
    "fig.suptitle('By gear_name')\n",
    "\n",
    "\n",
    "sns.lineplot(ax=axes[0], data=с_dav, x =\"year\", y=\"catch_sum\", hue= 'gear_name')\n",
    "axes[0].set_title('Общий улов')\n",
    "\n",
    "axes[0].legend(bbox_to_anchor=(1, 1))\n",
    "\n",
    "sns.lineplot(ax=axes[1],data=с_dav, x =\"year\", y=\"real_value\", hue= 'gear_name')\n",
    "axes[1].set_title('Стоимость улова в долларах')\n",
    "\n",
    "axes[1].legend(bbox_to_anchor=(1, 1))\n",
    "\n",
    "\n",
    "fig.tight_layout()\n",
    "  \n",
    "\n",
    "plt.show()"
   ]
  },
  {
   "cell_type": "markdown",
   "id": "92b690c9",
   "metadata": {},
   "source": [
    "Поскольку линейных графиков очень много, выделим 10 самых часто используемых и построим графики только по ним"
   ]
  },
  {
   "cell_type": "code",
   "execution_count": null,
   "id": "d5dad6f5",
   "metadata": {
    "ExecuteTime": {
     "end_time": "2023-06-08T19:37:17.953764Z",
     "start_time": "2023-06-08T19:37:17.953764Z"
    }
   },
   "outputs": [],
   "source": [
    "g=df['gear_name'].value_counts().nlargest(10)\n",
    "gdata=df[df['gear_name'].isin(g.index)]\n",
    "gdata"
   ]
  },
  {
   "cell_type": "code",
   "execution_count": null,
   "id": "be0e7ba0",
   "metadata": {
    "ExecuteTime": {
     "end_time": "2023-06-08T19:37:17.954761Z",
     "start_time": "2023-06-08T19:37:17.954761Z"
    }
   },
   "outputs": [],
   "source": [
    "sns.set(rc={'figure.figsize':(11.7,8.27)})\n",
    "gdata1= gdata.groupby([\"gear_name\", \"year\"]).sum().reset_index()\n",
    "fig, axes = plt.subplots(2, 1)\n",
    "fig.suptitle('By gear_name')\n",
    "\n",
    "\n",
    "sns.lineplot(ax=axes[0], data=gdata1, x =\"year\", y=\"catch_sum\", hue= 'gear_name')\n",
    "axes[0].set_title('Общий улов')\n",
    "\n",
    "axes[0].legend(bbox_to_anchor=(1, 1))\n",
    "\n",
    "sns.lineplot(ax=axes[1],data=gdata1, x =\"year\", y=\"real_value\", hue= 'gear_name')\n",
    "axes[1].set_title('Стоимость улова в долларах')\n",
    "\n",
    "axes[1].legend(bbox_to_anchor=(1, 1))\n",
    "\n",
    "\n",
    "fig.tight_layout()\n",
    "  \n",
    "\n",
    "plt.show()"
   ]
  },
  {
   "cell_type": "markdown",
   "id": "319e8d6f",
   "metadata": {},
   "source": [
    "**Микровывод:** самые большие объемы вылова за счет bottom trawl (\"волочение\" - установка рыбаловной сети вдоль берега), purse seine (\"кошельковый метод\" - вылов с помощью сети в виде кошелька, исп. на открытой воде для вылова тунца). \n",
    "Однако наибольшую доходность приносят выловы с помощью последнего указанного метода, что можно объяснить более высокой ценой выловленного класса рыбы."
   ]
  },
  {
   "cell_type": "code",
   "execution_count": null,
   "id": "60c89170",
   "metadata": {
    "ExecuteTime": {
     "end_time": "2023-06-08T19:37:17.956756Z",
     "start_time": "2023-06-08T19:37:17.956756Z"
    }
   },
   "outputs": [],
   "source": [
    "x=gdata[gdata[\"gear_name\"]=='bottom trawl']\n",
    "xr=x['functional_group'].value_counts().nlargest(10)\n",
    "xnew=x[x['functional_group'].isin(xr.index)]\n"
   ]
  },
  {
   "cell_type": "code",
   "execution_count": null,
   "id": "640a34ba",
   "metadata": {
    "ExecuteTime": {
     "end_time": "2023-06-08T19:37:17.956756Z",
     "start_time": "2023-06-08T19:37:17.956756Z"
    }
   },
   "outputs": [],
   "source": [
    "import seaborn as sns\n",
    "sns.set(rc={'figure.figsize':(100,30)})\n",
    "g = sns.catplot(\n",
    "    data=xnew, kind=\"bar\",\n",
    "    x=\"functional_group\", y=\"catch_sum\", hue=\"gear_name\", palette=\"dark\", alpha=.6, height=6)\n",
    "g.despine(left=True)\n",
    "g.set_axis_labels(\"\", \"catch_sum\")\n",
    "g.legend.set_title(\"\");\n",
    "g.set_xticklabels(rotation=40)\n",
    "plt.show()"
   ]
  },
  {
   "cell_type": "markdown",
   "id": "57bbf67c",
   "metadata": {},
   "source": [
    "**Микровывод:** нарисовали столбчатую диаграмму с оценкой видов рыб, их частотой ловли с помощью метода волочения - выяснили, что самые часто вылавливаемые виды - это средние по размеру донные рыбы и бентапалагические рыбы (глубинные)."
   ]
  },
  {
   "cell_type": "code",
   "execution_count": null,
   "id": "91697b88",
   "metadata": {
    "ExecuteTime": {
     "end_time": "2023-06-08T19:37:17.957753Z",
     "start_time": "2023-06-08T19:37:17.957753Z"
    }
   },
   "outputs": [],
   "source": [
    "ben=df[df['functional_group']=='Large benthopelagics (>=90 cm)']\n",
    "print(ben['real_value'].mean() )\n",
    "print(df['real_value'].mean())"
   ]
  },
  {
   "cell_type": "markdown",
   "id": "0370f498",
   "metadata": {},
   "source": [
    "**Микровывод:** посмотрев на среднюю стоимость морепродуктов по выборке и оценив среднюю стоимость глубинных рыб, стало понятно, что их цена в сренем выше чем среднерыночное."
   ]
  },
  {
   "cell_type": "code",
   "execution_count": null,
   "id": "c6609be3",
   "metadata": {
    "ExecuteTime": {
     "end_time": "2023-06-08T19:37:17.959745Z",
     "start_time": "2023-06-08T19:37:17.959745Z"
    }
   },
   "outputs": [],
   "source": [
    "z=gdata[gdata[\"gear_name\"]=='purse seine']\n",
    "zr=z['functional_group'].value_counts().nlargest(10)\n",
    "znew=z[z['functional_group'].isin(zr.index)]\n"
   ]
  },
  {
   "cell_type": "code",
   "execution_count": null,
   "id": "e56e9553",
   "metadata": {
    "ExecuteTime": {
     "end_time": "2023-06-08T19:37:17.959745Z",
     "start_time": "2023-06-08T19:37:17.959745Z"
    }
   },
   "outputs": [],
   "source": [
    "import seaborn as sns\n",
    "sns.set(rc={'figure.figsize':(100,30)})\n",
    "g = sns.catplot(\n",
    "    data=znew, kind=\"bar\",\n",
    "    x=\"functional_group\", y=\"catch_sum\", hue=\"gear_name\", palette=\"dark\", alpha=.6, height=6)\n",
    "g.despine(left=True)\n",
    "g.set_axis_labels(\"\", \"catch_sum\")\n",
    "g.legend.set_title(\"\");\n",
    "g.set_xticklabels(rotation=40)\n",
    "plt.show()"
   ]
  },
  {
   "cell_type": "markdown",
   "id": "020a6a1e",
   "metadata": {},
   "source": [
    "**Микровывод:** построив идентичную столбчатую диаграмму для кошелькового метода, поняли, что основной целью ловли является мелкая морская рыба до 30 см в длину - это в основном патассу, сельдь, скумбрия, все виды осетровых итд."
   ]
  },
  {
   "cell_type": "code",
   "execution_count": null,
   "id": "2301e3ad",
   "metadata": {
    "ExecuteTime": {
     "end_time": "2023-06-08T19:37:17.961739Z",
     "start_time": "2023-06-08T19:37:17.961739Z"
    }
   },
   "outputs": [],
   "source": [
    "bsn=df[df['functional_group']=='Small pelagics (<30 cm)']\n",
    "print(bsn['real_value'].mean() )\n",
    "print(df['real_value'].mean())"
   ]
  },
  {
   "cell_type": "markdown",
   "id": "977e33e5",
   "metadata": {},
   "source": [
    " **Микровывод:** посмотрев на среднюю стоимость морепродуктов по выборке и оценив среднюю стоимость мелких морских рыб, стало понятно, что их цена в среднем выше чем среднерыночное."
   ]
  },
  {
   "cell_type": "code",
   "execution_count": null,
   "id": "36c0394f",
   "metadata": {},
   "outputs": [],
   "source": []
  }
 ],
 "metadata": {
  "kernelspec": {
   "display_name": "Python 3 (ipykernel)",
   "language": "python",
   "name": "python3"
  },
  "language_info": {
   "codemirror_mode": {
    "name": "ipython",
    "version": 3
   },
   "file_extension": ".py",
   "mimetype": "text/x-python",
   "name": "python",
   "nbconvert_exporter": "python",
   "pygments_lexer": "ipython3",
   "version": "3.9.13"
  }
 },
 "nbformat": 4,
 "nbformat_minor": 5
}
