{
 "cells": [
  {
   "cell_type": "markdown",
   "id": "c5ca3d07",
   "metadata": {
    "ExecuteTime": {
     "end_time": "2023-06-13T19:35:35.282775Z",
     "start_time": "2023-06-13T19:35:32.869618Z"
    }
   },
   "source": [
    "Тех часть\n"
   ]
  },
  {
   "cell_type": "code",
   "execution_count": 1,
   "id": "aa0fae2c",
   "metadata": {
    "ExecuteTime": {
     "end_time": "2023-06-14T20:05:05.165366Z",
     "start_time": "2023-06-14T20:05:01.618306Z"
    }
   },
   "outputs": [
    {
     "data": {
      "text/html": [
       "        <script type=\"text/javascript\">\n",
       "        window.PlotlyConfig = {MathJaxConfig: 'local'};\n",
       "        if (window.MathJax && window.MathJax.Hub && window.MathJax.Hub.Config) {window.MathJax.Hub.Config({SVG: {font: \"STIX-Web\"}});}\n",
       "        if (typeof require !== 'undefined') {\n",
       "        require.undef(\"plotly\");\n",
       "        requirejs.config({\n",
       "            paths: {\n",
       "                'plotly': ['https://cdn.plot.ly/plotly-2.12.1.min']\n",
       "            }\n",
       "        });\n",
       "        require(['plotly'], function(Plotly) {\n",
       "            window._Plotly = Plotly;\n",
       "        });\n",
       "        }\n",
       "        </script>\n",
       "        "
      ]
     },
     "metadata": {},
     "output_type": "display_data"
    }
   ],
   "source": [
    "import warnings\n",
    "warnings.simplefilter(action='ignore', category=FutureWarning)\n",
    "import matplotlib.pyplot as plt\n",
    "import numpy as np\n",
    "import os\n",
    "import pandas as pd\n",
    "import seaborn as sns\n",
    "from sklearn.metrics import mean_absolute_error\n",
    "from sklearn.preprocessing import LabelEncoder\n",
    "from tqdm import tqdm\n",
    "import seaborn as sns\n",
    "from sklearn.model_selection import train_test_split\n",
    "\n",
    "from plotly.offline import download_plotlyjs, init_notebook_mode, plot, iplot\n",
    "from plotly import graph_objs as go\n",
    "\n",
    "# инициализируем plotly\n",
    "init_notebook_mode(connected = True)\n",
    "\n",
    "def plotly_df(df, title = ''):\n",
    "    data = []\n",
    "\n",
    "    for column in df.columns:\n",
    "        trace = go.Scatter(\n",
    "            x = df.index,\n",
    "            y = df[column],\n",
    "            mode = 'lines',\n",
    "            name = column\n",
    "        )\n",
    "        data.append(trace)\n",
    "\n",
    "    layout = dict(title = title)\n",
    "    fig = dict(data = data, layout = layout)\n",
    "    iplot(fig, show_link=False)\n"
   ]
  },
  {
   "cell_type": "code",
   "execution_count": 2,
   "id": "27b97bbf",
   "metadata": {
    "ExecuteTime": {
     "end_time": "2023-06-14T20:05:05.213206Z",
     "start_time": "2023-06-14T20:05:05.167359Z"
    }
   },
   "outputs": [],
   "source": [
    "from prophet import Prophet\n"
   ]
  },
  {
   "cell_type": "code",
   "execution_count": 3,
   "id": "895de6c9",
   "metadata": {
    "ExecuteTime": {
     "end_time": "2023-06-14T20:05:06.337809Z",
     "start_time": "2023-06-14T20:05:05.214203Z"
    }
   },
   "outputs": [],
   "source": [
    "df=pd.read_csv('fishes.csv')"
   ]
  },
  {
   "cell_type": "markdown",
   "id": "0889c1da",
   "metadata": {},
   "source": [
    "- Для проверки гипотез и построения модели сократи выборку до Дании"
   ]
  },
  {
   "cell_type": "markdown",
   "id": "b84ba770",
   "metadata": {},
   "source": [
    "Посмотрим долю вылова из каждой рыбы по годам"
   ]
  },
  {
   "cell_type": "code",
   "execution_count": 4,
   "id": "5d4779c4",
   "metadata": {
    "ExecuteTime": {
     "end_time": "2023-06-14T20:05:06.478742Z",
     "start_time": "2023-06-14T20:05:06.338869Z"
    }
   },
   "outputs": [],
   "source": [
    "df.drop('Unnamed: 0', axis=1,inplace=True)\n",
    "df=df[df.fishing_entity==\"Denmark\"]"
   ]
  },
  {
   "cell_type": "code",
   "execution_count": 5,
   "id": "79623e9e",
   "metadata": {
    "ExecuteTime": {
     "end_time": "2023-06-14T20:05:06.494307Z",
     "start_time": "2023-06-14T20:05:06.479769Z"
    }
   },
   "outputs": [],
   "source": [
    "date=df.groupby(by=['year','commercial_group']).sum().reset_index()\n",
    "date=date.assign(weight=date.catch_sum/date.groupby('year').catch_sum.transform('sum'))"
   ]
  },
  {
   "cell_type": "code",
   "execution_count": 6,
   "id": "734af969",
   "metadata": {
    "ExecuteTime": {
     "end_time": "2023-06-14T20:05:06.509578Z",
     "start_time": "2023-06-14T20:05:06.494739Z"
    }
   },
   "outputs": [],
   "source": [
    "d= date.melt(['commercial_group', 'year'] , value_vars = 'weight' , var_name='a', value_name='b')"
   ]
  },
  {
   "cell_type": "code",
   "execution_count": 7,
   "id": "cb6156f6",
   "metadata": {
    "ExecuteTime": {
     "end_time": "2023-06-14T20:05:06.525673Z",
     "start_time": "2023-06-14T20:05:06.510577Z"
    }
   },
   "outputs": [
    {
     "data": {
      "text/html": [
       "<div>\n",
       "<style scoped>\n",
       "    .dataframe tbody tr th:only-of-type {\n",
       "        vertical-align: middle;\n",
       "    }\n",
       "\n",
       "    .dataframe tbody tr th {\n",
       "        vertical-align: top;\n",
       "    }\n",
       "\n",
       "    .dataframe thead th {\n",
       "        text-align: right;\n",
       "    }\n",
       "</style>\n",
       "<table border=\"1\" class=\"dataframe\">\n",
       "  <thead>\n",
       "    <tr style=\"text-align: right;\">\n",
       "      <th></th>\n",
       "      <th>commercial_group</th>\n",
       "      <th>year</th>\n",
       "      <th>a</th>\n",
       "      <th>b</th>\n",
       "    </tr>\n",
       "  </thead>\n",
       "  <tbody>\n",
       "    <tr>\n",
       "      <th>0</th>\n",
       "      <td>Cod-likes</td>\n",
       "      <td>1950</td>\n",
       "      <td>weight</td>\n",
       "      <td>1.252388e-01</td>\n",
       "    </tr>\n",
       "    <tr>\n",
       "      <th>1</th>\n",
       "      <td>Crustaceans</td>\n",
       "      <td>1950</td>\n",
       "      <td>weight</td>\n",
       "      <td>9.393917e-03</td>\n",
       "    </tr>\n",
       "    <tr>\n",
       "      <th>2</th>\n",
       "      <td>Flatfishes</td>\n",
       "      <td>1950</td>\n",
       "      <td>weight</td>\n",
       "      <td>3.200983e-01</td>\n",
       "    </tr>\n",
       "    <tr>\n",
       "      <th>3</th>\n",
       "      <td>Herring-likes</td>\n",
       "      <td>1950</td>\n",
       "      <td>weight</td>\n",
       "      <td>9.142129e-02</td>\n",
       "    </tr>\n",
       "    <tr>\n",
       "      <th>4</th>\n",
       "      <td>Molluscs</td>\n",
       "      <td>1950</td>\n",
       "      <td>weight</td>\n",
       "      <td>1.337884e-01</td>\n",
       "    </tr>\n",
       "    <tr>\n",
       "      <th>...</th>\n",
       "      <td>...</td>\n",
       "      <td>...</td>\n",
       "      <td>...</td>\n",
       "      <td>...</td>\n",
       "    </tr>\n",
       "    <tr>\n",
       "      <th>731</th>\n",
       "      <td>Perch-likes</td>\n",
       "      <td>2018</td>\n",
       "      <td>weight</td>\n",
       "      <td>7.092484e-02</td>\n",
       "    </tr>\n",
       "    <tr>\n",
       "      <th>732</th>\n",
       "      <td>Salmon, smelts, etc</td>\n",
       "      <td>2018</td>\n",
       "      <td>weight</td>\n",
       "      <td>4.341586e-04</td>\n",
       "    </tr>\n",
       "    <tr>\n",
       "      <th>733</th>\n",
       "      <td>Scorpionfishes</td>\n",
       "      <td>2018</td>\n",
       "      <td>weight</td>\n",
       "      <td>2.028655e-03</td>\n",
       "    </tr>\n",
       "    <tr>\n",
       "      <th>734</th>\n",
       "      <td>Sharks &amp; rays</td>\n",
       "      <td>2018</td>\n",
       "      <td>weight</td>\n",
       "      <td>2.508286e-04</td>\n",
       "    </tr>\n",
       "    <tr>\n",
       "      <th>735</th>\n",
       "      <td>Tuna &amp; billfishes</td>\n",
       "      <td>2018</td>\n",
       "      <td>weight</td>\n",
       "      <td>6.012976e-08</td>\n",
       "    </tr>\n",
       "  </tbody>\n",
       "</table>\n",
       "<p>736 rows × 4 columns</p>\n",
       "</div>"
      ],
      "text/plain": [
       "        commercial_group  year       a             b\n",
       "0              Cod-likes  1950  weight  1.252388e-01\n",
       "1            Crustaceans  1950  weight  9.393917e-03\n",
       "2             Flatfishes  1950  weight  3.200983e-01\n",
       "3          Herring-likes  1950  weight  9.142129e-02\n",
       "4               Molluscs  1950  weight  1.337884e-01\n",
       "..                   ...   ...     ...           ...\n",
       "731          Perch-likes  2018  weight  7.092484e-02\n",
       "732  Salmon, smelts, etc  2018  weight  4.341586e-04\n",
       "733       Scorpionfishes  2018  weight  2.028655e-03\n",
       "734        Sharks & rays  2018  weight  2.508286e-04\n",
       "735    Tuna & billfishes  2018  weight  6.012976e-08\n",
       "\n",
       "[736 rows x 4 columns]"
      ]
     },
     "execution_count": 7,
     "metadata": {},
     "output_type": "execute_result"
    }
   ],
   "source": [
    "d"
   ]
  },
  {
   "cell_type": "code",
   "execution_count": 8,
   "id": "24b75b1b",
   "metadata": {
    "ExecuteTime": {
     "end_time": "2023-06-14T20:05:06.872548Z",
     "start_time": "2023-06-14T20:05:06.526671Z"
    }
   },
   "outputs": [
    {
     "data": {
      "image/png": "[encoded data removed]",
      "text/plain": [
       "<Figure size 640x480 with 1 Axes>"
      ]
     },
     "metadata": {},
     "output_type": "display_data"
    }
   ],
   "source": [
    "bar_plot2 = d[d.year>2000].pivot(index='year', columns='commercial_group', values= 'b').plot.bar(stacked=True)\n",
    "plt.legend(ncol=2, loc=\"upper right\", frameon=True, bbox_to_anchor=(1.75, 0.5))\n",
    "plt.show()"
   ]
  },
  {
   "cell_type": "code",
   "execution_count": 9,
   "id": "7f61e404",
   "metadata": {
    "ExecuteTime": {
     "end_time": "2023-06-14T20:05:06.887584Z",
     "start_time": "2023-06-14T20:05:06.873524Z"
    }
   },
   "outputs": [],
   "source": [
    "d= date.melt(['commercial_group', 'year'] , value_vars = 'weigth' , var_name='a', value_name='b')\n",
    "for_test = d[d.year>2000].pivot(index='year', columns='commercial_group', values= 'b').T.fillna(0)\n"
   ]
  },
  {
   "cell_type": "markdown",
   "id": "e8cc6966",
   "metadata": {
    "ExecuteTime": {
     "end_time": "2023-06-14T19:01:32.533800Z",
     "start_time": "2023-06-14T19:01:32.522774Z"
    }
   },
   "source": [
    "Проверим гипотезу о равенстве среднему вылрову"
   ]
  },
  {
   "cell_type": "code",
   "execution_count": 10,
   "id": "a4bbdc44",
   "metadata": {
    "ExecuteTime": {
     "end_time": "2023-06-14T20:05:06.903530Z",
     "start_time": "2023-06-14T20:05:06.888580Z"
    }
   },
   "outputs": [
    {
     "data": {
      "text/html": [
       "<div>\n",
       "<style scoped>\n",
       "    .dataframe tbody tr th:only-of-type {\n",
       "        vertical-align: middle;\n",
       "    }\n",
       "\n",
       "    .dataframe tbody tr th {\n",
       "        vertical-align: top;\n",
       "    }\n",
       "\n",
       "    .dataframe thead th {\n",
       "        text-align: right;\n",
       "    }\n",
       "</style>\n",
       "<table border=\"1\" class=\"dataframe\">\n",
       "  <thead>\n",
       "    <tr style=\"text-align: right;\">\n",
       "      <th></th>\n",
       "      <th>species</th>\n",
       "      <th>p_value</th>\n",
       "      <th>t_statistic</th>\n",
       "      <th>H0_rejected</th>\n",
       "    </tr>\n",
       "  </thead>\n",
       "  <tbody>\n",
       "    <tr>\n",
       "      <th>0</th>\n",
       "      <td>Anchovies</td>\n",
       "      <td>9.448258e-02</td>\n",
       "      <td>1.771026</td>\n",
       "      <td>No</td>\n",
       "    </tr>\n",
       "    <tr>\n",
       "      <th>0</th>\n",
       "      <td>Cod-likes</td>\n",
       "      <td>3.818679e-06</td>\n",
       "      <td>6.687602</td>\n",
       "      <td>Yes</td>\n",
       "    </tr>\n",
       "    <tr>\n",
       "      <th>0</th>\n",
       "      <td>Crustaceans</td>\n",
       "      <td>2.815391e-02</td>\n",
       "      <td>2.399518</td>\n",
       "      <td>Yes</td>\n",
       "    </tr>\n",
       "    <tr>\n",
       "      <th>0</th>\n",
       "      <td>Flatfishes</td>\n",
       "      <td>6.238378e-01</td>\n",
       "      <td>0.499489</td>\n",
       "      <td>No</td>\n",
       "    </tr>\n",
       "    <tr>\n",
       "      <th>0</th>\n",
       "      <td>Herring-likes</td>\n",
       "      <td>2.205025e-04</td>\n",
       "      <td>-4.668428</td>\n",
       "      <td>Yes</td>\n",
       "    </tr>\n",
       "    <tr>\n",
       "      <th>0</th>\n",
       "      <td>Molluscs</td>\n",
       "      <td>6.163628e-07</td>\n",
       "      <td>7.695680</td>\n",
       "      <td>Yes</td>\n",
       "    </tr>\n",
       "    <tr>\n",
       "      <th>0</th>\n",
       "      <td>Other fishes &amp; inverts</td>\n",
       "      <td>2.840186e-01</td>\n",
       "      <td>1.106272</td>\n",
       "      <td>No</td>\n",
       "    </tr>\n",
       "    <tr>\n",
       "      <th>0</th>\n",
       "      <td>Perch-likes</td>\n",
       "      <td>1.036786e-02</td>\n",
       "      <td>-2.881173</td>\n",
       "      <td>Yes</td>\n",
       "    </tr>\n",
       "    <tr>\n",
       "      <th>0</th>\n",
       "      <td>Salmon, smelts, etc</td>\n",
       "      <td>5.348275e-02</td>\n",
       "      <td>2.074982</td>\n",
       "      <td>No</td>\n",
       "    </tr>\n",
       "    <tr>\n",
       "      <th>0</th>\n",
       "      <td>Scorpionfishes</td>\n",
       "      <td>1.945229e-04</td>\n",
       "      <td>-4.727505</td>\n",
       "      <td>Yes</td>\n",
       "    </tr>\n",
       "    <tr>\n",
       "      <th>0</th>\n",
       "      <td>Sharks &amp; rays</td>\n",
       "      <td>5.006975e-01</td>\n",
       "      <td>0.688059</td>\n",
       "      <td>No</td>\n",
       "    </tr>\n",
       "    <tr>\n",
       "      <th>0</th>\n",
       "      <td>Tuna &amp; billfishes</td>\n",
       "      <td>3.576356e-01</td>\n",
       "      <td>0.945528</td>\n",
       "      <td>No</td>\n",
       "    </tr>\n",
       "  </tbody>\n",
       "</table>\n",
       "</div>"
      ],
      "text/plain": [
       "                  species       p_value  t_statistic H0_rejected\n",
       "0               Anchovies  9.448258e-02     1.771026          No\n",
       "0               Cod-likes  3.818679e-06     6.687602         Yes\n",
       "0             Crustaceans  2.815391e-02     2.399518         Yes\n",
       "0              Flatfishes  6.238378e-01     0.499489          No\n",
       "0           Herring-likes  2.205025e-04    -4.668428         Yes\n",
       "0                Molluscs  6.163628e-07     7.695680         Yes\n",
       "0  Other fishes & inverts  2.840186e-01     1.106272          No\n",
       "0             Perch-likes  1.036786e-02    -2.881173         Yes\n",
       "0     Salmon, smelts, etc  5.348275e-02     2.074982          No\n",
       "0          Scorpionfishes  1.945229e-04    -4.727505         Yes\n",
       "0           Sharks & rays  5.006975e-01     0.688059          No\n",
       "0       Tuna & billfishes  3.576356e-01     0.945528          No"
      ]
     },
     "execution_count": 10,
     "metadata": {},
     "output_type": "execute_result"
    }
   ],
   "source": [
    "from scipy.stats import ttest_1samp\n",
    "mean_catch = for_test.mean()\n",
    "last_year_catch = for_test.iloc[:,-1]\n",
    "\n",
    "alpha = 0.05\n",
    "ttest_results = pd.DataFrame()\n",
    "for species in for_test.index:\n",
    "    ttest, p_value = ttest_1samp(for_test.loc[species], last_year_catch[species])\n",
    "    reject_null = 'Yes' if p_value < alpha else 'No'\n",
    "    ttest_results = ttest_results.append(pd.DataFrame({\n",
    "          'species': [species],\n",
    "          'p_value': [p_value],\n",
    "          't_statistic': [ttest],\n",
    "        'H0_rejected': [reject_null]\n",
    "      }))\n",
    "\n",
    "\n",
    "ttest_results"
   ]
  },
  {
   "cell_type": "markdown",
   "id": "3801ce5c",
   "metadata": {
    "ExecuteTime": {
     "end_time": "2023-06-09T19:07:01.444158Z",
     "start_time": "2023-06-09T19:07:01.434192Z"
    }
   },
   "source": [
    "Посмотрим как менялачсь цена на рыб из года в год"
   ]
  },
  {
   "cell_type": "code",
   "execution_count": 11,
   "id": "df25e1b5",
   "metadata": {
    "ExecuteTime": {
     "end_time": "2023-06-14T20:05:06.918712Z",
     "start_time": "2023-06-14T20:05:06.904527Z"
    }
   },
   "outputs": [],
   "source": [
    "prices=df.groupby(by=['year', 'commercial_group']).sum().reset_index()"
   ]
  },
  {
   "cell_type": "code",
   "execution_count": 12,
   "id": "0d229fe1",
   "metadata": {
    "ExecuteTime": {
     "end_time": "2023-06-14T20:05:06.934645Z",
     "start_time": "2023-06-14T20:05:06.919709Z"
    }
   },
   "outputs": [],
   "source": [
    "prices['prices']=prices.real_value/prices.catch_sum /100"
   ]
  },
  {
   "cell_type": "code",
   "execution_count": 13,
   "id": "6456fec4",
   "metadata": {
    "ExecuteTime": {
     "end_time": "2023-06-14T20:05:07.251312Z",
     "start_time": "2023-06-14T20:05:06.935643Z"
    }
   },
   "outputs": [
    {
     "data": {
      "text/plain": [
       "<Axes: xlabel='year', ylabel='prices'>"
      ]
     },
     "execution_count": 13,
     "metadata": {},
     "output_type": "execute_result"
    },
    {
     "data": {
      "image/png": "[encoded data removed]",
      "text/plain": [
       "<Figure size 640x480 with 1 Axes>"
      ]
     },
     "metadata": {},
     "output_type": "display_data"
    }
   ],
   "source": [
    "sns.lineplot(x='year', y='prices', data=prices[(prices.year>2000) & (prices.commercial_group != \"Herring-likes\")], hue='commercial_group')"
   ]
  },
  {
   "cell_type": "code",
   "execution_count": null,
   "id": "ca9593da",
   "metadata": {
    "ExecuteTime": {
     "end_time": "2023-06-13T19:37:07.935493Z",
     "start_time": "2023-06-13T19:37:07.926523Z"
    }
   },
   "outputs": [],
   "source": []
  },
  {
   "cell_type": "markdown",
   "id": "64494fda",
   "metadata": {},
   "source": [
    "Построим мо которая буджет предсказывать обьем вылова в Дании"
   ]
  },
  {
   "cell_type": "code",
   "execution_count": 14,
   "id": "8b4ef4ac",
   "metadata": {
    "ExecuteTime": {
     "end_time": "2023-06-14T20:05:08.197643Z",
     "start_time": "2023-06-14T20:05:08.176208Z"
    }
   },
   "outputs": [],
   "source": [
    "pred=df.groupby(by='year').sum()\n",
    "pred.drop('rfmo_id', axis=1, inplace= True)\n",
    "pred.drop('real_value', axis=1, inplace= True)"
   ]
  },
  {
   "cell_type": "code",
   "execution_count": 15,
   "id": "fb142839",
   "metadata": {
    "ExecuteTime": {
     "end_time": "2023-06-14T20:05:08.700630Z",
     "start_time": "2023-06-14T20:05:08.368958Z"
    }
   },
   "outputs": [
    {
     "data": {
      "application/vnd.plotly.v1+json": {
       "config": {
        "linkText": "Export to plot.ly",
        "plotlyServerURL": "https://plot.ly",
        "showLink": false
       },
       "data": [
        {
         "mode": "lines",
         "name": "catch_sum",
         "type": "scatter",
         "x": [
          1950,
          1951,
          1952,
          1953,
          1954,
          1955,
          1956,
          1957,
          1958,
          1959,
          1960,
          1961,
          1962,
          1963,
          1964,
          1965,
          1966,
          1967,
          1968,
          1969,
          1970,
          1971,
          1972,
          1973,
          1974,
          1975,
          1976,
          1977,
          1978,
          1979,
          1980,
          1981,
          1982,
          1983,
          1984,
          1985,
          1986,
          1987,
          1988,
          1989,
          1990,
          1991,
          1992,
          1993,
          1994,
          1995,
          1996,
          1997,
          1998,
          1999,
          2000,
          2001,
          2002,
          2003,
          2004,
          2005,
          2006,
          2007,
          2008,
          2009,
          2010,
          2011,
          2012,
          2013,
          2014,
          2015,
          2016,
          2017,
          2018
         ],
         "y": [
          149961.1840403748,
          178877.8991927216,
          203521.2897078919,
          228292.6206685209,
          264481.7357808441,
          314401.097735693,
          362329.311269271,
          415856.1950142951,
          461245.8691241796,
          540241.3472359075,
          486910.25505254697,
          519776.3199009597,
          644794.966440739,
          731249.9634587372,
          764341.3144293841,
          752583.0010433348,
          760056.8905379556,
          926004.3897959172,
          1326573.4642832575,
          1252865.423473334,
          1227205.5024680265,
          1298320.210979616,
          1335340.632292155,
          1310284.3387012172,
          1699317.8874217465,
          1587374.469140093,
          1736540.0394783732,
          1596328.457072035,
          1542397.6907915804,
          1557516.0177693407,
          1812697.3894098185,
          1593011.8974076344,
          1691040.4788868888,
          1635834.5284590672,
          1606471.6646698532,
          1556937.7398430556,
          1643666.6141575633,
          1508238.952782882,
          1768041.11313084,
          1745078.2868724372,
          1334997.1352594958,
          1594466.728942171,
          1775067.4095062464,
          1421116.1439223115,
          1639222.4858251428,
          1826475.8056134463,
          1426921.0082564855,
          1538346.4467829147,
          1359062.820004249,
          1203078.577679447,
          1370465.9182987818,
          1338203.6909557604,
          1333295.066832736,
          948616.0546318776,
          997884.7970919835,
          818234.8885956551,
          772836.0277458477,
          544945.724901243,
          601945.4120743338,
          675265.435762824,
          734516.3832398548,
          639435.5740347393,
          441581.7718910327,
          592528.8776328278,
          662167.6204704572,
          779566.4064381259,
          561554.7443745257,
          783932.0691281771,
          546543.9712384811
         ]
        }
       ],
       "layout": {
        "template": {
         "data": {
          "bar": [
           {
            "error_x": {
             "color": "#2a3f5f"
            },
            "error_y": {
             "color": "#2a3f5f"
            },
            "marker": {
             "line": {
              "color": "#E5ECF6",
              "width": 0.5
             },
             "pattern": {
              "fillmode": "overlay",
              "size": 10,
              "solidity": 0.2
             }
            },
            "type": "bar"
           }
          ],
          "barpolar": [
           {
            "marker": {
             "line": {
              "color": "#E5ECF6",
              "width": 0.5
             },
             "pattern": {
              "fillmode": "overlay",
              "size": 10,
              "solidity": 0.2
             }
            },
            "type": "barpolar"
           }
          ],
          "carpet": [
           {
            "aaxis": {
             "endlinecolor": "#2a3f5f",
             "gridcolor": "white",
             "linecolor": "white",
             "minorgridcolor": "white",
             "startlinecolor": "#2a3f5f"
            },
            "baxis": {
             "endlinecolor": "#2a3f5f",
             "gridcolor": "white",
             "linecolor": "white",
             "minorgridcolor": "white",
             "startlinecolor": "#2a3f5f"
            },
            "type": "carpet"
           }
          ],
          "choropleth": [
           {
            "colorbar": {
             "outlinewidth": 0,
             "ticks": ""
            },
            "type": "choropleth"
           }
          ],
          "contour": [
           {
            "colorbar": {
             "outlinewidth": 0,
             "ticks": ""
            },
            "colorscale": [
             [
              0,
              "#0d0887"
             ],
             [
              0.1111111111111111,
              "#46039f"
             ],
             [
              0.2222222222222222,
              "#7201a8"
             ],
             [
              0.3333333333333333,
              "#9c179e"
             ],
             [
              0.4444444444444444,
              "#bd3786"
             ],
             [
              0.5555555555555556,
              "#d8576b"
             ],
             [
              0.6666666666666666,
              "#ed7953"
             ],
             [
              0.7777777777777778,
              "#fb9f3a"
             ],
             [
              0.8888888888888888,
              "#fdca26"
             ],
             [
              1,
              "#f0f921"
             ]
            ],
            "type": "contour"
           }
          ],
          "contourcarpet": [
           {
            "colorbar": {
             "outlinewidth": 0,
             "ticks": ""
            },
            "type": "contourcarpet"
           }
          ],
          "heatmap": [
           {
            "colorbar": {
             "outlinewidth": 0,
             "ticks": ""
            },
            "colorscale": [
             [
              0,
              "#0d0887"
             ],
             [
              0.1111111111111111,
              "#46039f"
             ],
             [
              0.2222222222222222,
              "#7201a8"
             ],
             [
              0.3333333333333333,
              "#9c179e"
             ],
             [
              0.4444444444444444,
              "#bd3786"
             ],
             [
              0.5555555555555556,
              "#d8576b"
             ],
             [
              0.6666666666666666,
              "#ed7953"
             ],
             [
              0.7777777777777778,
              "#fb9f3a"
             ],
             [
              0.8888888888888888,
              "#fdca26"
             ],
             [
              1,
              "#f0f921"
             ]
            ],
            "type": "heatmap"
           }
          ],
          "heatmapgl": [
           {
            "colorbar": {
             "outlinewidth": 0,
             "ticks": ""
            },
            "colorscale": [
             [
              0,
              "#0d0887"
             ],
             [
              0.1111111111111111,
              "#46039f"
             ],
             [
              0.2222222222222222,
              "#7201a8"
             ],
             [
              0.3333333333333333,
              "#9c179e"
             ],
             [
              0.4444444444444444,
              "#bd3786"
             ],
             [
              0.5555555555555556,
              "#d8576b"
             ],
             [
              0.6666666666666666,
              "#ed7953"
             ],
             [
              0.7777777777777778,
              "#fb9f3a"
             ],
             [
              0.8888888888888888,
              "#fdca26"
             ],
             [
              1,
              "#f0f921"
             ]
            ],
            "type": "heatmapgl"
           }
          ],
          "histogram": [
           {
            "marker": {
             "pattern": {
              "fillmode": "overlay",
              "size": 10,
              "solidity": 0.2
             }
            },
            "type": "histogram"
           }
          ],
          "histogram2d": [
           {
            "colorbar": {
             "outlinewidth": 0,
             "ticks": ""
            },
            "colorscale": [
             [
              0,
              "#0d0887"
             ],
             [
              0.1111111111111111,
              "#46039f"
             ],
             [
              0.2222222222222222,
              "#7201a8"
             ],
             [
              0.3333333333333333,
              "#9c179e"
             ],
             [
              0.4444444444444444,
              "#bd3786"
             ],
             [
              0.5555555555555556,
              "#d8576b"
             ],
             [
              0.6666666666666666,
              "#ed7953"
             ],
             [
              0.7777777777777778,
              "#fb9f3a"
             ],
             [
              0.8888888888888888,
              "#fdca26"
             ],
             [
              1,
              "#f0f921"
             ]
            ],
            "type": "histogram2d"
           }
          ],
          "histogram2dcontour": [
           {
            "colorbar": {
             "outlinewidth": 0,
             "ticks": ""
            },
            "colorscale": [
             [
              0,
              "#0d0887"
             ],
             [
              0.1111111111111111,
              "#46039f"
             ],
             [
              0.2222222222222222,
              "#7201a8"
             ],
             [
              0.3333333333333333,
              "#9c179e"
             ],
             [
              0.4444444444444444,
              "#bd3786"
             ],
             [
              0.5555555555555556,
              "#d8576b"
             ],
             [
              0.6666666666666666,
              "#ed7953"
             ],
             [
              0.7777777777777778,
              "#fb9f3a"
             ],
             [
              0.8888888888888888,
              "#fdca26"
             ],
             [
              1,
              "#f0f921"
             ]
            ],
            "type": "histogram2dcontour"
           }
          ],
          "mesh3d": [
           {
            "colorbar": {
             "outlinewidth": 0,
             "ticks": ""
            },
            "type": "mesh3d"
           }
          ],
          "parcoords": [
           {
            "line": {
             "colorbar": {
              "outlinewidth": 0,
              "ticks": ""
             }
            },
            "type": "parcoords"
           }
          ],
          "pie": [
           {
            "automargin": true,
            "type": "pie"
           }
          ],
          "scatter": [
           {
            "fillpattern": {
             "fillmode": "overlay",
             "size": 10,
             "solidity": 0.2
            },
            "type": "scatter"
           }
          ],
          "scatter3d": [
           {
            "line": {
             "colorbar": {
              "outlinewidth": 0,
              "ticks": ""
             }
            },
            "marker": {
             "colorbar": {
              "outlinewidth": 0,
              "ticks": ""
             }
            },
            "type": "scatter3d"
           }
          ],
          "scattercarpet": [
           {
            "marker": {
             "colorbar": {
              "outlinewidth": 0,
              "ticks": ""
             }
            },
            "type": "scattercarpet"
           }
          ],
          "scattergeo": [
           {
            "marker": {
             "colorbar": {
              "outlinewidth": 0,
              "ticks": ""
             }
            },
            "type": "scattergeo"
           }
          ],
          "scattergl": [
           {
            "marker": {
             "colorbar": {
              "outlinewidth": 0,
              "ticks": ""
             }
            },
            "type": "scattergl"
           }
          ],
          "scattermapbox": [
           {
            "marker": {
             "colorbar": {
              "outlinewidth": 0,
              "ticks": ""
             }
            },
            "type": "scattermapbox"
           }
          ],
          "scatterpolar": [
           {
            "marker": {
             "colorbar": {
              "outlinewidth": 0,
              "ticks": ""
             }
            },
            "type": "scatterpolar"
           }
          ],
          "scatterpolargl": [
           {
            "marker": {
             "colorbar": {
              "outlinewidth": 0,
              "ticks": ""
             }
            },
            "type": "scatterpolargl"
           }
          ],
          "scatterternary": [
           {
            "marker": {
             "colorbar": {
              "outlinewidth": 0,
              "ticks": ""
             }
            },
            "type": "scatterternary"
           }
          ],
          "surface": [
           {
            "colorbar": {
             "outlinewidth": 0,
             "ticks": ""
            },
            "colorscale": [
             [
              0,
              "#0d0887"
             ],
             [
              0.1111111111111111,
              "#46039f"
             ],
             [
              0.2222222222222222,
              "#7201a8"
             ],
             [
              0.3333333333333333,
              "#9c179e"
             ],
             [
              0.4444444444444444,
              "#bd3786"
             ],
             [
              0.5555555555555556,
              "#d8576b"
             ],
             [
              0.6666666666666666,
              "#ed7953"
             ],
             [
              0.7777777777777778,
              "#fb9f3a"
             ],
             [
              0.8888888888888888,
              "#fdca26"
             ],
             [
              1,
              "#f0f921"
             ]
            ],
            "type": "surface"
           }
          ],
          "table": [
           {
            "cells": {
             "fill": {
              "color": "#EBF0F8"
             },
             "line": {
              "color": "white"
             }
            },
            "header": {
             "fill": {
              "color": "#C8D4E3"
             },
             "line": {
              "color": "white"
             }
            },
            "type": "table"
           }
          ]
         },
         "layout": {
          "annotationdefaults": {
           "arrowcolor": "#2a3f5f",
           "arrowhead": 0,
           "arrowwidth": 1
          },
          "autotypenumbers": "strict",
          "coloraxis": {
           "colorbar": {
            "outlinewidth": 0,
            "ticks": ""
           }
          },
          "colorscale": {
           "diverging": [
            [
             0,
             "#8e0152"
            ],
            [
             0.1,
             "#c51b7d"
            ],
            [
             0.2,
             "#de77ae"
            ],
            [
             0.3,
             "#f1b6da"
            ],
            [
             0.4,
             "#fde0ef"
            ],
            [
             0.5,
             "#f7f7f7"
            ],
            [
             0.6,
             "#e6f5d0"
            ],
            [
             0.7,
             "#b8e186"
            ],
            [
             0.8,
             "#7fbc41"
            ],
            [
             0.9,
             "#4d9221"
            ],
            [
             1,
             "#276419"
            ]
           ],
           "sequential": [
            [
             0,
             "#0d0887"
            ],
            [
             0.1111111111111111,
             "#46039f"
            ],
            [
             0.2222222222222222,
             "#7201a8"
            ],
            [
             0.3333333333333333,
             "#9c179e"
            ],
            [
             0.4444444444444444,
             "#bd3786"
            ],
            [
             0.5555555555555556,
             "#d8576b"
            ],
            [
             0.6666666666666666,
             "#ed7953"
            ],
            [
             0.7777777777777778,
             "#fb9f3a"
            ],
            [
             0.8888888888888888,
             "#fdca26"
            ],
            [
             1,
             "#f0f921"
            ]
           ],
           "sequentialminus": [
            [
             0,
             "#0d0887"
            ],
            [
             0.1111111111111111,
             "#46039f"
            ],
            [
             0.2222222222222222,
             "#7201a8"
            ],
            [
             0.3333333333333333,
             "#9c179e"
            ],
            [
             0.4444444444444444,
             "#bd3786"
            ],
            [
             0.5555555555555556,
             "#d8576b"
            ],
            [
             0.6666666666666666,
             "#ed7953"
            ],
            [
             0.7777777777777778,
             "#fb9f3a"
            ],
            [
             0.8888888888888888,
             "#fdca26"
            ],
            [
             1,
             "#f0f921"
            ]
           ]
          },
          "colorway": [
           "#636efa",
           "#EF553B",
           "#00cc96",
           "#ab63fa",
           "#FFA15A",
           "#19d3f3",
           "#FF6692",
           "#B6E880",
           "#FF97FF",
           "#FECB52"
          ],
          "font": {
           "color": "#2a3f5f"
          },
          "geo": {
           "bgcolor": "white",
           "lakecolor": "white",
           "landcolor": "#E5ECF6",
           "showlakes": true,
           "showland": true,
           "subunitcolor": "white"
          },
          "hoverlabel": {
           "align": "left"
          },
          "hovermode": "closest",
          "mapbox": {
           "style": "light"
          },
          "paper_bgcolor": "white",
          "plot_bgcolor": "#E5ECF6",
          "polar": {
           "angularaxis": {
            "gridcolor": "white",
            "linecolor": "white",
            "ticks": ""
           },
           "bgcolor": "#E5ECF6",
           "radialaxis": {
            "gridcolor": "white",
            "linecolor": "white",
            "ticks": ""
           }
          },
          "scene": {
           "xaxis": {
            "backgroundcolor": "#E5ECF6",
            "gridcolor": "white",
            "gridwidth": 2,
            "linecolor": "white",
            "showbackground": true,
            "ticks": "",
            "zerolinecolor": "white"
           },
           "yaxis": {
            "backgroundcolor": "#E5ECF6",
            "gridcolor": "white",
            "gridwidth": 2,
            "linecolor": "white",
            "showbackground": true,
            "ticks": "",
            "zerolinecolor": "white"
           },
           "zaxis": {
            "backgroundcolor": "#E5ECF6",
            "gridcolor": "white",
            "gridwidth": 2,
            "linecolor": "white",
            "showbackground": true,
            "ticks": "",
            "zerolinecolor": "white"
           }
          },
          "shapedefaults": {
           "line": {
            "color": "#2a3f5f"
           }
          },
          "ternary": {
           "aaxis": {
            "gridcolor": "white",
            "linecolor": "white",
            "ticks": ""
           },
           "baxis": {
            "gridcolor": "white",
            "linecolor": "white",
            "ticks": ""
           },
           "bgcolor": "#E5ECF6",
           "caxis": {
            "gridcolor": "white",
            "linecolor": "white",
            "ticks": ""
           }
          },
          "title": {
           "x": 0.05
          },
          "xaxis": {
           "automargin": true,
           "gridcolor": "white",
           "linecolor": "white",
           "ticks": "",
           "title": {
            "standoff": 15
           },
           "zerolinecolor": "white",
           "zerolinewidth": 2
          },
          "yaxis": {
           "automargin": true,
           "gridcolor": "white",
           "linecolor": "white",
           "ticks": "",
           "title": {
            "standoff": 15
           },
           "zerolinecolor": "white",
           "zerolinewidth": 2
          }
         }
        },
        "title": {
         "text": ""
        }
       }
      },
      "text/html": [
       "<div>                            <div id=\"9ae54390-6c5b-4c66-8288-3ef49a53659b\" class=\"plotly-graph-div\" style=\"height:525px; width:100%;\"></div>            <script type=\"text/javascript\">                require([\"plotly\"], function(Plotly) {                    window.PLOTLYENV=window.PLOTLYENV || {};                                    if (document.getElementById(\"9ae54390-6c5b-4c66-8288-3ef49a53659b\")) {                    Plotly.newPlot(                        \"9ae54390-6c5b-4c66-8288-3ef49a53659b\",                        [{\"mode\":\"lines\",\"name\":\"catch_sum\",\"x\":[1950,1951,1952,1953,1954,1955,1956,1957,1958,1959,1960,1961,1962,1963,1964,1965,1966,1967,1968,1969,1970,1971,1972,1973,1974,1975,1976,1977,1978,1979,1980,1981,1982,1983,1984,1985,1986,1987,1988,1989,1990,1991,1992,1993,1994,1995,1996,1997,1998,1999,2000,2001,2002,2003,2004,2005,2006,2007,2008,2009,2010,2011,2012,2013,2014,2015,2016,2017,2018],\"y\":[149961.1840403748,178877.8991927216,203521.2897078919,228292.6206685209,264481.7357808441,314401.097735693,362329.311269271,415856.1950142951,461245.8691241796,540241.3472359075,486910.25505254697,519776.3199009597,644794.966440739,731249.9634587372,764341.3144293841,752583.0010433348,760056.8905379556,926004.3897959172,1326573.4642832575,1252865.423473334,1227205.5024680265,1298320.210979616,1335340.632292155,1310284.3387012172,1699317.8874217465,1587374.469140093,1736540.0394783732,1596328.457072035,1542397.6907915804,1557516.0177693407,1812697.3894098185,1593011.8974076344,1691040.4788868888,1635834.5284590672,1606471.6646698532,1556937.7398430556,1643666.6141575633,1508238.952782882,1768041.11313084,1745078.2868724372,1334997.1352594958,1594466.728942171,1775067.4095062464,1421116.1439223115,1639222.4858251428,1826475.8056134463,1426921.0082564855,1538346.4467829147,1359062.820004249,1203078.577679447,1370465.9182987818,1338203.6909557604,1333295.066832736,948616.0546318776,997884.7970919835,818234.8885956551,772836.0277458477,544945.724901243,601945.4120743338,675265.435762824,734516.3832398548,639435.5740347393,441581.7718910327,592528.8776328278,662167.6204704572,779566.4064381259,561554.7443745257,783932.0691281771,546543.9712384811],\"type\":\"scatter\"}],                        {\"template\":{\"data\":{\"barpolar\":[{\"marker\":{\"line\":{\"color\":\"#E5ECF6\",\"width\":0.5},\"pattern\":{\"fillmode\":\"overlay\",\"size\":10,\"solidity\":0.2}},\"type\":\"barpolar\"}],\"bar\":[{\"error_x\":{\"color\":\"#2a3f5f\"},\"error_y\":{\"color\":\"#2a3f5f\"},\"marker\":{\"line\":{\"color\":\"#E5ECF6\",\"width\":0.5},\"pattern\":{\"fillmode\":\"overlay\",\"size\":10,\"solidity\":0.2}},\"type\":\"bar\"}],\"carpet\":[{\"aaxis\":{\"endlinecolor\":\"#2a3f5f\",\"gridcolor\":\"white\",\"linecolor\":\"white\",\"minorgridcolor\":\"white\",\"startlinecolor\":\"#2a3f5f\"},\"baxis\":{\"endlinecolor\":\"#2a3f5f\",\"gridcolor\":\"white\",\"linecolor\":\"white\",\"minorgridcolor\":\"white\",\"startlinecolor\":\"#2a3f5f\"},\"type\":\"carpet\"}],\"choropleth\":[{\"colorbar\":{\"outlinewidth\":0,\"ticks\":\"\"},\"type\":\"choropleth\"}],\"contourcarpet\":[{\"colorbar\":{\"outlinewidth\":0,\"ticks\":\"\"},\"type\":\"contourcarpet\"}],\"contour\":[{\"colorbar\":{\"outlinewidth\":0,\"ticks\":\"\"},\"colorscale\":[[0.0,\"#0d0887\"],[0.1111111111111111,\"#46039f\"],[0.2222222222222222,\"#7201a8\"],[0.3333333333333333,\"#9c179e\"],[0.4444444444444444,\"#bd3786\"],[0.5555555555555556,\"#d8576b\"],[0.6666666666666666,\"#ed7953\"],[0.7777777777777778,\"#fb9f3a\"],[0.8888888888888888,\"#fdca26\"],[1.0,\"#f0f921\"]],\"type\":\"contour\"}],\"heatmapgl\":[{\"colorbar\":{\"outlinewidth\":0,\"ticks\":\"\"},\"colorscale\":[[0.0,\"#0d0887\"],[0.1111111111111111,\"#46039f\"],[0.2222222222222222,\"#7201a8\"],[0.3333333333333333,\"#9c179e\"],[0.4444444444444444,\"#bd3786\"],[0.5555555555555556,\"#d8576b\"],[0.6666666666666666,\"#ed7953\"],[0.7777777777777778,\"#fb9f3a\"],[0.8888888888888888,\"#fdca26\"],[1.0,\"#f0f921\"]],\"type\":\"heatmapgl\"}],\"heatmap\":[{\"colorbar\":{\"outlinewidth\":0,\"ticks\":\"\"},\"colorscale\":[[0.0,\"#0d0887\"],[0.1111111111111111,\"#46039f\"],[0.2222222222222222,\"#7201a8\"],[0.3333333333333333,\"#9c179e\"],[0.4444444444444444,\"#bd3786\"],[0.5555555555555556,\"#d8576b\"],[0.6666666666666666,\"#ed7953\"],[0.7777777777777778,\"#fb9f3a\"],[0.8888888888888888,\"#fdca26\"],[1.0,\"#f0f921\"]],\"type\":\"heatmap\"}],\"histogram2dcontour\":[{\"colorbar\":{\"outlinewidth\":0,\"ticks\":\"\"},\"colorscale\":[[0.0,\"#0d0887\"],[0.1111111111111111,\"#46039f\"],[0.2222222222222222,\"#7201a8\"],[0.3333333333333333,\"#9c179e\"],[0.4444444444444444,\"#bd3786\"],[0.5555555555555556,\"#d8576b\"],[0.6666666666666666,\"#ed7953\"],[0.7777777777777778,\"#fb9f3a\"],[0.8888888888888888,\"#fdca26\"],[1.0,\"#f0f921\"]],\"type\":\"histogram2dcontour\"}],\"histogram2d\":[{\"colorbar\":{\"outlinewidth\":0,\"ticks\":\"\"},\"colorscale\":[[0.0,\"#0d0887\"],[0.1111111111111111,\"#46039f\"],[0.2222222222222222,\"#7201a8\"],[0.3333333333333333,\"#9c179e\"],[0.4444444444444444,\"#bd3786\"],[0.5555555555555556,\"#d8576b\"],[0.6666666666666666,\"#ed7953\"],[0.7777777777777778,\"#fb9f3a\"],[0.8888888888888888,\"#fdca26\"],[1.0,\"#f0f921\"]],\"type\":\"histogram2d\"}],\"histogram\":[{\"marker\":{\"pattern\":{\"fillmode\":\"overlay\",\"size\":10,\"solidity\":0.2}},\"type\":\"histogram\"}],\"mesh3d\":[{\"colorbar\":{\"outlinewidth\":0,\"ticks\":\"\"},\"type\":\"mesh3d\"}],\"parcoords\":[{\"line\":{\"colorbar\":{\"outlinewidth\":0,\"ticks\":\"\"}},\"type\":\"parcoords\"}],\"pie\":[{\"automargin\":true,\"type\":\"pie\"}],\"scatter3d\":[{\"line\":{\"colorbar\":{\"outlinewidth\":0,\"ticks\":\"\"}},\"marker\":{\"colorbar\":{\"outlinewidth\":0,\"ticks\":\"\"}},\"type\":\"scatter3d\"}],\"scattercarpet\":[{\"marker\":{\"colorbar\":{\"outlinewidth\":0,\"ticks\":\"\"}},\"type\":\"scattercarpet\"}],\"scattergeo\":[{\"marker\":{\"colorbar\":{\"outlinewidth\":0,\"ticks\":\"\"}},\"type\":\"scattergeo\"}],\"scattergl\":[{\"marker\":{\"colorbar\":{\"outlinewidth\":0,\"ticks\":\"\"}},\"type\":\"scattergl\"}],\"scattermapbox\":[{\"marker\":{\"colorbar\":{\"outlinewidth\":0,\"ticks\":\"\"}},\"type\":\"scattermapbox\"}],\"scatterpolargl\":[{\"marker\":{\"colorbar\":{\"outlinewidth\":0,\"ticks\":\"\"}},\"type\":\"scatterpolargl\"}],\"scatterpolar\":[{\"marker\":{\"colorbar\":{\"outlinewidth\":0,\"ticks\":\"\"}},\"type\":\"scatterpolar\"}],\"scatter\":[{\"fillpattern\":{\"fillmode\":\"overlay\",\"size\":10,\"solidity\":0.2},\"type\":\"scatter\"}],\"scatterternary\":[{\"marker\":{\"colorbar\":{\"outlinewidth\":0,\"ticks\":\"\"}},\"type\":\"scatterternary\"}],\"surface\":[{\"colorbar\":{\"outlinewidth\":0,\"ticks\":\"\"},\"colorscale\":[[0.0,\"#0d0887\"],[0.1111111111111111,\"#46039f\"],[0.2222222222222222,\"#7201a8\"],[0.3333333333333333,\"#9c179e\"],[0.4444444444444444,\"#bd3786\"],[0.5555555555555556,\"#d8576b\"],[0.6666666666666666,\"#ed7953\"],[0.7777777777777778,\"#fb9f3a\"],[0.8888888888888888,\"#fdca26\"],[1.0,\"#f0f921\"]],\"type\":\"surface\"}],\"table\":[{\"cells\":{\"fill\":{\"color\":\"#EBF0F8\"},\"line\":{\"color\":\"white\"}},\"header\":{\"fill\":{\"color\":\"#C8D4E3\"},\"line\":{\"color\":\"white\"}},\"type\":\"table\"}]},\"layout\":{\"annotationdefaults\":{\"arrowcolor\":\"#2a3f5f\",\"arrowhead\":0,\"arrowwidth\":1},\"autotypenumbers\":\"strict\",\"coloraxis\":{\"colorbar\":{\"outlinewidth\":0,\"ticks\":\"\"}},\"colorscale\":{\"diverging\":[[0,\"#8e0152\"],[0.1,\"#c51b7d\"],[0.2,\"#de77ae\"],[0.3,\"#f1b6da\"],[0.4,\"#fde0ef\"],[0.5,\"#f7f7f7\"],[0.6,\"#e6f5d0\"],[0.7,\"#b8e186\"],[0.8,\"#7fbc41\"],[0.9,\"#4d9221\"],[1,\"#276419\"]],\"sequential\":[[0.0,\"#0d0887\"],[0.1111111111111111,\"#46039f\"],[0.2222222222222222,\"#7201a8\"],[0.3333333333333333,\"#9c179e\"],[0.4444444444444444,\"#bd3786\"],[0.5555555555555556,\"#d8576b\"],[0.6666666666666666,\"#ed7953\"],[0.7777777777777778,\"#fb9f3a\"],[0.8888888888888888,\"#fdca26\"],[1.0,\"#f0f921\"]],\"sequentialminus\":[[0.0,\"#0d0887\"],[0.1111111111111111,\"#46039f\"],[0.2222222222222222,\"#7201a8\"],[0.3333333333333333,\"#9c179e\"],[0.4444444444444444,\"#bd3786\"],[0.5555555555555556,\"#d8576b\"],[0.6666666666666666,\"#ed7953\"],[0.7777777777777778,\"#fb9f3a\"],[0.8888888888888888,\"#fdca26\"],[1.0,\"#f0f921\"]]},\"colorway\":[\"#636efa\",\"#EF553B\",\"#00cc96\",\"#ab63fa\",\"#FFA15A\",\"#19d3f3\",\"#FF6692\",\"#B6E880\",\"#FF97FF\",\"#FECB52\"],\"font\":{\"color\":\"#2a3f5f\"},\"geo\":{\"bgcolor\":\"white\",\"lakecolor\":\"white\",\"landcolor\":\"#E5ECF6\",\"showlakes\":true,\"showland\":true,\"subunitcolor\":\"white\"},\"hoverlabel\":{\"align\":\"left\"},\"hovermode\":\"closest\",\"mapbox\":{\"style\":\"light\"},\"paper_bgcolor\":\"white\",\"plot_bgcolor\":\"#E5ECF6\",\"polar\":{\"angularaxis\":{\"gridcolor\":\"white\",\"linecolor\":\"white\",\"ticks\":\"\"},\"bgcolor\":\"#E5ECF6\",\"radialaxis\":{\"gridcolor\":\"white\",\"linecolor\":\"white\",\"ticks\":\"\"}},\"scene\":{\"xaxis\":{\"backgroundcolor\":\"#E5ECF6\",\"gridcolor\":\"white\",\"gridwidth\":2,\"linecolor\":\"white\",\"showbackground\":true,\"ticks\":\"\",\"zerolinecolor\":\"white\"},\"yaxis\":{\"backgroundcolor\":\"#E5ECF6\",\"gridcolor\":\"white\",\"gridwidth\":2,\"linecolor\":\"white\",\"showbackground\":true,\"ticks\":\"\",\"zerolinecolor\":\"white\"},\"zaxis\":{\"backgroundcolor\":\"#E5ECF6\",\"gridcolor\":\"white\",\"gridwidth\":2,\"linecolor\":\"white\",\"showbackground\":true,\"ticks\":\"\",\"zerolinecolor\":\"white\"}},\"shapedefaults\":{\"line\":{\"color\":\"#2a3f5f\"}},\"ternary\":{\"aaxis\":{\"gridcolor\":\"white\",\"linecolor\":\"white\",\"ticks\":\"\"},\"baxis\":{\"gridcolor\":\"white\",\"linecolor\":\"white\",\"ticks\":\"\"},\"bgcolor\":\"#E5ECF6\",\"caxis\":{\"gridcolor\":\"white\",\"linecolor\":\"white\",\"ticks\":\"\"}},\"title\":{\"x\":0.05},\"xaxis\":{\"automargin\":true,\"gridcolor\":\"white\",\"linecolor\":\"white\",\"ticks\":\"\",\"title\":{\"standoff\":15},\"zerolinecolor\":\"white\",\"zerolinewidth\":2},\"yaxis\":{\"automargin\":true,\"gridcolor\":\"white\",\"linecolor\":\"white\",\"ticks\":\"\",\"title\":{\"standoff\":15},\"zerolinecolor\":\"white\",\"zerolinewidth\":2}}},\"title\":{\"text\":\"\"}},                        {\"responsive\": true}                    ).then(function(){\n",
       "                            \n",
       "var gd = document.getElementById('9ae54390-6c5b-4c66-8288-3ef49a53659b');\n",
       "var x = new MutationObserver(function (mutations, observer) {{\n",
       "        var display = window.getComputedStyle(gd).display;\n",
       "        if (!display || display === 'none') {{\n",
       "            console.log([gd, 'removed!']);\n",
       "            Plotly.purge(gd);\n",
       "            observer.disconnect();\n",
       "        }}\n",
       "}});\n",
       "\n",
       "// Listen for the removal of the full notebook cells\n",
       "var notebookContainer = gd.closest('#notebook-container');\n",
       "if (notebookContainer) {{\n",
       "    x.observe(notebookContainer, {childList: true});\n",
       "}}\n",
       "\n",
       "// Listen for the clearing of the current output cell\n",
       "var outputEl = gd.closest('.output');\n",
       "if (outputEl) {{\n",
       "    x.observe(outputEl, {childList: true});\n",
       "}}\n",
       "\n",
       "                        })                };                });            </script>        </div>"
      ]
     },
     "metadata": {},
     "output_type": "display_data"
    }
   ],
   "source": [
    "plotly_df(pred)"
   ]
  },
  {
   "cell_type": "markdown",
   "id": "403593f1",
   "metadata": {},
   "source": [
    "## Прогноз улова рыбы"
   ]
  },
  {
   "cell_type": "code",
   "execution_count": 16,
   "id": "9c215346",
   "metadata": {
    "ExecuteTime": {
     "end_time": "2023-06-14T20:05:08.794178Z",
     "start_time": "2023-06-14T20:05:08.776920Z"
    }
   },
   "outputs": [],
   "source": [
    "predictions = 15\n",
    "df1 = pred.reset_index()\n",
    "df1['year'] = pd.to_datetime(df1.year, format='%Y')\n",
    "df1.columns = ['ds', 'y']"
   ]
  },
  {
   "cell_type": "code",
   "execution_count": 17,
   "id": "5745c717",
   "metadata": {
    "ExecuteTime": {
     "end_time": "2023-06-14T20:05:09.072932Z",
     "start_time": "2023-06-14T20:05:09.062969Z"
    }
   },
   "outputs": [
    {
     "data": {
      "text/html": [
       "<div>\n",
       "<style scoped>\n",
       "    .dataframe tbody tr th:only-of-type {\n",
       "        vertical-align: middle;\n",
       "    }\n",
       "\n",
       "    .dataframe tbody tr th {\n",
       "        vertical-align: top;\n",
       "    }\n",
       "\n",
       "    .dataframe thead th {\n",
       "        text-align: right;\n",
       "    }\n",
       "</style>\n",
       "<table border=\"1\" class=\"dataframe\">\n",
       "  <thead>\n",
       "    <tr style=\"text-align: right;\">\n",
       "      <th></th>\n",
       "      <th>ds</th>\n",
       "      <th>y</th>\n",
       "    </tr>\n",
       "  </thead>\n",
       "  <tbody>\n",
       "    <tr>\n",
       "      <th>0</th>\n",
       "      <td>1950-01-01</td>\n",
       "      <td>149961.184040</td>\n",
       "    </tr>\n",
       "    <tr>\n",
       "      <th>1</th>\n",
       "      <td>1951-01-01</td>\n",
       "      <td>178877.899193</td>\n",
       "    </tr>\n",
       "    <tr>\n",
       "      <th>2</th>\n",
       "      <td>1952-01-01</td>\n",
       "      <td>203521.289708</td>\n",
       "    </tr>\n",
       "    <tr>\n",
       "      <th>3</th>\n",
       "      <td>1953-01-01</td>\n",
       "      <td>228292.620669</td>\n",
       "    </tr>\n",
       "    <tr>\n",
       "      <th>4</th>\n",
       "      <td>1954-01-01</td>\n",
       "      <td>264481.735781</td>\n",
       "    </tr>\n",
       "    <tr>\n",
       "      <th>...</th>\n",
       "      <td>...</td>\n",
       "      <td>...</td>\n",
       "    </tr>\n",
       "    <tr>\n",
       "      <th>64</th>\n",
       "      <td>2014-01-01</td>\n",
       "      <td>662167.620470</td>\n",
       "    </tr>\n",
       "    <tr>\n",
       "      <th>65</th>\n",
       "      <td>2015-01-01</td>\n",
       "      <td>779566.406438</td>\n",
       "    </tr>\n",
       "    <tr>\n",
       "      <th>66</th>\n",
       "      <td>2016-01-01</td>\n",
       "      <td>561554.744375</td>\n",
       "    </tr>\n",
       "    <tr>\n",
       "      <th>67</th>\n",
       "      <td>2017-01-01</td>\n",
       "      <td>783932.069128</td>\n",
       "    </tr>\n",
       "    <tr>\n",
       "      <th>68</th>\n",
       "      <td>2018-01-01</td>\n",
       "      <td>546543.971238</td>\n",
       "    </tr>\n",
       "  </tbody>\n",
       "</table>\n",
       "<p>69 rows × 2 columns</p>\n",
       "</div>"
      ],
      "text/plain": [
       "           ds              y\n",
       "0  1950-01-01  149961.184040\n",
       "1  1951-01-01  178877.899193\n",
       "2  1952-01-01  203521.289708\n",
       "3  1953-01-01  228292.620669\n",
       "4  1954-01-01  264481.735781\n",
       "..        ...            ...\n",
       "64 2014-01-01  662167.620470\n",
       "65 2015-01-01  779566.406438\n",
       "66 2016-01-01  561554.744375\n",
       "67 2017-01-01  783932.069128\n",
       "68 2018-01-01  546543.971238\n",
       "\n",
       "[69 rows x 2 columns]"
      ]
     },
     "execution_count": 17,
     "metadata": {},
     "output_type": "execute_result"
    }
   ],
   "source": [
    "df1"
   ]
  },
  {
   "cell_type": "code",
   "execution_count": 18,
   "id": "e0e97d58",
   "metadata": {
    "ExecuteTime": {
     "end_time": "2023-06-14T20:05:09.242923Z",
     "start_time": "2023-06-14T20:05:09.236936Z"
    }
   },
   "outputs": [],
   "source": [
    "train_df = df1[:-predictions] "
   ]
  },
  {
   "cell_type": "code",
   "execution_count": 19,
   "id": "01711d47",
   "metadata": {
    "ExecuteTime": {
     "end_time": "2023-06-14T20:05:10.695512Z",
     "start_time": "2023-06-14T20:05:09.378954Z"
    }
   },
   "outputs": [
    {
     "name": "stderr",
     "output_type": "stream",
     "text": [
      "23:05:10 - cmdstanpy - INFO - Chain [1] start processing\n",
      "23:05:10 - cmdstanpy - INFO - Chain [1] done processing\n"
     ]
    }
   ],
   "source": [
    "m = Prophet(seasonality_mode='multiplicative').fit(train_df)\n",
    "future = m.make_future_dataframe(periods=predictions, freq=\"AS\")\n",
    "fcst = m.predict(future)\n"
   ]
  },
  {
   "cell_type": "code",
   "execution_count": null,
   "id": "5a4ab074",
   "metadata": {
    "ExecuteTime": {
     "end_time": "2023-06-14T19:36:26.040320Z",
     "start_time": "2023-06-14T19:36:26.021406Z"
    }
   },
   "outputs": [],
   "source": []
  },
  {
   "cell_type": "code",
   "execution_count": 20,
   "id": "0d456596",
   "metadata": {
    "ExecuteTime": {
     "end_time": "2023-06-14T20:05:10.711448Z",
     "start_time": "2023-06-14T20:05:10.696495Z"
    }
   },
   "outputs": [
    {
     "name": "stdout",
     "output_type": "stream",
     "text": [
      "MAPE 29.491152286325704\n",
      "MAE 187706.8849846026\n"
     ]
    }
   ],
   "source": [
    "cmp_df = fcst.set_index('ds')[['yhat', 'yhat_lower', 'yhat_upper']].join(df1.set_index('ds'))\n",
    "cmp_df['e'] = cmp_df['y'] - cmp_df['yhat']\n",
    "cmp_df['p'] = 100*cmp_df['e']/cmp_df['y']\n",
    "print('MAPE', np.mean(abs(cmp_df[-predictions:]['p'])))\n",
    "print('MAE', np.mean(abs(cmp_df[-predictions:]['e'])))"
   ]
  },
  {
   "cell_type": "markdown",
   "id": "df449e2a",
   "metadata": {
    "ExecuteTime": {
     "end_time": "2023-06-14T19:41:26.366087Z",
     "start_time": "2023-06-14T19:41:26.344165Z"
    }
   },
   "source": [
    "Получили MAPE - 29 %"
   ]
  },
  {
   "cell_type": "code",
   "execution_count": 21,
   "id": "36638761",
   "metadata": {
    "ExecuteTime": {
     "end_time": "2023-06-14T20:05:11.928200Z",
     "start_time": "2023-06-14T20:05:11.516802Z"
    }
   },
   "outputs": [
    {
     "data": {
      "image/png": "[encoded data removed]",
      "text/plain": [
       "<Figure size 1000x600 with 1 Axes>"
      ]
     },
     "execution_count": 21,
     "metadata": {},
     "output_type": "execute_result"
    },
    {
     "data": {
      "image/png": "[encoded data removed]",
      "text/plain": [
       "<Figure size 1000x600 with 1 Axes>"
      ]
     },
     "metadata": {},
     "output_type": "display_data"
    }
   ],
   "source": [
    "m.plot(fcst)"
   ]
  },
  {
   "cell_type": "code",
   "execution_count": 22,
   "id": "0adeafb3",
   "metadata": {
    "ExecuteTime": {
     "end_time": "2023-06-14T20:05:11.976127Z",
     "start_time": "2023-06-14T20:05:11.929197Z"
    }
   },
   "outputs": [
    {
     "data": {
      "application/vnd.plotly.v1+json": {
       "config": {
        "linkText": "Export to plot.ly",
        "plotlyServerURL": "https://plot.ly",
        "showLink": false
       },
       "data": [
        {
         "line": {
          "width": 0
         },
         "marker": {
          "color": "lightblue"
         },
         "mode": "lines",
         "name": "Lower Bound",
         "type": "scatter",
         "x": [
          "2004-01-01T00:00:00",
          "2005-01-01T00:00:00",
          "2006-01-01T00:00:00",
          "2007-01-01T00:00:00",
          "2008-01-01T00:00:00",
          "2009-01-01T00:00:00",
          "2010-01-01T00:00:00",
          "2011-01-01T00:00:00",
          "2012-01-01T00:00:00",
          "2013-01-01T00:00:00",
          "2014-01-01T00:00:00",
          "2015-01-01T00:00:00",
          "2016-01-01T00:00:00",
          "2017-01-01T00:00:00",
          "2018-01-01T00:00:00"
         ],
         "y": [
          1000616.9867779589,
          915187.7404818507,
          880018.4876230153,
          844135.5433826155,
          796204.8993972925,
          691890.5202632357,
          629576.1732307445,
          568990.5700986213,
          506005.3244400964,
          395632.52361857006,
          311524.9285445956,
          229451.22667947572,
          117354.47048685318,
          36422.014983931615,
          -79129.8010863752
         ]
        },
        {
         "fill": "tonexty",
         "fillcolor": "rgba(68, 68, 68, 0.3)",
         "line": {
          "width": 0
         },
         "marker": {
          "color": "burlywood"
         },
         "mode": "lines",
         "name": "Upper Bound",
         "type": "scatter",
         "x": [
          "2004-01-01T00:00:00",
          "2005-01-01T00:00:00",
          "2006-01-01T00:00:00",
          "2007-01-01T00:00:00",
          "2008-01-01T00:00:00",
          "2009-01-01T00:00:00",
          "2010-01-01T00:00:00",
          "2011-01-01T00:00:00",
          "2012-01-01T00:00:00",
          "2013-01-01T00:00:00",
          "2014-01-01T00:00:00",
          "2015-01-01T00:00:00",
          "2016-01-01T00:00:00",
          "2017-01-01T00:00:00",
          "2018-01-01T00:00:00"
         ],
         "y": [
          1275574.2220889775,
          1186487.341107194,
          1153748.2001573602,
          1129208.9944579024,
          1097597.86146998,
          1042446.6801686769,
          1030765.4725605841,
          1014779.9919840996,
          1023550.4640848974,
          969296.4942996578,
          969905.4912595233,
          984675.1380224267,
          987487.54119497,
          950499.4999008965,
          948803.3308688463
         ]
        },
        {
         "line": {
          "color": "rgb(31, 119, 180)"
         },
         "mode": "lines",
         "name": "Prediction",
         "type": "scatter",
         "x": [
          "2004-01-01T00:00:00",
          "2005-01-01T00:00:00",
          "2006-01-01T00:00:00",
          "2007-01-01T00:00:00",
          "2008-01-01T00:00:00",
          "2009-01-01T00:00:00",
          "2010-01-01T00:00:00",
          "2011-01-01T00:00:00",
          "2012-01-01T00:00:00",
          "2013-01-01T00:00:00",
          "2014-01-01T00:00:00",
          "2015-01-01T00:00:00",
          "2016-01-01T00:00:00",
          "2017-01-01T00:00:00",
          "2018-01-01T00:00:00"
         ],
         "y": [
          1137080.7205235616,
          1050570.701168995,
          1018109.6925742675,
          983786.2454470329,
          947681.8203657835,
          867961.6988045077,
          833109.3928995484,
          796521.7282397171,
          758282.9202079435,
          685352.6964401712,
          648109.0932248529,
          609257.2110323468,
          568884.0200501075,
          502743.69407572073,
          463108.79355005076
         ]
        },
        {
         "marker": {
          "color": "red"
         },
         "mode": "lines",
         "name": "Fact",
         "type": "scatter",
         "x": [
          "1950-01-01T00:00:00",
          "1951-01-01T00:00:00",
          "1952-01-01T00:00:00",
          "1953-01-01T00:00:00",
          "1954-01-01T00:00:00",
          "1955-01-01T00:00:00",
          "1956-01-01T00:00:00",
          "1957-01-01T00:00:00",
          "1958-01-01T00:00:00",
          "1959-01-01T00:00:00",
          "1960-01-01T00:00:00",
          "1961-01-01T00:00:00",
          "1962-01-01T00:00:00",
          "1963-01-01T00:00:00",
          "1964-01-01T00:00:00",
          "1965-01-01T00:00:00",
          "1966-01-01T00:00:00",
          "1967-01-01T00:00:00",
          "1968-01-01T00:00:00",
          "1969-01-01T00:00:00",
          "1970-01-01T00:00:00",
          "1971-01-01T00:00:00",
          "1972-01-01T00:00:00",
          "1973-01-01T00:00:00",
          "1974-01-01T00:00:00",
          "1975-01-01T00:00:00",
          "1976-01-01T00:00:00",
          "1977-01-01T00:00:00",
          "1978-01-01T00:00:00",
          "1979-01-01T00:00:00",
          "1980-01-01T00:00:00",
          "1981-01-01T00:00:00",
          "1982-01-01T00:00:00",
          "1983-01-01T00:00:00",
          "1984-01-01T00:00:00",
          "1985-01-01T00:00:00",
          "1986-01-01T00:00:00",
          "1987-01-01T00:00:00",
          "1988-01-01T00:00:00",
          "1989-01-01T00:00:00",
          "1990-01-01T00:00:00",
          "1991-01-01T00:00:00",
          "1992-01-01T00:00:00",
          "1993-01-01T00:00:00",
          "1994-01-01T00:00:00",
          "1995-01-01T00:00:00",
          "1996-01-01T00:00:00",
          "1997-01-01T00:00:00",
          "1998-01-01T00:00:00",
          "1999-01-01T00:00:00",
          "2000-01-01T00:00:00",
          "2001-01-01T00:00:00",
          "2002-01-01T00:00:00",
          "2003-01-01T00:00:00",
          "2004-01-01T00:00:00",
          "2005-01-01T00:00:00",
          "2006-01-01T00:00:00",
          "2007-01-01T00:00:00",
          "2008-01-01T00:00:00",
          "2009-01-01T00:00:00",
          "2010-01-01T00:00:00",
          "2011-01-01T00:00:00",
          "2012-01-01T00:00:00",
          "2013-01-01T00:00:00",
          "2014-01-01T00:00:00",
          "2015-01-01T00:00:00",
          "2016-01-01T00:00:00",
          "2017-01-01T00:00:00",
          "2018-01-01T00:00:00"
         ],
         "y": [
          149961.1840403748,
          178877.8991927216,
          203521.2897078919,
          228292.6206685209,
          264481.7357808441,
          314401.097735693,
          362329.311269271,
          415856.1950142951,
          461245.8691241796,
          540241.3472359075,
          486910.25505254697,
          519776.3199009597,
          644794.966440739,
          731249.9634587372,
          764341.3144293841,
          752583.0010433348,
          760056.8905379556,
          926004.3897959172,
          1326573.4642832575,
          1252865.423473334,
          1227205.5024680265,
          1298320.210979616,
          1335340.632292155,
          1310284.3387012172,
          1699317.8874217465,
          1587374.469140093,
          1736540.0394783732,
          1596328.457072035,
          1542397.6907915804,
          1557516.0177693407,
          1812697.3894098185,
          1593011.8974076344,
          1691040.4788868888,
          1635834.5284590672,
          1606471.6646698532,
          1556937.7398430556,
          1643666.6141575633,
          1508238.952782882,
          1768041.11313084,
          1745078.2868724372,
          1334997.1352594958,
          1594466.728942171,
          1775067.4095062464,
          1421116.1439223115,
          1639222.4858251428,
          1826475.8056134463,
          1426921.0082564855,
          1538346.4467829147,
          1359062.820004249,
          1203078.577679447,
          1370465.9182987818,
          1338203.6909557604,
          1333295.066832736,
          948616.0546318776,
          997884.7970919835,
          818234.8885956551,
          772836.0277458477,
          544945.724901243,
          601945.4120743338,
          675265.435762824,
          734516.3832398548,
          639435.5740347393,
          441581.7718910327,
          592528.8776328278,
          662167.6204704572,
          779566.4064381259,
          561554.7443745257,
          783932.0691281771,
          546543.9712384811
         ]
        }
       ],
       "layout": {
        "showlegend": false,
        "template": {
         "data": {
          "bar": [
           {
            "error_x": {
             "color": "#2a3f5f"
            },
            "error_y": {
             "color": "#2a3f5f"
            },
            "marker": {
             "line": {
              "color": "#E5ECF6",
              "width": 0.5
             },
             "pattern": {
              "fillmode": "overlay",
              "size": 10,
              "solidity": 0.2
             }
            },
            "type": "bar"
           }
          ],
          "barpolar": [
           {
            "marker": {
             "line": {
              "color": "#E5ECF6",
              "width": 0.5
             },
             "pattern": {
              "fillmode": "overlay",
              "size": 10,
              "solidity": 0.2
             }
            },
            "type": "barpolar"
           }
          ],
          "carpet": [
           {
            "aaxis": {
             "endlinecolor": "#2a3f5f",
             "gridcolor": "white",
             "linecolor": "white",
             "minorgridcolor": "white",
             "startlinecolor": "#2a3f5f"
            },
            "baxis": {
             "endlinecolor": "#2a3f5f",
             "gridcolor": "white",
             "linecolor": "white",
             "minorgridcolor": "white",
             "startlinecolor": "#2a3f5f"
            },
            "type": "carpet"
           }
          ],
          "choropleth": [
           {
            "colorbar": {
             "outlinewidth": 0,
             "ticks": ""
            },
            "type": "choropleth"
           }
          ],
          "contour": [
           {
            "colorbar": {
             "outlinewidth": 0,
             "ticks": ""
            },
            "colorscale": [
             [
              0,
              "#0d0887"
             ],
             [
              0.1111111111111111,
              "#46039f"
             ],
             [
              0.2222222222222222,
              "#7201a8"
             ],
             [
              0.3333333333333333,
              "#9c179e"
             ],
             [
              0.4444444444444444,
              "#bd3786"
             ],
             [
              0.5555555555555556,
              "#d8576b"
             ],
             [
              0.6666666666666666,
              "#ed7953"
             ],
             [
              0.7777777777777778,
              "#fb9f3a"
             ],
             [
              0.8888888888888888,
              "#fdca26"
             ],
             [
              1,
              "#f0f921"
             ]
            ],
            "type": "contour"
           }
          ],
          "contourcarpet": [
           {
            "colorbar": {
             "outlinewidth": 0,
             "ticks": ""
            },
            "type": "contourcarpet"
           }
          ],
          "heatmap": [
           {
            "colorbar": {
             "outlinewidth": 0,
             "ticks": ""
            },
            "colorscale": [
             [
              0,
              "#0d0887"
             ],
             [
              0.1111111111111111,
              "#46039f"
             ],
             [
              0.2222222222222222,
              "#7201a8"
             ],
             [
              0.3333333333333333,
              "#9c179e"
             ],
             [
              0.4444444444444444,
              "#bd3786"
             ],
             [
              0.5555555555555556,
              "#d8576b"
             ],
             [
              0.6666666666666666,
              "#ed7953"
             ],
             [
              0.7777777777777778,
              "#fb9f3a"
             ],
             [
              0.8888888888888888,
              "#fdca26"
             ],
             [
              1,
              "#f0f921"
             ]
            ],
            "type": "heatmap"
           }
          ],
          "heatmapgl": [
           {
            "colorbar": {
             "outlinewidth": 0,
             "ticks": ""
            },
            "colorscale": [
             [
              0,
              "#0d0887"
             ],
             [
              0.1111111111111111,
              "#46039f"
             ],
             [
              0.2222222222222222,
              "#7201a8"
             ],
             [
              0.3333333333333333,
              "#9c179e"
             ],
             [
              0.4444444444444444,
              "#bd3786"
             ],
             [
              0.5555555555555556,
              "#d8576b"
             ],
             [
              0.6666666666666666,
              "#ed7953"
             ],
             [
              0.7777777777777778,
              "#fb9f3a"
             ],
             [
              0.8888888888888888,
              "#fdca26"
             ],
             [
              1,
              "#f0f921"
             ]
            ],
            "type": "heatmapgl"
           }
          ],
          "histogram": [
           {
            "marker": {
             "pattern": {
              "fillmode": "overlay",
              "size": 10,
              "solidity": 0.2
             }
            },
            "type": "histogram"
           }
          ],
          "histogram2d": [
           {
            "colorbar": {
             "outlinewidth": 0,
             "ticks": ""
            },
            "colorscale": [
             [
              0,
              "#0d0887"
             ],
             [
              0.1111111111111111,
              "#46039f"
             ],
             [
              0.2222222222222222,
              "#7201a8"
             ],
             [
              0.3333333333333333,
              "#9c179e"
             ],
             [
              0.4444444444444444,
              "#bd3786"
             ],
             [
              0.5555555555555556,
              "#d8576b"
             ],
             [
              0.6666666666666666,
              "#ed7953"
             ],
             [
              0.7777777777777778,
              "#fb9f3a"
             ],
             [
              0.8888888888888888,
              "#fdca26"
             ],
             [
              1,
              "#f0f921"
             ]
            ],
            "type": "histogram2d"
           }
          ],
          "histogram2dcontour": [
           {
            "colorbar": {
             "outlinewidth": 0,
             "ticks": ""
            },
            "colorscale": [
             [
              0,
              "#0d0887"
             ],
             [
              0.1111111111111111,
              "#46039f"
             ],
             [
              0.2222222222222222,
              "#7201a8"
             ],
             [
              0.3333333333333333,
              "#9c179e"
             ],
             [
              0.4444444444444444,
              "#bd3786"
             ],
             [
              0.5555555555555556,
              "#d8576b"
             ],
             [
              0.6666666666666666,
              "#ed7953"
             ],
             [
              0.7777777777777778,
              "#fb9f3a"
             ],
             [
              0.8888888888888888,
              "#fdca26"
             ],
             [
              1,
              "#f0f921"
             ]
            ],
            "type": "histogram2dcontour"
           }
          ],
          "mesh3d": [
           {
            "colorbar": {
             "outlinewidth": 0,
             "ticks": ""
            },
            "type": "mesh3d"
           }
          ],
          "parcoords": [
           {
            "line": {
             "colorbar": {
              "outlinewidth": 0,
              "ticks": ""
             }
            },
            "type": "parcoords"
           }
          ],
          "pie": [
           {
            "automargin": true,
            "type": "pie"
           }
          ],
          "scatter": [
           {
            "fillpattern": {
             "fillmode": "overlay",
             "size": 10,
             "solidity": 0.2
            },
            "type": "scatter"
           }
          ],
          "scatter3d": [
           {
            "line": {
             "colorbar": {
              "outlinewidth": 0,
              "ticks": ""
             }
            },
            "marker": {
             "colorbar": {
              "outlinewidth": 0,
              "ticks": ""
             }
            },
            "type": "scatter3d"
           }
          ],
          "scattercarpet": [
           {
            "marker": {
             "colorbar": {
              "outlinewidth": 0,
              "ticks": ""
             }
            },
            "type": "scattercarpet"
           }
          ],
          "scattergeo": [
           {
            "marker": {
             "colorbar": {
              "outlinewidth": 0,
              "ticks": ""
             }
            },
            "type": "scattergeo"
           }
          ],
          "scattergl": [
           {
            "marker": {
             "colorbar": {
              "outlinewidth": 0,
              "ticks": ""
             }
            },
            "type": "scattergl"
           }
          ],
          "scattermapbox": [
           {
            "marker": {
             "colorbar": {
              "outlinewidth": 0,
              "ticks": ""
             }
            },
            "type": "scattermapbox"
           }
          ],
          "scatterpolar": [
           {
            "marker": {
             "colorbar": {
              "outlinewidth": 0,
              "ticks": ""
             }
            },
            "type": "scatterpolar"
           }
          ],
          "scatterpolargl": [
           {
            "marker": {
             "colorbar": {
              "outlinewidth": 0,
              "ticks": ""
             }
            },
            "type": "scatterpolargl"
           }
          ],
          "scatterternary": [
           {
            "marker": {
             "colorbar": {
              "outlinewidth": 0,
              "ticks": ""
             }
            },
            "type": "scatterternary"
           }
          ],
          "surface": [
           {
            "colorbar": {
             "outlinewidth": 0,
             "ticks": ""
            },
            "colorscale": [
             [
              0,
              "#0d0887"
             ],
             [
              0.1111111111111111,
              "#46039f"
             ],
             [
              0.2222222222222222,
              "#7201a8"
             ],
             [
              0.3333333333333333,
              "#9c179e"
             ],
             [
              0.4444444444444444,
              "#bd3786"
             ],
             [
              0.5555555555555556,
              "#d8576b"
             ],
             [
              0.6666666666666666,
              "#ed7953"
             ],
             [
              0.7777777777777778,
              "#fb9f3a"
             ],
             [
              0.8888888888888888,
              "#fdca26"
             ],
             [
              1,
              "#f0f921"
             ]
            ],
            "type": "surface"
           }
          ],
          "table": [
           {
            "cells": {
             "fill": {
              "color": "#EBF0F8"
             },
             "line": {
              "color": "white"
             }
            },
            "header": {
             "fill": {
              "color": "#C8D4E3"
             },
             "line": {
              "color": "white"
             }
            },
            "type": "table"
           }
          ]
         },
         "layout": {
          "annotationdefaults": {
           "arrowcolor": "#2a3f5f",
           "arrowhead": 0,
           "arrowwidth": 1
          },
          "autotypenumbers": "strict",
          "coloraxis": {
           "colorbar": {
            "outlinewidth": 0,
            "ticks": ""
           }
          },
          "colorscale": {
           "diverging": [
            [
             0,
             "#8e0152"
            ],
            [
             0.1,
             "#c51b7d"
            ],
            [
             0.2,
             "#de77ae"
            ],
            [
             0.3,
             "#f1b6da"
            ],
            [
             0.4,
             "#fde0ef"
            ],
            [
             0.5,
             "#f7f7f7"
            ],
            [
             0.6,
             "#e6f5d0"
            ],
            [
             0.7,
             "#b8e186"
            ],
            [
             0.8,
             "#7fbc41"
            ],
            [
             0.9,
             "#4d9221"
            ],
            [
             1,
             "#276419"
            ]
           ],
           "sequential": [
            [
             0,
             "#0d0887"
            ],
            [
             0.1111111111111111,
             "#46039f"
            ],
            [
             0.2222222222222222,
             "#7201a8"
            ],
            [
             0.3333333333333333,
             "#9c179e"
            ],
            [
             0.4444444444444444,
             "#bd3786"
            ],
            [
             0.5555555555555556,
             "#d8576b"
            ],
            [
             0.6666666666666666,
             "#ed7953"
            ],
            [
             0.7777777777777778,
             "#fb9f3a"
            ],
            [
             0.8888888888888888,
             "#fdca26"
            ],
            [
             1,
             "#f0f921"
            ]
           ],
           "sequentialminus": [
            [
             0,
             "#0d0887"
            ],
            [
             0.1111111111111111,
             "#46039f"
            ],
            [
             0.2222222222222222,
             "#7201a8"
            ],
            [
             0.3333333333333333,
             "#9c179e"
            ],
            [
             0.4444444444444444,
             "#bd3786"
            ],
            [
             0.5555555555555556,
             "#d8576b"
            ],
            [
             0.6666666666666666,
             "#ed7953"
            ],
            [
             0.7777777777777778,
             "#fb9f3a"
            ],
            [
             0.8888888888888888,
             "#fdca26"
            ],
            [
             1,
             "#f0f921"
            ]
           ]
          },
          "colorway": [
           "#636efa",
           "#EF553B",
           "#00cc96",
           "#ab63fa",
           "#FFA15A",
           "#19d3f3",
           "#FF6692",
           "#B6E880",
           "#FF97FF",
           "#FECB52"
          ],
          "font": {
           "color": "#2a3f5f"
          },
          "geo": {
           "bgcolor": "white",
           "lakecolor": "white",
           "landcolor": "#E5ECF6",
           "showlakes": true,
           "showland": true,
           "subunitcolor": "white"
          },
          "hoverlabel": {
           "align": "left"
          },
          "hovermode": "closest",
          "mapbox": {
           "style": "light"
          },
          "paper_bgcolor": "white",
          "plot_bgcolor": "#E5ECF6",
          "polar": {
           "angularaxis": {
            "gridcolor": "white",
            "linecolor": "white",
            "ticks": ""
           },
           "bgcolor": "#E5ECF6",
           "radialaxis": {
            "gridcolor": "white",
            "linecolor": "white",
            "ticks": ""
           }
          },
          "scene": {
           "xaxis": {
            "backgroundcolor": "#E5ECF6",
            "gridcolor": "white",
            "gridwidth": 2,
            "linecolor": "white",
            "showbackground": true,
            "ticks": "",
            "zerolinecolor": "white"
           },
           "yaxis": {
            "backgroundcolor": "#E5ECF6",
            "gridcolor": "white",
            "gridwidth": 2,
            "linecolor": "white",
            "showbackground": true,
            "ticks": "",
            "zerolinecolor": "white"
           },
           "zaxis": {
            "backgroundcolor": "#E5ECF6",
            "gridcolor": "white",
            "gridwidth": 2,
            "linecolor": "white",
            "showbackground": true,
            "ticks": "",
            "zerolinecolor": "white"
           }
          },
          "shapedefaults": {
           "line": {
            "color": "#2a3f5f"
           }
          },
          "ternary": {
           "aaxis": {
            "gridcolor": "white",
            "linecolor": "white",
            "ticks": ""
           },
           "baxis": {
            "gridcolor": "white",
            "linecolor": "white",
            "ticks": ""
           },
           "bgcolor": "#E5ECF6",
           "caxis": {
            "gridcolor": "white",
            "linecolor": "white",
            "ticks": ""
           }
          },
          "title": {
           "x": 0.05
          },
          "xaxis": {
           "automargin": true,
           "gridcolor": "white",
           "linecolor": "white",
           "ticks": "",
           "title": {
            "standoff": 15
           },
           "zerolinecolor": "white",
           "zerolinewidth": 2
          },
          "yaxis": {
           "automargin": true,
           "gridcolor": "white",
           "linecolor": "white",
           "ticks": "",
           "title": {
            "standoff": 15
           },
           "zerolinecolor": "white",
           "zerolinewidth": 2
          }
         }
        },
        "title": {
         "text": "Вылов рыбы"
        },
        "yaxis": {
         "title": {
          "text": "улов"
         }
        }
       }
      },
      "text/html": [
       "<div>                            <div id=\"d176b779-d22a-42d4-b0ff-7a7b62a1e88c\" class=\"plotly-graph-div\" style=\"height:525px; width:100%;\"></div>            <script type=\"text/javascript\">                require([\"plotly\"], function(Plotly) {                    window.PLOTLYENV=window.PLOTLYENV || {};                                    if (document.getElementById(\"d176b779-d22a-42d4-b0ff-7a7b62a1e88c\")) {                    Plotly.newPlot(                        \"d176b779-d22a-42d4-b0ff-7a7b62a1e88c\",                        [{\"line\":{\"width\":0},\"marker\":{\"color\":\"lightblue\"},\"mode\":\"lines\",\"name\":\"Lower Bound\",\"x\":[\"2004-01-01T00:00:00\",\"2005-01-01T00:00:00\",\"2006-01-01T00:00:00\",\"2007-01-01T00:00:00\",\"2008-01-01T00:00:00\",\"2009-01-01T00:00:00\",\"2010-01-01T00:00:00\",\"2011-01-01T00:00:00\",\"2012-01-01T00:00:00\",\"2013-01-01T00:00:00\",\"2014-01-01T00:00:00\",\"2015-01-01T00:00:00\",\"2016-01-01T00:00:00\",\"2017-01-01T00:00:00\",\"2018-01-01T00:00:00\"],\"y\":[1000616.9867779589,915187.7404818507,880018.4876230153,844135.5433826155,796204.8993972925,691890.5202632357,629576.1732307445,568990.5700986213,506005.3244400964,395632.52361857006,311524.9285445956,229451.22667947572,117354.47048685318,36422.014983931615,-79129.8010863752],\"type\":\"scatter\"},{\"fill\":\"tonexty\",\"fillcolor\":\"rgba(68, 68, 68, 0.3)\",\"line\":{\"width\":0},\"marker\":{\"color\":\"burlywood\"},\"mode\":\"lines\",\"name\":\"Upper Bound\",\"x\":[\"2004-01-01T00:00:00\",\"2005-01-01T00:00:00\",\"2006-01-01T00:00:00\",\"2007-01-01T00:00:00\",\"2008-01-01T00:00:00\",\"2009-01-01T00:00:00\",\"2010-01-01T00:00:00\",\"2011-01-01T00:00:00\",\"2012-01-01T00:00:00\",\"2013-01-01T00:00:00\",\"2014-01-01T00:00:00\",\"2015-01-01T00:00:00\",\"2016-01-01T00:00:00\",\"2017-01-01T00:00:00\",\"2018-01-01T00:00:00\"],\"y\":[1275574.2220889775,1186487.341107194,1153748.2001573602,1129208.9944579024,1097597.86146998,1042446.6801686769,1030765.4725605841,1014779.9919840996,1023550.4640848974,969296.4942996578,969905.4912595233,984675.1380224267,987487.54119497,950499.4999008965,948803.3308688463],\"type\":\"scatter\"},{\"line\":{\"color\":\"rgb(31, 119, 180)\"},\"mode\":\"lines\",\"name\":\"Prediction\",\"x\":[\"2004-01-01T00:00:00\",\"2005-01-01T00:00:00\",\"2006-01-01T00:00:00\",\"2007-01-01T00:00:00\",\"2008-01-01T00:00:00\",\"2009-01-01T00:00:00\",\"2010-01-01T00:00:00\",\"2011-01-01T00:00:00\",\"2012-01-01T00:00:00\",\"2013-01-01T00:00:00\",\"2014-01-01T00:00:00\",\"2015-01-01T00:00:00\",\"2016-01-01T00:00:00\",\"2017-01-01T00:00:00\",\"2018-01-01T00:00:00\"],\"y\":[1137080.7205235616,1050570.701168995,1018109.6925742675,983786.2454470329,947681.8203657835,867961.6988045077,833109.3928995484,796521.7282397171,758282.9202079435,685352.6964401712,648109.0932248529,609257.2110323468,568884.0200501075,502743.69407572073,463108.79355005076],\"type\":\"scatter\"},{\"marker\":{\"color\":\"red\"},\"mode\":\"lines\",\"name\":\"Fact\",\"x\":[\"1950-01-01T00:00:00\",\"1951-01-01T00:00:00\",\"1952-01-01T00:00:00\",\"1953-01-01T00:00:00\",\"1954-01-01T00:00:00\",\"1955-01-01T00:00:00\",\"1956-01-01T00:00:00\",\"1957-01-01T00:00:00\",\"1958-01-01T00:00:00\",\"1959-01-01T00:00:00\",\"1960-01-01T00:00:00\",\"1961-01-01T00:00:00\",\"1962-01-01T00:00:00\",\"1963-01-01T00:00:00\",\"1964-01-01T00:00:00\",\"1965-01-01T00:00:00\",\"1966-01-01T00:00:00\",\"1967-01-01T00:00:00\",\"1968-01-01T00:00:00\",\"1969-01-01T00:00:00\",\"1970-01-01T00:00:00\",\"1971-01-01T00:00:00\",\"1972-01-01T00:00:00\",\"1973-01-01T00:00:00\",\"1974-01-01T00:00:00\",\"1975-01-01T00:00:00\",\"1976-01-01T00:00:00\",\"1977-01-01T00:00:00\",\"1978-01-01T00:00:00\",\"1979-01-01T00:00:00\",\"1980-01-01T00:00:00\",\"1981-01-01T00:00:00\",\"1982-01-01T00:00:00\",\"1983-01-01T00:00:00\",\"1984-01-01T00:00:00\",\"1985-01-01T00:00:00\",\"1986-01-01T00:00:00\",\"1987-01-01T00:00:00\",\"1988-01-01T00:00:00\",\"1989-01-01T00:00:00\",\"1990-01-01T00:00:00\",\"1991-01-01T00:00:00\",\"1992-01-01T00:00:00\",\"1993-01-01T00:00:00\",\"1994-01-01T00:00:00\",\"1995-01-01T00:00:00\",\"1996-01-01T00:00:00\",\"1997-01-01T00:00:00\",\"1998-01-01T00:00:00\",\"1999-01-01T00:00:00\",\"2000-01-01T00:00:00\",\"2001-01-01T00:00:00\",\"2002-01-01T00:00:00\",\"2003-01-01T00:00:00\",\"2004-01-01T00:00:00\",\"2005-01-01T00:00:00\",\"2006-01-01T00:00:00\",\"2007-01-01T00:00:00\",\"2008-01-01T00:00:00\",\"2009-01-01T00:00:00\",\"2010-01-01T00:00:00\",\"2011-01-01T00:00:00\",\"2012-01-01T00:00:00\",\"2013-01-01T00:00:00\",\"2014-01-01T00:00:00\",\"2015-01-01T00:00:00\",\"2016-01-01T00:00:00\",\"2017-01-01T00:00:00\",\"2018-01-01T00:00:00\"],\"y\":[149961.1840403748,178877.8991927216,203521.2897078919,228292.6206685209,264481.7357808441,314401.097735693,362329.311269271,415856.1950142951,461245.8691241796,540241.3472359075,486910.25505254697,519776.3199009597,644794.966440739,731249.9634587372,764341.3144293841,752583.0010433348,760056.8905379556,926004.3897959172,1326573.4642832575,1252865.423473334,1227205.5024680265,1298320.210979616,1335340.632292155,1310284.3387012172,1699317.8874217465,1587374.469140093,1736540.0394783732,1596328.457072035,1542397.6907915804,1557516.0177693407,1812697.3894098185,1593011.8974076344,1691040.4788868888,1635834.5284590672,1606471.6646698532,1556937.7398430556,1643666.6141575633,1508238.952782882,1768041.11313084,1745078.2868724372,1334997.1352594958,1594466.728942171,1775067.4095062464,1421116.1439223115,1639222.4858251428,1826475.8056134463,1426921.0082564855,1538346.4467829147,1359062.820004249,1203078.577679447,1370465.9182987818,1338203.6909557604,1333295.066832736,948616.0546318776,997884.7970919835,818234.8885956551,772836.0277458477,544945.724901243,601945.4120743338,675265.435762824,734516.3832398548,639435.5740347393,441581.7718910327,592528.8776328278,662167.6204704572,779566.4064381259,561554.7443745257,783932.0691281771,546543.9712384811],\"type\":\"scatter\"}],                        {\"showlegend\":false,\"template\":{\"data\":{\"barpolar\":[{\"marker\":{\"line\":{\"color\":\"#E5ECF6\",\"width\":0.5},\"pattern\":{\"fillmode\":\"overlay\",\"size\":10,\"solidity\":0.2}},\"type\":\"barpolar\"}],\"bar\":[{\"error_x\":{\"color\":\"#2a3f5f\"},\"error_y\":{\"color\":\"#2a3f5f\"},\"marker\":{\"line\":{\"color\":\"#E5ECF6\",\"width\":0.5},\"pattern\":{\"fillmode\":\"overlay\",\"size\":10,\"solidity\":0.2}},\"type\":\"bar\"}],\"carpet\":[{\"aaxis\":{\"endlinecolor\":\"#2a3f5f\",\"gridcolor\":\"white\",\"linecolor\":\"white\",\"minorgridcolor\":\"white\",\"startlinecolor\":\"#2a3f5f\"},\"baxis\":{\"endlinecolor\":\"#2a3f5f\",\"gridcolor\":\"white\",\"linecolor\":\"white\",\"minorgridcolor\":\"white\",\"startlinecolor\":\"#2a3f5f\"},\"type\":\"carpet\"}],\"choropleth\":[{\"colorbar\":{\"outlinewidth\":0,\"ticks\":\"\"},\"type\":\"choropleth\"}],\"contourcarpet\":[{\"colorbar\":{\"outlinewidth\":0,\"ticks\":\"\"},\"type\":\"contourcarpet\"}],\"contour\":[{\"colorbar\":{\"outlinewidth\":0,\"ticks\":\"\"},\"colorscale\":[[0.0,\"#0d0887\"],[0.1111111111111111,\"#46039f\"],[0.2222222222222222,\"#7201a8\"],[0.3333333333333333,\"#9c179e\"],[0.4444444444444444,\"#bd3786\"],[0.5555555555555556,\"#d8576b\"],[0.6666666666666666,\"#ed7953\"],[0.7777777777777778,\"#fb9f3a\"],[0.8888888888888888,\"#fdca26\"],[1.0,\"#f0f921\"]],\"type\":\"contour\"}],\"heatmapgl\":[{\"colorbar\":{\"outlinewidth\":0,\"ticks\":\"\"},\"colorscale\":[[0.0,\"#0d0887\"],[0.1111111111111111,\"#46039f\"],[0.2222222222222222,\"#7201a8\"],[0.3333333333333333,\"#9c179e\"],[0.4444444444444444,\"#bd3786\"],[0.5555555555555556,\"#d8576b\"],[0.6666666666666666,\"#ed7953\"],[0.7777777777777778,\"#fb9f3a\"],[0.8888888888888888,\"#fdca26\"],[1.0,\"#f0f921\"]],\"type\":\"heatmapgl\"}],\"heatmap\":[{\"colorbar\":{\"outlinewidth\":0,\"ticks\":\"\"},\"colorscale\":[[0.0,\"#0d0887\"],[0.1111111111111111,\"#46039f\"],[0.2222222222222222,\"#7201a8\"],[0.3333333333333333,\"#9c179e\"],[0.4444444444444444,\"#bd3786\"],[0.5555555555555556,\"#d8576b\"],[0.6666666666666666,\"#ed7953\"],[0.7777777777777778,\"#fb9f3a\"],[0.8888888888888888,\"#fdca26\"],[1.0,\"#f0f921\"]],\"type\":\"heatmap\"}],\"histogram2dcontour\":[{\"colorbar\":{\"outlinewidth\":0,\"ticks\":\"\"},\"colorscale\":[[0.0,\"#0d0887\"],[0.1111111111111111,\"#46039f\"],[0.2222222222222222,\"#7201a8\"],[0.3333333333333333,\"#9c179e\"],[0.4444444444444444,\"#bd3786\"],[0.5555555555555556,\"#d8576b\"],[0.6666666666666666,\"#ed7953\"],[0.7777777777777778,\"#fb9f3a\"],[0.8888888888888888,\"#fdca26\"],[1.0,\"#f0f921\"]],\"type\":\"histogram2dcontour\"}],\"histogram2d\":[{\"colorbar\":{\"outlinewidth\":0,\"ticks\":\"\"},\"colorscale\":[[0.0,\"#0d0887\"],[0.1111111111111111,\"#46039f\"],[0.2222222222222222,\"#7201a8\"],[0.3333333333333333,\"#9c179e\"],[0.4444444444444444,\"#bd3786\"],[0.5555555555555556,\"#d8576b\"],[0.6666666666666666,\"#ed7953\"],[0.7777777777777778,\"#fb9f3a\"],[0.8888888888888888,\"#fdca26\"],[1.0,\"#f0f921\"]],\"type\":\"histogram2d\"}],\"histogram\":[{\"marker\":{\"pattern\":{\"fillmode\":\"overlay\",\"size\":10,\"solidity\":0.2}},\"type\":\"histogram\"}],\"mesh3d\":[{\"colorbar\":{\"outlinewidth\":0,\"ticks\":\"\"},\"type\":\"mesh3d\"}],\"parcoords\":[{\"line\":{\"colorbar\":{\"outlinewidth\":0,\"ticks\":\"\"}},\"type\":\"parcoords\"}],\"pie\":[{\"automargin\":true,\"type\":\"pie\"}],\"scatter3d\":[{\"line\":{\"colorbar\":{\"outlinewidth\":0,\"ticks\":\"\"}},\"marker\":{\"colorbar\":{\"outlinewidth\":0,\"ticks\":\"\"}},\"type\":\"scatter3d\"}],\"scattercarpet\":[{\"marker\":{\"colorbar\":{\"outlinewidth\":0,\"ticks\":\"\"}},\"type\":\"scattercarpet\"}],\"scattergeo\":[{\"marker\":{\"colorbar\":{\"outlinewidth\":0,\"ticks\":\"\"}},\"type\":\"scattergeo\"}],\"scattergl\":[{\"marker\":{\"colorbar\":{\"outlinewidth\":0,\"ticks\":\"\"}},\"type\":\"scattergl\"}],\"scattermapbox\":[{\"marker\":{\"colorbar\":{\"outlinewidth\":0,\"ticks\":\"\"}},\"type\":\"scattermapbox\"}],\"scatterpolargl\":[{\"marker\":{\"colorbar\":{\"outlinewidth\":0,\"ticks\":\"\"}},\"type\":\"scatterpolargl\"}],\"scatterpolar\":[{\"marker\":{\"colorbar\":{\"outlinewidth\":0,\"ticks\":\"\"}},\"type\":\"scatterpolar\"}],\"scatter\":[{\"fillpattern\":{\"fillmode\":\"overlay\",\"size\":10,\"solidity\":0.2},\"type\":\"scatter\"}],\"scatterternary\":[{\"marker\":{\"colorbar\":{\"outlinewidth\":0,\"ticks\":\"\"}},\"type\":\"scatterternary\"}],\"surface\":[{\"colorbar\":{\"outlinewidth\":0,\"ticks\":\"\"},\"colorscale\":[[0.0,\"#0d0887\"],[0.1111111111111111,\"#46039f\"],[0.2222222222222222,\"#7201a8\"],[0.3333333333333333,\"#9c179e\"],[0.4444444444444444,\"#bd3786\"],[0.5555555555555556,\"#d8576b\"],[0.6666666666666666,\"#ed7953\"],[0.7777777777777778,\"#fb9f3a\"],[0.8888888888888888,\"#fdca26\"],[1.0,\"#f0f921\"]],\"type\":\"surface\"}],\"table\":[{\"cells\":{\"fill\":{\"color\":\"#EBF0F8\"},\"line\":{\"color\":\"white\"}},\"header\":{\"fill\":{\"color\":\"#C8D4E3\"},\"line\":{\"color\":\"white\"}},\"type\":\"table\"}]},\"layout\":{\"annotationdefaults\":{\"arrowcolor\":\"#2a3f5f\",\"arrowhead\":0,\"arrowwidth\":1},\"autotypenumbers\":\"strict\",\"coloraxis\":{\"colorbar\":{\"outlinewidth\":0,\"ticks\":\"\"}},\"colorscale\":{\"diverging\":[[0,\"#8e0152\"],[0.1,\"#c51b7d\"],[0.2,\"#de77ae\"],[0.3,\"#f1b6da\"],[0.4,\"#fde0ef\"],[0.5,\"#f7f7f7\"],[0.6,\"#e6f5d0\"],[0.7,\"#b8e186\"],[0.8,\"#7fbc41\"],[0.9,\"#4d9221\"],[1,\"#276419\"]],\"sequential\":[[0.0,\"#0d0887\"],[0.1111111111111111,\"#46039f\"],[0.2222222222222222,\"#7201a8\"],[0.3333333333333333,\"#9c179e\"],[0.4444444444444444,\"#bd3786\"],[0.5555555555555556,\"#d8576b\"],[0.6666666666666666,\"#ed7953\"],[0.7777777777777778,\"#fb9f3a\"],[0.8888888888888888,\"#fdca26\"],[1.0,\"#f0f921\"]],\"sequentialminus\":[[0.0,\"#0d0887\"],[0.1111111111111111,\"#46039f\"],[0.2222222222222222,\"#7201a8\"],[0.3333333333333333,\"#9c179e\"],[0.4444444444444444,\"#bd3786\"],[0.5555555555555556,\"#d8576b\"],[0.6666666666666666,\"#ed7953\"],[0.7777777777777778,\"#fb9f3a\"],[0.8888888888888888,\"#fdca26\"],[1.0,\"#f0f921\"]]},\"colorway\":[\"#636efa\",\"#EF553B\",\"#00cc96\",\"#ab63fa\",\"#FFA15A\",\"#19d3f3\",\"#FF6692\",\"#B6E880\",\"#FF97FF\",\"#FECB52\"],\"font\":{\"color\":\"#2a3f5f\"},\"geo\":{\"bgcolor\":\"white\",\"lakecolor\":\"white\",\"landcolor\":\"#E5ECF6\",\"showlakes\":true,\"showland\":true,\"subunitcolor\":\"white\"},\"hoverlabel\":{\"align\":\"left\"},\"hovermode\":\"closest\",\"mapbox\":{\"style\":\"light\"},\"paper_bgcolor\":\"white\",\"plot_bgcolor\":\"#E5ECF6\",\"polar\":{\"angularaxis\":{\"gridcolor\":\"white\",\"linecolor\":\"white\",\"ticks\":\"\"},\"bgcolor\":\"#E5ECF6\",\"radialaxis\":{\"gridcolor\":\"white\",\"linecolor\":\"white\",\"ticks\":\"\"}},\"scene\":{\"xaxis\":{\"backgroundcolor\":\"#E5ECF6\",\"gridcolor\":\"white\",\"gridwidth\":2,\"linecolor\":\"white\",\"showbackground\":true,\"ticks\":\"\",\"zerolinecolor\":\"white\"},\"yaxis\":{\"backgroundcolor\":\"#E5ECF6\",\"gridcolor\":\"white\",\"gridwidth\":2,\"linecolor\":\"white\",\"showbackground\":true,\"ticks\":\"\",\"zerolinecolor\":\"white\"},\"zaxis\":{\"backgroundcolor\":\"#E5ECF6\",\"gridcolor\":\"white\",\"gridwidth\":2,\"linecolor\":\"white\",\"showbackground\":true,\"ticks\":\"\",\"zerolinecolor\":\"white\"}},\"shapedefaults\":{\"line\":{\"color\":\"#2a3f5f\"}},\"ternary\":{\"aaxis\":{\"gridcolor\":\"white\",\"linecolor\":\"white\",\"ticks\":\"\"},\"baxis\":{\"gridcolor\":\"white\",\"linecolor\":\"white\",\"ticks\":\"\"},\"bgcolor\":\"#E5ECF6\",\"caxis\":{\"gridcolor\":\"white\",\"linecolor\":\"white\",\"ticks\":\"\"}},\"title\":{\"x\":0.05},\"xaxis\":{\"automargin\":true,\"gridcolor\":\"white\",\"linecolor\":\"white\",\"ticks\":\"\",\"title\":{\"standoff\":15},\"zerolinecolor\":\"white\",\"zerolinewidth\":2},\"yaxis\":{\"automargin\":true,\"gridcolor\":\"white\",\"linecolor\":\"white\",\"ticks\":\"\",\"title\":{\"standoff\":15},\"zerolinecolor\":\"white\",\"zerolinewidth\":2}}},\"title\":{\"text\":\"\\u0412\\u044b\\u043b\\u043e\\u0432 \\u0440\\u044b\\u0431\\u044b\"},\"yaxis\":{\"title\":{\"text\":\"\\u0443\\u043b\\u043e\\u0432\"}}},                        {\"responsive\": true}                    ).then(function(){\n",
       "                            \n",
       "var gd = document.getElementById('d176b779-d22a-42d4-b0ff-7a7b62a1e88c');\n",
       "var x = new MutationObserver(function (mutations, observer) {{\n",
       "        var display = window.getComputedStyle(gd).display;\n",
       "        if (!display || display === 'none') {{\n",
       "            console.log([gd, 'removed!']);\n",
       "            Plotly.purge(gd);\n",
       "            observer.disconnect();\n",
       "        }}\n",
       "}});\n",
       "\n",
       "// Listen for the removal of the full notebook cells\n",
       "var notebookContainer = gd.closest('#notebook-container');\n",
       "if (notebookContainer) {{\n",
       "    x.observe(notebookContainer, {childList: true});\n",
       "}}\n",
       "\n",
       "// Listen for the clearing of the current output cell\n",
       "var outputEl = gd.closest('.output');\n",
       "if (outputEl) {{\n",
       "    x.observe(outputEl, {childList: true});\n",
       "}}\n",
       "\n",
       "                        })                };                });            </script>        </div>"
      ]
     },
     "metadata": {},
     "output_type": "display_data"
    }
   ],
   "source": [
    "def show_forecast(cmp_df, num_predictions, num_values):\n",
    "\n",
    "    upper_bound = go.Scatter(\n",
    "        name='Upper Bound',\n",
    "        x=cmp_df.tail(num_predictions).index,\n",
    "        y=cmp_df.tail(num_predictions).yhat_upper,\n",
    "        mode='lines',\n",
    "        marker=dict(color=\"burlywood\"),\n",
    "        line=dict(width=0),\n",
    "        fillcolor='rgba(68, 68, 68, 0.3)',\n",
    "        fill='tonexty')\n",
    "\n",
    "\n",
    "    forecast = go.Scatter(\n",
    "        name='Prediction',\n",
    "        x=cmp_df.tail(predictions).index,\n",
    "        y=cmp_df.tail(predictions).yhat,\n",
    "        mode='lines',\n",
    "        line=dict(color='rgb(31, 119, 180)'),\n",
    "    )\n",
    "\n",
    "   \n",
    "    lower_bound = go.Scatter(\n",
    "        name='Lower Bound',\n",
    "        x=cmp_df.tail(num_predictions).index,\n",
    "        y=cmp_df.tail(num_predictions).yhat_lower,\n",
    "        marker=dict(color=\"lightblue\"),\n",
    "        line=dict(width=0),\n",
    "        mode='lines')\n",
    "\n",
    "    # фактические значения\n",
    "    fact = go.Scatter(\n",
    "        name='Fact',\n",
    "        x=cmp_df.tail(num_values).index,\n",
    "        y=cmp_df.tail(num_values).y,\n",
    "        marker=dict(color=\"red\"),\n",
    "        mode='lines',\n",
    "    )\n",
    "\n",
    "\n",
    "    data = [lower_bound, upper_bound, forecast, fact]\n",
    "\n",
    "    layout = go.Layout(\n",
    "        yaxis=dict(title='улов'),\n",
    "        title='Вылов рыбы',\n",
    "        showlegend = False)\n",
    "\n",
    "    fig = go.Figure(data=data, layout=layout)\n",
    "    iplot(fig, show_link=False)\n",
    "\n",
    "show_forecast(cmp_df, predictions, 200)"
   ]
  },
  {
   "cell_type": "markdown",
   "id": "f0bcc4c3",
   "metadata": {},
   "source": [
    "Я выбрала метрики MAE и MAPE для оценки модели машинного обучения по объему вылова рыбы, потому что они обе являются надежными показателями точности прогнозирования в случае временных рядов. \n",
    " - MAE измеряет абсолютную ошибку прогнозирования, что позволяет оценить точность прогнозов в конкретном временном ряду. \n",
    " - MAPE, с другой стороны, измеряет процентную ошибку прогнозирования, что делает его полезным для сравнения точности прогнозов различных временных рядов."
   ]
  },
  {
   "cell_type": "markdown",
   "id": "7ad41162",
   "metadata": {},
   "source": [
    "## Прогноз стоимости рыбы"
   ]
  },
  {
   "cell_type": "code",
   "execution_count": 23,
   "id": "7e1e5692",
   "metadata": {
    "ExecuteTime": {
     "end_time": "2023-06-14T20:05:12.970177Z",
     "start_time": "2023-06-14T20:05:12.796255Z"
    }
   },
   "outputs": [],
   "source": [
    "from catboost import CatBoostRegressor\n",
    "from sklearn.model_selection import cross_val_score"
   ]
  },
  {
   "cell_type": "code",
   "execution_count": 24,
   "id": "7c589453",
   "metadata": {
    "ExecuteTime": {
     "end_time": "2023-06-14T20:05:13.092417Z",
     "start_time": "2023-06-14T20:05:13.078953Z"
    }
   },
   "outputs": [],
   "source": [
    "den = df[['common_name', 'functional_group', 'commercial_group', 'sector_type', 'catch_status', 'reporting_status', 'gear_name', 'catch_sum', 'real_value']]"
   ]
  },
  {
   "cell_type": "code",
   "execution_count": 25,
   "id": "65683c52",
   "metadata": {
    "ExecuteTime": {
     "end_time": "2023-06-14T20:05:13.278863Z",
     "start_time": "2023-06-14T20:05:13.272883Z"
    }
   },
   "outputs": [],
   "source": [
    "X = den.iloc[:,:-1]\n",
    "y = den['real_value']"
   ]
  },
  {
   "cell_type": "code",
   "execution_count": 26,
   "id": "985ecfd3",
   "metadata": {
    "ExecuteTime": {
     "end_time": "2023-06-14T20:05:28.962490Z",
     "start_time": "2023-06-14T20:05:13.892456Z"
    }
   },
   "outputs": [
    {
     "name": "stdout",
     "output_type": "stream",
     "text": [
      "Learning rate set to 0.273643\n",
      "0:\tlearn: 1994196245.1142991\ttotal: 171ms\tremaining: 34.1s\n",
      "1:\tlearn: 1804135519.2948942\ttotal: 201ms\tremaining: 19.9s\n",
      "2:\tlearn: 1652895314.8616140\ttotal: 223ms\tremaining: 14.6s\n",
      "3:\tlearn: 1560496727.9670134\ttotal: 245ms\tremaining: 12s\n",
      "4:\tlearn: 1498712003.7658653\ttotal: 273ms\tremaining: 10.6s\n",
      "5:\tlearn: 1467279033.6932020\ttotal: 295ms\tremaining: 9.52s\n",
      "6:\tlearn: 1448913736.0778151\ttotal: 317ms\tremaining: 8.74s\n",
      "7:\tlearn: 1439904219.9899008\ttotal: 339ms\tremaining: 8.13s\n",
      "8:\tlearn: 1432376560.1425152\ttotal: 359ms\tremaining: 7.62s\n",
      "9:\tlearn: 1406344237.7473826\ttotal: 381ms\tremaining: 7.25s\n",
      "10:\tlearn: 1400776365.6704357\ttotal: 400ms\tremaining: 6.88s\n",
      "11:\tlearn: 1392813438.7149131\ttotal: 425ms\tremaining: 6.66s\n",
      "12:\tlearn: 1386923876.6968277\ttotal: 447ms\tremaining: 6.43s\n",
      "13:\tlearn: 1380296500.6959651\ttotal: 470ms\tremaining: 6.25s\n",
      "14:\tlearn: 1376472880.3066769\ttotal: 489ms\tremaining: 6.03s\n",
      "15:\tlearn: 1375607484.5059242\ttotal: 513ms\tremaining: 5.89s\n",
      "16:\tlearn: 1373313297.6993155\ttotal: 538ms\tremaining: 5.79s\n",
      "17:\tlearn: 1372100506.7616825\ttotal: 562ms\tremaining: 5.68s\n",
      "18:\tlearn: 1367539006.1755621\ttotal: 586ms\tremaining: 5.58s\n",
      "19:\tlearn: 1364317980.7712603\ttotal: 606ms\tremaining: 5.45s\n",
      "20:\tlearn: 1353525388.1932335\ttotal: 629ms\tremaining: 5.36s\n",
      "21:\tlearn: 1352673895.7984126\ttotal: 657ms\tremaining: 5.32s\n",
      "22:\tlearn: 1352524358.0723915\ttotal: 680ms\tremaining: 5.23s\n",
      "23:\tlearn: 1351818203.3404148\ttotal: 702ms\tremaining: 5.15s\n",
      "24:\tlearn: 1347718101.1529326\ttotal: 726ms\tremaining: 5.08s\n",
      "25:\tlearn: 1344074449.2248118\ttotal: 746ms\tremaining: 4.99s\n",
      "26:\tlearn: 1344074448.7754970\ttotal: 754ms\tremaining: 4.83s\n",
      "27:\tlearn: 1344001872.6370516\ttotal: 773ms\tremaining: 4.75s\n",
      "28:\tlearn: 1338248713.5080194\ttotal: 796ms\tremaining: 4.69s\n",
      "29:\tlearn: 1335128987.8734462\ttotal: 821ms\tremaining: 4.65s\n",
      "30:\tlearn: 1334524609.0664194\ttotal: 847ms\tremaining: 4.62s\n",
      "31:\tlearn: 1333373303.1923285\ttotal: 867ms\tremaining: 4.55s\n",
      "32:\tlearn: 1331731172.9497931\ttotal: 889ms\tremaining: 4.5s\n",
      "33:\tlearn: 1331160995.7445004\ttotal: 913ms\tremaining: 4.46s\n",
      "34:\tlearn: 1330330565.5413082\ttotal: 935ms\tremaining: 4.41s\n",
      "35:\tlearn: 1330056537.9002128\ttotal: 960ms\tremaining: 4.38s\n",
      "36:\tlearn: 1329659578.1617270\ttotal: 984ms\tremaining: 4.33s\n",
      "37:\tlearn: 1329659573.6150203\ttotal: 990ms\tremaining: 4.22s\n",
      "38:\tlearn: 1328122148.9801600\ttotal: 1.01s\tremaining: 4.17s\n",
      "39:\tlearn: 1326648368.8113666\ttotal: 1.03s\tremaining: 4.12s\n",
      "40:\tlearn: 1325790411.6867039\ttotal: 1.05s\tremaining: 4.07s\n",
      "41:\tlearn: 1325347289.1882775\ttotal: 1.07s\tremaining: 4.04s\n",
      "42:\tlearn: 1324148780.4390092\ttotal: 1.1s\tremaining: 4.01s\n",
      "43:\tlearn: 1323588087.2219691\ttotal: 1.12s\tremaining: 3.96s\n",
      "44:\tlearn: 1320761132.4678056\ttotal: 1.14s\tremaining: 3.94s\n",
      "45:\tlearn: 1320137944.4735620\ttotal: 1.17s\tremaining: 3.9s\n",
      "46:\tlearn: 1318797747.8995297\ttotal: 1.18s\tremaining: 3.85s\n",
      "47:\tlearn: 1309146772.4813581\ttotal: 1.21s\tremaining: 3.82s\n",
      "48:\tlearn: 1308002502.7261667\ttotal: 1.22s\tremaining: 3.77s\n",
      "49:\tlearn: 1307019714.7221870\ttotal: 1.25s\tremaining: 3.74s\n",
      "50:\tlearn: 1305090329.1268232\ttotal: 1.26s\tremaining: 3.7s\n",
      "51:\tlearn: 1303487268.7609212\ttotal: 1.29s\tremaining: 3.67s\n",
      "52:\tlearn: 1298149282.1841896\ttotal: 1.32s\tremaining: 3.65s\n",
      "53:\tlearn: 1298147502.7197335\ttotal: 1.34s\tremaining: 3.62s\n",
      "54:\tlearn: 1296847562.7760212\ttotal: 1.36s\tremaining: 3.58s\n",
      "55:\tlearn: 1296845096.1051745\ttotal: 1.38s\tremaining: 3.54s\n",
      "56:\tlearn: 1296661413.5392983\ttotal: 1.4s\tremaining: 3.51s\n",
      "57:\tlearn: 1295135160.3030331\ttotal: 1.42s\tremaining: 3.47s\n",
      "58:\tlearn: 1294769246.6741998\ttotal: 1.44s\tremaining: 3.44s\n",
      "59:\tlearn: 1294152869.8230155\ttotal: 1.46s\tremaining: 3.41s\n",
      "60:\tlearn: 1293429017.3175774\ttotal: 1.48s\tremaining: 3.37s\n",
      "61:\tlearn: 1293030549.9974170\ttotal: 1.5s\tremaining: 3.34s\n",
      "62:\tlearn: 1289273160.7127256\ttotal: 1.52s\tremaining: 3.3s\n",
      "63:\tlearn: 1288978361.8464265\ttotal: 1.54s\tremaining: 3.27s\n",
      "64:\tlearn: 1285682846.1756291\ttotal: 1.56s\tremaining: 3.25s\n",
      "65:\tlearn: 1282865309.1066182\ttotal: 1.58s\tremaining: 3.21s\n",
      "66:\tlearn: 1282567267.3870754\ttotal: 1.6s\tremaining: 3.18s\n",
      "67:\tlearn: 1280681086.7597377\ttotal: 1.62s\tremaining: 3.15s\n",
      "68:\tlearn: 1279925476.8739769\ttotal: 1.64s\tremaining: 3.11s\n",
      "69:\tlearn: 1272097930.9926186\ttotal: 1.66s\tremaining: 3.08s\n",
      "70:\tlearn: 1271713864.1208210\ttotal: 1.68s\tremaining: 3.05s\n",
      "71:\tlearn: 1261577903.6932814\ttotal: 1.7s\tremaining: 3.02s\n",
      "72:\tlearn: 1261462219.4904678\ttotal: 1.72s\tremaining: 2.99s\n",
      "73:\tlearn: 1261251862.6383650\ttotal: 1.74s\tremaining: 2.95s\n",
      "74:\tlearn: 1260902240.3058188\ttotal: 1.76s\tremaining: 2.93s\n",
      "75:\tlearn: 1260772932.6162536\ttotal: 1.77s\tremaining: 2.9s\n",
      "76:\tlearn: 1260316851.3647177\ttotal: 1.8s\tremaining: 2.87s\n",
      "77:\tlearn: 1258564085.2224450\ttotal: 1.83s\tremaining: 2.86s\n",
      "78:\tlearn: 1257959482.1408825\ttotal: 1.85s\tremaining: 2.84s\n",
      "79:\tlearn: 1257643640.0133636\ttotal: 1.88s\tremaining: 2.82s\n",
      "80:\tlearn: 1257544417.1439524\ttotal: 1.91s\tremaining: 2.8s\n",
      "81:\tlearn: 1257195260.7813849\ttotal: 1.93s\tremaining: 2.78s\n",
      "82:\tlearn: 1255076546.0592637\ttotal: 1.96s\tremaining: 2.76s\n",
      "83:\tlearn: 1254978885.8843954\ttotal: 1.99s\tremaining: 2.75s\n",
      "84:\tlearn: 1253701782.0533803\ttotal: 2.03s\tremaining: 2.75s\n",
      "85:\tlearn: 1252016103.6284108\ttotal: 2.06s\tremaining: 2.73s\n",
      "86:\tlearn: 1250784901.9524729\ttotal: 2.08s\tremaining: 2.71s\n",
      "87:\tlearn: 1250685691.6109164\ttotal: 2.11s\tremaining: 2.68s\n",
      "88:\tlearn: 1250406399.3367035\ttotal: 2.13s\tremaining: 2.66s\n",
      "89:\tlearn: 1250139906.6656740\ttotal: 2.16s\tremaining: 2.64s\n",
      "90:\tlearn: 1248744967.7466838\ttotal: 2.19s\tremaining: 2.62s\n",
      "91:\tlearn: 1248470390.7722750\ttotal: 2.21s\tremaining: 2.6s\n",
      "92:\tlearn: 1246987281.7538612\ttotal: 2.25s\tremaining: 2.58s\n",
      "93:\tlearn: 1245755819.1623807\ttotal: 2.27s\tremaining: 2.56s\n",
      "94:\tlearn: 1245570445.4839847\ttotal: 2.3s\tremaining: 2.54s\n",
      "95:\tlearn: 1245436937.4202859\ttotal: 2.33s\tremaining: 2.52s\n",
      "96:\tlearn: 1245271326.9254656\ttotal: 2.35s\tremaining: 2.49s\n",
      "97:\tlearn: 1244977632.7836182\ttotal: 2.37s\tremaining: 2.47s\n",
      "98:\tlearn: 1244052611.8704643\ttotal: 2.4s\tremaining: 2.44s\n",
      "99:\tlearn: 1243570876.0469887\ttotal: 2.42s\tremaining: 2.42s\n",
      "100:\tlearn: 1243481978.0367260\ttotal: 2.44s\tremaining: 2.4s\n",
      "101:\tlearn: 1240918470.2959087\ttotal: 2.47s\tremaining: 2.38s\n",
      "102:\tlearn: 1240254528.6023312\ttotal: 2.5s\tremaining: 2.35s\n",
      "103:\tlearn: 1239212409.8200805\ttotal: 2.52s\tremaining: 2.33s\n",
      "104:\tlearn: 1236272852.7552288\ttotal: 2.55s\tremaining: 2.3s\n",
      "105:\tlearn: 1234913257.2495303\ttotal: 2.57s\tremaining: 2.28s\n",
      "106:\tlearn: 1234585487.0355189\ttotal: 2.6s\tremaining: 2.26s\n",
      "107:\tlearn: 1233319102.9743867\ttotal: 2.63s\tremaining: 2.24s\n",
      "108:\tlearn: 1232046039.0338759\ttotal: 2.65s\tremaining: 2.22s\n",
      "109:\tlearn: 1231604338.4860554\ttotal: 2.68s\tremaining: 2.19s\n",
      "110:\tlearn: 1230427497.8318057\ttotal: 2.71s\tremaining: 2.17s\n",
      "111:\tlearn: 1228065417.6701825\ttotal: 2.74s\tremaining: 2.15s\n",
      "112:\tlearn: 1226914696.9160731\ttotal: 2.76s\tremaining: 2.13s\n",
      "113:\tlearn: 1226668487.8398435\ttotal: 2.78s\tremaining: 2.1s\n",
      "114:\tlearn: 1226605961.3963447\ttotal: 2.8s\tremaining: 2.07s\n",
      "115:\tlearn: 1225628382.6007931\ttotal: 2.83s\tremaining: 2.05s\n",
      "116:\tlearn: 1224799396.4825914\ttotal: 2.86s\tremaining: 2.03s\n",
      "117:\tlearn: 1224224843.2797861\ttotal: 2.88s\tremaining: 2s\n",
      "118:\tlearn: 1223840951.1862829\ttotal: 2.9s\tremaining: 1.97s\n",
      "119:\tlearn: 1223583484.5223639\ttotal: 2.92s\tremaining: 1.95s\n",
      "120:\tlearn: 1223501847.5405700\ttotal: 2.94s\tremaining: 1.92s\n",
      "121:\tlearn: 1223189037.1052210\ttotal: 2.96s\tremaining: 1.9s\n",
      "122:\tlearn: 1223133308.6355968\ttotal: 2.98s\tremaining: 1.87s\n",
      "123:\tlearn: 1223091625.9469388\ttotal: 3.01s\tremaining: 1.84s\n",
      "124:\tlearn: 1222367029.2787397\ttotal: 3.04s\tremaining: 1.82s\n",
      "125:\tlearn: 1220052155.4737768\ttotal: 3.06s\tremaining: 1.8s\n",
      "126:\tlearn: 1219747714.6020591\ttotal: 3.08s\tremaining: 1.77s\n",
      "127:\tlearn: 1219606930.2916317\ttotal: 3.11s\tremaining: 1.75s\n",
      "128:\tlearn: 1219468886.6749737\ttotal: 3.14s\tremaining: 1.73s\n",
      "129:\tlearn: 1218285809.2993078\ttotal: 3.16s\tremaining: 1.7s\n",
      "130:\tlearn: 1217960942.2244253\ttotal: 3.18s\tremaining: 1.68s\n",
      "131:\tlearn: 1217359890.7273476\ttotal: 3.21s\tremaining: 1.65s\n",
      "132:\tlearn: 1215103626.5949225\ttotal: 3.23s\tremaining: 1.63s\n",
      "133:\tlearn: 1214998835.5805025\ttotal: 3.25s\tremaining: 1.6s\n",
      "134:\tlearn: 1214854004.0538335\ttotal: 3.27s\tremaining: 1.57s\n",
      "135:\tlearn: 1214097097.1278913\ttotal: 3.3s\tremaining: 1.55s\n",
      "136:\tlearn: 1213867255.1427464\ttotal: 3.33s\tremaining: 1.53s\n",
      "137:\tlearn: 1213821177.7053635\ttotal: 3.35s\tremaining: 1.5s\n",
      "138:\tlearn: 1213498314.3499260\ttotal: 3.37s\tremaining: 1.48s\n",
      "139:\tlearn: 1213455942.6494503\ttotal: 3.39s\tremaining: 1.45s\n",
      "140:\tlearn: 1212791251.8365295\ttotal: 3.42s\tremaining: 1.43s\n",
      "141:\tlearn: 1212628369.8569114\ttotal: 3.44s\tremaining: 1.41s\n",
      "142:\tlearn: 1210655710.2680144\ttotal: 3.47s\tremaining: 1.38s\n",
      "143:\tlearn: 1210208089.6944170\ttotal: 3.49s\tremaining: 1.36s\n",
      "144:\tlearn: 1210053688.4403157\ttotal: 3.52s\tremaining: 1.33s\n",
      "145:\tlearn: 1209766173.5233142\ttotal: 3.54s\tremaining: 1.31s\n",
      "146:\tlearn: 1209473635.2302783\ttotal: 3.56s\tremaining: 1.28s\n",
      "147:\tlearn: 1208057019.3703818\ttotal: 3.58s\tremaining: 1.26s\n",
      "148:\tlearn: 1207922594.5251105\ttotal: 3.6s\tremaining: 1.23s\n",
      "149:\tlearn: 1207841557.5168767\ttotal: 3.62s\tremaining: 1.21s\n",
      "150:\tlearn: 1207639374.8308675\ttotal: 3.64s\tremaining: 1.18s\n",
      "151:\tlearn: 1207491566.6006575\ttotal: 3.66s\tremaining: 1.16s\n",
      "152:\tlearn: 1206480603.4083142\ttotal: 3.69s\tremaining: 1.13s\n",
      "153:\tlearn: 1205875207.7390115\ttotal: 3.71s\tremaining: 1.11s\n",
      "154:\tlearn: 1205628643.4217725\ttotal: 3.74s\tremaining: 1.08s\n",
      "155:\tlearn: 1205488685.4369752\ttotal: 3.76s\tremaining: 1.06s\n",
      "156:\tlearn: 1205189613.6133130\ttotal: 3.79s\tremaining: 1.04s\n",
      "157:\tlearn: 1204912491.0426238\ttotal: 3.82s\tremaining: 1.01s\n",
      "158:\tlearn: 1204891083.5754876\ttotal: 3.84s\tremaining: 991ms\n",
      "159:\tlearn: 1204772193.5971982\ttotal: 3.87s\tremaining: 968ms\n",
      "160:\tlearn: 1204546751.7960026\ttotal: 3.9s\tremaining: 944ms\n",
      "161:\tlearn: 1204092194.8750501\ttotal: 3.92s\tremaining: 920ms\n",
      "162:\tlearn: 1203943498.2783678\ttotal: 3.95s\tremaining: 896ms\n",
      "163:\tlearn: 1203926753.1066484\ttotal: 3.98s\tremaining: 873ms\n",
      "164:\tlearn: 1200436205.7120368\ttotal: 4s\tremaining: 849ms\n",
      "165:\tlearn: 1199639933.0227227\ttotal: 4.03s\tremaining: 826ms\n",
      "166:\tlearn: 1199615397.4969385\ttotal: 4.06s\tremaining: 802ms\n",
      "167:\tlearn: 1198818078.5821881\ttotal: 4.08s\tremaining: 778ms\n",
      "168:\tlearn: 1197948989.9731030\ttotal: 4.11s\tremaining: 754ms\n",
      "169:\tlearn: 1197367890.1018898\ttotal: 4.13s\tremaining: 729ms\n",
      "170:\tlearn: 1196674147.4321687\ttotal: 4.15s\tremaining: 705ms\n",
      "171:\tlearn: 1195911366.5946202\ttotal: 4.18s\tremaining: 680ms\n",
      "172:\tlearn: 1195891041.5065780\ttotal: 4.2s\tremaining: 656ms\n",
      "173:\tlearn: 1194904403.6256266\ttotal: 4.23s\tremaining: 632ms\n",
      "174:\tlearn: 1194891589.8270442\ttotal: 4.24s\tremaining: 606ms\n",
      "175:\tlearn: 1194350064.1287286\ttotal: 4.26s\tremaining: 581ms\n",
      "176:\tlearn: 1194221260.2028332\ttotal: 4.29s\tremaining: 557ms\n",
      "177:\tlearn: 1193318573.6602170\ttotal: 4.31s\tremaining: 533ms\n",
      "178:\tlearn: 1192904070.1144776\ttotal: 4.33s\tremaining: 508ms\n",
      "179:\tlearn: 1192170391.6215122\ttotal: 4.35s\tremaining: 484ms\n",
      "180:\tlearn: 1192080851.6231148\ttotal: 4.38s\tremaining: 459ms\n",
      "181:\tlearn: 1191649914.2380331\ttotal: 4.4s\tremaining: 435ms\n",
      "182:\tlearn: 1191372850.7809932\ttotal: 4.42s\tremaining: 410ms\n",
      "183:\tlearn: 1191077187.4530909\ttotal: 4.44s\tremaining: 386ms\n",
      "184:\tlearn: 1190529523.3932750\ttotal: 4.46s\tremaining: 362ms\n",
      "185:\tlearn: 1190310874.7728198\ttotal: 4.48s\tremaining: 337ms\n",
      "186:\tlearn: 1188614139.9569275\ttotal: 4.51s\tremaining: 313ms\n",
      "187:\tlearn: 1188279465.1247540\ttotal: 4.53s\tremaining: 289ms\n",
      "188:\tlearn: 1187945274.6855593\ttotal: 4.55s\tremaining: 265ms\n",
      "189:\tlearn: 1187759388.5773757\ttotal: 4.58s\tremaining: 241ms\n",
      "190:\tlearn: 1187644601.2918847\ttotal: 4.61s\tremaining: 217ms\n",
      "191:\tlearn: 1187302174.6010447\ttotal: 4.63s\tremaining: 193ms\n",
      "192:\tlearn: 1187227993.4872978\ttotal: 4.65s\tremaining: 169ms\n",
      "193:\tlearn: 1186654047.6992865\ttotal: 4.68s\tremaining: 145ms\n",
      "194:\tlearn: 1186635709.5322471\ttotal: 4.7s\tremaining: 121ms\n",
      "195:\tlearn: 1186416531.8530285\ttotal: 4.73s\tremaining: 96.5ms\n",
      "196:\tlearn: 1186269343.1166601\ttotal: 4.75s\tremaining: 72.3ms\n",
      "197:\tlearn: 1186035556.0170469\ttotal: 4.78s\tremaining: 48.2ms\n",
      "198:\tlearn: 1185771145.7609174\ttotal: 4.8s\tremaining: 24.1ms\n",
      "199:\tlearn: 1185665449.4964044\ttotal: 4.82s\tremaining: 0us\n",
      "Learning rate set to 0.273643\n",
      "0:\tlearn: 1996490296.9505856\ttotal: 21.7ms\tremaining: 4.32s\n",
      "1:\tlearn: 1868476907.7510641\ttotal: 44.2ms\tremaining: 4.37s\n",
      "2:\tlearn: 1785435579.1254148\ttotal: 71.6ms\tremaining: 4.7s\n",
      "3:\tlearn: 1678482496.6851897\ttotal: 94.5ms\tremaining: 4.63s\n",
      "4:\tlearn: 1640300253.6947536\ttotal: 120ms\tremaining: 4.68s\n",
      "5:\tlearn: 1612161560.8133495\ttotal: 146ms\tremaining: 4.71s\n",
      "6:\tlearn: 1564965703.7288949\ttotal: 176ms\tremaining: 4.85s\n",
      "7:\tlearn: 1531890340.2115042\ttotal: 202ms\tremaining: 4.85s\n",
      "8:\tlearn: 1528829061.9725742\ttotal: 217ms\tremaining: 4.6s\n",
      "9:\tlearn: 1507031092.7718413\ttotal: 242ms\tremaining: 4.59s\n",
      "10:\tlearn: 1477224708.3593113\ttotal: 265ms\tremaining: 4.55s\n",
      "11:\tlearn: 1473609757.3227882\ttotal: 290ms\tremaining: 4.55s\n",
      "12:\tlearn: 1423044932.9703863\ttotal: 317ms\tremaining: 4.56s\n",
      "13:\tlearn: 1388439726.7299349\ttotal: 342ms\tremaining: 4.55s\n",
      "14:\tlearn: 1371025605.0225811\ttotal: 370ms\tremaining: 4.57s\n",
      "15:\tlearn: 1369847314.4590228\ttotal: 399ms\tremaining: 4.59s\n",
      "16:\tlearn: 1369843926.0781920\ttotal: 412ms\tremaining: 4.44s\n",
      "17:\tlearn: 1368635883.0446727\ttotal: 442ms\tremaining: 4.47s\n",
      "18:\tlearn: 1354959394.0892761\ttotal: 467ms\tremaining: 4.44s\n",
      "19:\tlearn: 1352432077.3705015\ttotal: 496ms\tremaining: 4.46s\n",
      "20:\tlearn: 1352296272.6770535\ttotal: 523ms\tremaining: 4.46s\n",
      "21:\tlearn: 1351375441.9851990\ttotal: 547ms\tremaining: 4.43s\n",
      "22:\tlearn: 1347579343.2441430\ttotal: 573ms\tremaining: 4.41s\n",
      "23:\tlearn: 1345823470.4929249\ttotal: 596ms\tremaining: 4.37s\n",
      "24:\tlearn: 1298794540.8185260\ttotal: 620ms\tremaining: 4.34s\n",
      "25:\tlearn: 1298079446.2441154\ttotal: 645ms\tremaining: 4.32s\n",
      "26:\tlearn: 1297020217.2653148\ttotal: 686ms\tremaining: 4.39s\n",
      "27:\tlearn: 1297019700.1432309\ttotal: 706ms\tremaining: 4.34s\n",
      "28:\tlearn: 1297017750.2004130\ttotal: 726ms\tremaining: 4.28s\n",
      "29:\tlearn: 1281046141.6220176\ttotal: 748ms\tremaining: 4.24s\n",
      "30:\tlearn: 1279922506.8161769\ttotal: 769ms\tremaining: 4.19s\n",
      "31:\tlearn: 1233102729.1004307\ttotal: 792ms\tremaining: 4.16s\n",
      "32:\tlearn: 1231509028.7440805\ttotal: 816ms\tremaining: 4.13s\n",
      "33:\tlearn: 1223350340.2511437\ttotal: 837ms\tremaining: 4.09s\n",
      "34:\tlearn: 1220445663.8802695\ttotal: 862ms\tremaining: 4.07s\n",
      "35:\tlearn: 1220009823.9362757\ttotal: 887ms\tremaining: 4.04s\n",
      "36:\tlearn: 1219288169.5782149\ttotal: 908ms\tremaining: 4s\n",
      "37:\tlearn: 1216728634.9069200\ttotal: 934ms\tremaining: 3.98s\n",
      "38:\tlearn: 1198535442.5206120\ttotal: 954ms\tremaining: 3.94s\n",
      "39:\tlearn: 1189569939.8172820\ttotal: 976ms\tremaining: 3.9s\n",
      "40:\tlearn: 1181536063.3083663\ttotal: 998ms\tremaining: 3.87s\n",
      "41:\tlearn: 1179924857.0250921\ttotal: 1.02s\tremaining: 3.82s\n",
      "42:\tlearn: 1179598114.6443961\ttotal: 1.04s\tremaining: 3.78s\n",
      "43:\tlearn: 1158782618.6242566\ttotal: 1.06s\tremaining: 3.75s\n",
      "44:\tlearn: 1142059495.4004478\ttotal: 1.08s\tremaining: 3.72s\n",
      "45:\tlearn: 1134080999.6712120\ttotal: 1.1s\tremaining: 3.69s\n",
      "46:\tlearn: 1134079261.6270638\ttotal: 1.12s\tremaining: 3.65s\n",
      "47:\tlearn: 1131250647.0009606\ttotal: 1.15s\tremaining: 3.63s\n",
      "48:\tlearn: 1130272495.8304830\ttotal: 1.17s\tremaining: 3.61s\n",
      "49:\tlearn: 1113886836.9598303\ttotal: 1.2s\tremaining: 3.59s\n",
      "50:\tlearn: 1111679331.9021330\ttotal: 1.22s\tremaining: 3.58s\n",
      "51:\tlearn: 1101321701.2243040\ttotal: 1.25s\tremaining: 3.55s\n",
      "52:\tlearn: 1101291916.6322722\ttotal: 1.27s\tremaining: 3.53s\n",
      "53:\tlearn: 1101262818.7215443\ttotal: 1.29s\tremaining: 3.5s\n",
      "54:\tlearn: 1093540397.3795459\ttotal: 1.31s\tremaining: 3.46s\n",
      "55:\tlearn: 1085314239.1159518\ttotal: 1.33s\tremaining: 3.43s\n",
      "56:\tlearn: 1078334266.5870316\ttotal: 1.35s\tremaining: 3.4s\n",
      "57:\tlearn: 1074176739.6258783\ttotal: 1.38s\tremaining: 3.37s\n",
      "58:\tlearn: 1072236987.1057199\ttotal: 1.4s\tremaining: 3.35s\n",
      "59:\tlearn: 1071484951.9851071\ttotal: 1.43s\tremaining: 3.33s\n",
      "60:\tlearn: 1066273358.2993784\ttotal: 1.45s\tremaining: 3.29s\n",
      "61:\tlearn: 1056670026.6866627\ttotal: 1.47s\tremaining: 3.27s\n",
      "62:\tlearn: 1056085651.5644341\ttotal: 1.49s\tremaining: 3.24s\n",
      "63:\tlearn: 1053945013.8594761\ttotal: 1.51s\tremaining: 3.21s\n",
      "64:\tlearn: 1052666871.5580831\ttotal: 1.53s\tremaining: 3.18s\n",
      "65:\tlearn: 1051802565.8635339\ttotal: 1.55s\tremaining: 3.15s\n",
      "66:\tlearn: 1051438408.0416446\ttotal: 1.57s\tremaining: 3.12s\n",
      "67:\tlearn: 1050298970.3797991\ttotal: 1.6s\tremaining: 3.11s\n",
      "68:\tlearn: 1039331972.6983258\ttotal: 1.62s\tremaining: 3.08s\n",
      "69:\tlearn: 1028978889.4065959\ttotal: 1.65s\tremaining: 3.06s\n",
      "70:\tlearn: 1027611632.6789191\ttotal: 1.67s\tremaining: 3.04s\n",
      "71:\tlearn: 1026861049.2970706\ttotal: 1.7s\tremaining: 3.02s\n",
      "72:\tlearn: 1020844342.5058035\ttotal: 1.72s\tremaining: 2.99s\n",
      "73:\tlearn: 1015693974.5617033\ttotal: 1.74s\tremaining: 2.96s\n",
      "74:\tlearn: 1015291856.6937015\ttotal: 1.76s\tremaining: 2.94s\n",
      "75:\tlearn: 1006820270.2483102\ttotal: 1.78s\tremaining: 2.91s\n",
      "76:\tlearn: 1006583551.0238922\ttotal: 1.8s\tremaining: 2.88s\n",
      "77:\tlearn: 1005729606.4622891\ttotal: 1.83s\tremaining: 2.86s\n",
      "78:\tlearn: 1005182123.8213633\ttotal: 1.85s\tremaining: 2.83s\n",
      "79:\tlearn: 1004808582.0977989\ttotal: 1.87s\tremaining: 2.8s\n",
      "80:\tlearn: 1001579813.2983348\ttotal: 1.89s\tremaining: 2.78s\n",
      "81:\tlearn: 1001324850.0778898\ttotal: 1.91s\tremaining: 2.75s\n",
      "82:\tlearn: 995979838.3966249\ttotal: 1.93s\tremaining: 2.72s\n",
      "83:\tlearn: 995502532.5809013\ttotal: 1.95s\tremaining: 2.7s\n",
      "84:\tlearn: 990089222.6336145\ttotal: 1.97s\tremaining: 2.67s\n",
      "85:\tlearn: 987831893.7849942\ttotal: 2s\tremaining: 2.65s\n",
      "86:\tlearn: 986911432.6213866\ttotal: 2.02s\tremaining: 2.62s\n",
      "87:\tlearn: 986746282.4444942\ttotal: 2.04s\tremaining: 2.6s\n",
      "88:\tlearn: 986111912.7116764\ttotal: 2.06s\tremaining: 2.57s\n",
      "89:\tlearn: 976921148.6878389\ttotal: 2.09s\tremaining: 2.55s\n",
      "90:\tlearn: 976123831.8085614\ttotal: 2.11s\tremaining: 2.53s\n",
      "91:\tlearn: 975552552.5940123\ttotal: 2.14s\tremaining: 2.51s\n",
      "92:\tlearn: 971604729.0275868\ttotal: 2.16s\tremaining: 2.49s\n",
      "93:\tlearn: 968673214.9946340\ttotal: 2.18s\tremaining: 2.46s\n",
      "94:\tlearn: 967373824.5512480\ttotal: 2.21s\tremaining: 2.44s\n",
      "95:\tlearn: 966941256.8253154\ttotal: 2.24s\tremaining: 2.42s\n",
      "96:\tlearn: 964128598.1710638\ttotal: 2.26s\tremaining: 2.4s\n",
      "97:\tlearn: 957680287.8979965\ttotal: 2.3s\tremaining: 2.39s\n",
      "98:\tlearn: 955005393.2306899\ttotal: 2.32s\tremaining: 2.37s\n",
      "99:\tlearn: 954095114.0949330\ttotal: 2.35s\tremaining: 2.35s\n",
      "100:\tlearn: 953961881.6438248\ttotal: 2.38s\tremaining: 2.33s\n",
      "101:\tlearn: 952839424.5697511\ttotal: 2.41s\tremaining: 2.31s\n",
      "102:\tlearn: 952189730.2424858\ttotal: 2.43s\tremaining: 2.29s\n",
      "103:\tlearn: 950284801.2034470\ttotal: 2.46s\tremaining: 2.27s\n",
      "104:\tlearn: 950021718.6779629\ttotal: 2.49s\tremaining: 2.25s\n",
      "105:\tlearn: 949588729.8414488\ttotal: 2.51s\tremaining: 2.23s\n",
      "106:\tlearn: 949138815.4339447\ttotal: 2.54s\tremaining: 2.21s\n",
      "107:\tlearn: 947479935.5698516\ttotal: 2.56s\tremaining: 2.18s\n",
      "108:\tlearn: 941584497.9089034\ttotal: 2.58s\tremaining: 2.15s\n",
      "109:\tlearn: 937941959.3663123\ttotal: 2.6s\tremaining: 2.13s\n",
      "110:\tlearn: 935951447.1600465\ttotal: 2.64s\tremaining: 2.12s\n",
      "111:\tlearn: 934861384.1735446\ttotal: 2.67s\tremaining: 2.1s\n",
      "112:\tlearn: 931424178.1666288\ttotal: 2.7s\tremaining: 2.08s\n",
      "113:\tlearn: 924955415.9997549\ttotal: 2.72s\tremaining: 2.05s\n",
      "114:\tlearn: 923231235.3870283\ttotal: 2.75s\tremaining: 2.03s\n",
      "115:\tlearn: 921585585.8299894\ttotal: 2.78s\tremaining: 2.01s\n",
      "116:\tlearn: 920972804.4495925\ttotal: 2.8s\tremaining: 1.99s\n",
      "117:\tlearn: 916765034.1536236\ttotal: 2.83s\tremaining: 1.97s\n",
      "118:\tlearn: 913677884.4246042\ttotal: 2.86s\tremaining: 1.94s\n",
      "119:\tlearn: 913489424.0923138\ttotal: 2.88s\tremaining: 1.92s\n",
      "120:\tlearn: 913058187.6933130\ttotal: 2.91s\tremaining: 1.9s\n",
      "121:\tlearn: 911512014.8557587\ttotal: 2.93s\tremaining: 1.87s\n",
      "122:\tlearn: 909821391.1458248\ttotal: 2.95s\tremaining: 1.85s\n",
      "123:\tlearn: 904099477.0966713\ttotal: 2.98s\tremaining: 1.82s\n",
      "124:\tlearn: 902963055.4231809\ttotal: 3s\tremaining: 1.8s\n",
      "125:\tlearn: 885675539.1395276\ttotal: 3.02s\tremaining: 1.78s\n",
      "126:\tlearn: 885434311.5154254\ttotal: 3.04s\tremaining: 1.75s\n",
      "127:\tlearn: 870793054.9150145\ttotal: 3.06s\tremaining: 1.72s\n",
      "128:\tlearn: 870627190.8128365\ttotal: 3.08s\tremaining: 1.7s\n",
      "129:\tlearn: 870221386.6082920\ttotal: 3.11s\tremaining: 1.68s\n",
      "130:\tlearn: 869207481.1862907\ttotal: 3.13s\tremaining: 1.65s\n",
      "131:\tlearn: 867547287.0796927\ttotal: 3.15s\tremaining: 1.62s\n",
      "132:\tlearn: 857609510.1395619\ttotal: 3.18s\tremaining: 1.6s\n",
      "133:\tlearn: 856128585.6025175\ttotal: 3.2s\tremaining: 1.57s\n",
      "134:\tlearn: 856010066.2250334\ttotal: 3.21s\tremaining: 1.55s\n",
      "135:\tlearn: 855913721.3601512\ttotal: 3.23s\tremaining: 1.52s\n",
      "136:\tlearn: 854821113.8539813\ttotal: 3.26s\tremaining: 1.5s\n",
      "137:\tlearn: 853814046.6490710\ttotal: 3.28s\tremaining: 1.47s\n",
      "138:\tlearn: 853275399.1109073\ttotal: 3.3s\tremaining: 1.45s\n",
      "139:\tlearn: 853202412.1356364\ttotal: 3.32s\tremaining: 1.42s\n",
      "140:\tlearn: 853074386.4058926\ttotal: 3.34s\tremaining: 1.4s\n",
      "141:\tlearn: 845130804.7486070\ttotal: 3.37s\tremaining: 1.37s\n",
      "142:\tlearn: 839171806.1706337\ttotal: 3.38s\tremaining: 1.35s\n",
      "143:\tlearn: 837023995.5223074\ttotal: 3.41s\tremaining: 1.32s\n",
      "144:\tlearn: 834504041.0412263\ttotal: 3.43s\tremaining: 1.3s\n",
      "145:\tlearn: 833395639.9305625\ttotal: 3.46s\tremaining: 1.28s\n",
      "146:\tlearn: 830932867.8011526\ttotal: 3.49s\tremaining: 1.26s\n",
      "147:\tlearn: 828514086.6603909\ttotal: 3.52s\tremaining: 1.24s\n",
      "148:\tlearn: 827599824.1812352\ttotal: 3.55s\tremaining: 1.21s\n",
      "149:\tlearn: 824436948.7915516\ttotal: 3.57s\tremaining: 1.19s\n",
      "150:\tlearn: 821820944.3921860\ttotal: 3.6s\tremaining: 1.17s\n",
      "151:\tlearn: 821094521.5075233\ttotal: 3.62s\tremaining: 1.14s\n",
      "152:\tlearn: 820477020.8285036\ttotal: 3.64s\tremaining: 1.12s\n",
      "153:\tlearn: 820370851.3891428\ttotal: 3.66s\tremaining: 1.09s\n",
      "154:\tlearn: 819106126.0229036\ttotal: 3.69s\tremaining: 1.07s\n",
      "155:\tlearn: 818875554.0425625\ttotal: 3.71s\tremaining: 1.05s\n",
      "156:\tlearn: 818828184.8854492\ttotal: 3.74s\tremaining: 1.02s\n",
      "157:\tlearn: 808145014.6017466\ttotal: 3.76s\tremaining: 999ms\n",
      "158:\tlearn: 807719332.4607192\ttotal: 3.78s\tremaining: 975ms\n",
      "159:\tlearn: 806754180.9364934\ttotal: 3.81s\tremaining: 951ms\n",
      "160:\tlearn: 806023871.8869691\ttotal: 3.82s\tremaining: 926ms\n",
      "161:\tlearn: 805811438.6092480\ttotal: 3.84s\tremaining: 902ms\n",
      "162:\tlearn: 801218094.5899570\ttotal: 3.86s\tremaining: 877ms\n",
      "163:\tlearn: 801038809.2038369\ttotal: 3.88s\tremaining: 853ms\n",
      "164:\tlearn: 799766081.6283225\ttotal: 3.91s\tremaining: 830ms\n",
      "165:\tlearn: 799603847.6380128\ttotal: 3.94s\tremaining: 807ms\n",
      "166:\tlearn: 793602993.8760164\ttotal: 3.96s\tremaining: 783ms\n",
      "167:\tlearn: 785921779.6774857\ttotal: 3.98s\tremaining: 759ms\n",
      "168:\tlearn: 782934503.0308590\ttotal: 4.01s\tremaining: 735ms\n",
      "169:\tlearn: 776065750.9888587\ttotal: 4.03s\tremaining: 711ms\n",
      "170:\tlearn: 775533683.9275690\ttotal: 4.05s\tremaining: 688ms\n",
      "171:\tlearn: 775272893.9325652\ttotal: 4.08s\tremaining: 664ms\n",
      "172:\tlearn: 775240105.9890087\ttotal: 4.1s\tremaining: 641ms\n",
      "173:\tlearn: 773236217.0646780\ttotal: 4.13s\tremaining: 617ms\n",
      "174:\tlearn: 766615364.7634523\ttotal: 4.15s\tremaining: 593ms\n",
      "175:\tlearn: 766416033.5179429\ttotal: 4.17s\tremaining: 569ms\n",
      "176:\tlearn: 764770744.7838410\ttotal: 4.2s\tremaining: 545ms\n",
      "177:\tlearn: 763718621.2471893\ttotal: 4.22s\tremaining: 522ms\n",
      "178:\tlearn: 762459341.7696648\ttotal: 4.24s\tremaining: 498ms\n",
      "179:\tlearn: 762312250.4462802\ttotal: 4.26s\tremaining: 473ms\n",
      "180:\tlearn: 762211672.1828804\ttotal: 4.28s\tremaining: 449ms\n",
      "181:\tlearn: 759985696.5005856\ttotal: 4.3s\tremaining: 426ms\n",
      "182:\tlearn: 758941706.0857824\ttotal: 4.32s\tremaining: 402ms\n",
      "183:\tlearn: 734357569.5441343\ttotal: 4.35s\tremaining: 379ms\n",
      "184:\tlearn: 734229371.7532909\ttotal: 4.38s\tremaining: 355ms\n",
      "185:\tlearn: 734079654.0572995\ttotal: 4.4s\tremaining: 331ms\n",
      "186:\tlearn: 731307275.3241280\ttotal: 4.43s\tremaining: 308ms\n",
      "187:\tlearn: 729232165.3725439\ttotal: 4.45s\tremaining: 284ms\n",
      "188:\tlearn: 728899265.4278380\ttotal: 4.47s\tremaining: 260ms\n",
      "189:\tlearn: 727336828.8314165\ttotal: 4.5s\tremaining: 237ms\n",
      "190:\tlearn: 722872455.3422680\ttotal: 4.52s\tremaining: 213ms\n",
      "191:\tlearn: 721997640.3273845\ttotal: 4.55s\tremaining: 189ms\n",
      "192:\tlearn: 720378380.8378073\ttotal: 4.58s\tremaining: 166ms\n",
      "193:\tlearn: 720126831.3528085\ttotal: 4.61s\tremaining: 142ms\n",
      "194:\tlearn: 719965500.1448920\ttotal: 4.63s\tremaining: 119ms\n",
      "195:\tlearn: 719522218.4382018\ttotal: 4.65s\tremaining: 94.8ms\n",
      "196:\tlearn: 719447426.8527437\ttotal: 4.67s\tremaining: 71.2ms\n",
      "197:\tlearn: 718967667.1816102\ttotal: 4.7s\tremaining: 47.5ms\n",
      "198:\tlearn: 717720754.8042277\ttotal: 4.72s\tremaining: 23.7ms\n",
      "199:\tlearn: 717405437.6711477\ttotal: 4.74s\tremaining: 0us\n",
      "Learning rate set to 0.273644\n",
      "0:\tlearn: 2447716057.9426346\ttotal: 30.4ms\tremaining: 6.05s\n",
      "1:\tlearn: 2219777304.6502738\ttotal: 60.3ms\tremaining: 5.97s\n",
      "2:\tlearn: 2073576078.9070697\ttotal: 90.6ms\tremaining: 5.95s\n",
      "3:\tlearn: 1990915958.4452014\ttotal: 113ms\tremaining: 5.54s\n",
      "4:\tlearn: 1935220756.5378222\ttotal: 144ms\tremaining: 5.63s\n",
      "5:\tlearn: 1898129119.7277644\ttotal: 170ms\tremaining: 5.5s\n",
      "6:\tlearn: 1864177187.7092655\ttotal: 198ms\tremaining: 5.46s\n",
      "7:\tlearn: 1832224097.7242224\ttotal: 226ms\tremaining: 5.41s\n",
      "8:\tlearn: 1820962368.5779393\ttotal: 249ms\tremaining: 5.27s\n",
      "9:\tlearn: 1816783644.1140501\ttotal: 263ms\tremaining: 4.99s\n",
      "10:\tlearn: 1813908750.8739755\ttotal: 281ms\tremaining: 4.83s\n",
      "11:\tlearn: 1794716965.5871253\ttotal: 308ms\tremaining: 4.83s\n",
      "12:\tlearn: 1779310845.8311543\ttotal: 329ms\tremaining: 4.73s\n",
      "13:\tlearn: 1763040844.7441189\ttotal: 357ms\tremaining: 4.75s\n",
      "14:\tlearn: 1748867827.1431136\ttotal: 379ms\tremaining: 4.68s\n",
      "15:\tlearn: 1738308311.7392151\ttotal: 406ms\tremaining: 4.67s\n",
      "16:\tlearn: 1732008405.2802489\ttotal: 431ms\tremaining: 4.64s\n",
      "17:\tlearn: 1728327131.5101068\ttotal: 456ms\tremaining: 4.61s\n",
      "18:\tlearn: 1727053386.4250522\ttotal: 476ms\tremaining: 4.54s\n",
      "19:\tlearn: 1719182146.8934705\ttotal: 499ms\tremaining: 4.49s\n",
      "20:\tlearn: 1714854956.3513329\ttotal: 521ms\tremaining: 4.44s\n",
      "21:\tlearn: 1709329367.7595124\ttotal: 541ms\tremaining: 4.37s\n",
      "22:\tlearn: 1704382577.0342870\ttotal: 561ms\tremaining: 4.32s\n",
      "23:\tlearn: 1701034507.1958168\ttotal: 580ms\tremaining: 4.25s\n",
      "24:\tlearn: 1695694843.6649351\ttotal: 607ms\tremaining: 4.25s\n",
      "25:\tlearn: 1695308384.3483336\ttotal: 631ms\tremaining: 4.22s\n",
      "26:\tlearn: 1684823435.6941206\ttotal: 658ms\tremaining: 4.22s\n",
      "27:\tlearn: 1677534437.6126509\ttotal: 687ms\tremaining: 4.22s\n",
      "28:\tlearn: 1675222459.7237971\ttotal: 712ms\tremaining: 4.2s\n",
      "29:\tlearn: 1664748031.6204457\ttotal: 735ms\tremaining: 4.16s\n",
      "30:\tlearn: 1654898629.4594905\ttotal: 761ms\tremaining: 4.15s\n",
      "31:\tlearn: 1646396648.2122898\ttotal: 789ms\tremaining: 4.14s\n",
      "32:\tlearn: 1642789808.5590963\ttotal: 813ms\tremaining: 4.11s\n",
      "33:\tlearn: 1641423184.2047949\ttotal: 835ms\tremaining: 4.08s\n",
      "34:\tlearn: 1637900897.8361616\ttotal: 858ms\tremaining: 4.05s\n",
      "35:\tlearn: 1634952513.7186136\ttotal: 878ms\tremaining: 4s\n",
      "36:\tlearn: 1634817436.6308117\ttotal: 891ms\tremaining: 3.92s\n",
      "37:\tlearn: 1631939322.2027383\ttotal: 912ms\tremaining: 3.89s\n",
      "38:\tlearn: 1631599080.8499746\ttotal: 933ms\tremaining: 3.85s\n",
      "39:\tlearn: 1630908567.3846712\ttotal: 957ms\tremaining: 3.83s\n",
      "40:\tlearn: 1612372723.2382140\ttotal: 977ms\tremaining: 3.79s\n",
      "41:\tlearn: 1610605075.5414081\ttotal: 996ms\tremaining: 3.75s\n",
      "42:\tlearn: 1609863254.4356606\ttotal: 1.01s\tremaining: 3.71s\n",
      "43:\tlearn: 1606918996.7439904\ttotal: 1.03s\tremaining: 3.67s\n",
      "44:\tlearn: 1593191655.6863852\ttotal: 1.05s\tremaining: 3.63s\n",
      "45:\tlearn: 1588383270.9058187\ttotal: 1.08s\tremaining: 3.61s\n",
      "46:\tlearn: 1586909731.2860854\ttotal: 1.1s\tremaining: 3.57s\n",
      "47:\tlearn: 1585001017.1425314\ttotal: 1.12s\tremaining: 3.54s\n",
      "48:\tlearn: 1584400241.9092188\ttotal: 1.14s\tremaining: 3.52s\n",
      "49:\tlearn: 1583496704.0974216\ttotal: 1.17s\tremaining: 3.5s\n",
      "50:\tlearn: 1582163917.7620122\ttotal: 1.19s\tremaining: 3.48s\n",
      "51:\tlearn: 1580909995.8573260\ttotal: 1.21s\tremaining: 3.44s\n",
      "52:\tlearn: 1579914629.6883469\ttotal: 1.23s\tremaining: 3.41s\n",
      "53:\tlearn: 1571877903.0642030\ttotal: 1.25s\tremaining: 3.38s\n",
      "54:\tlearn: 1563449975.7938051\ttotal: 1.27s\tremaining: 3.35s\n",
      "55:\tlearn: 1562637539.6523170\ttotal: 1.29s\tremaining: 3.32s\n",
      "56:\tlearn: 1561344653.9303370\ttotal: 1.31s\tremaining: 3.29s\n",
      "57:\tlearn: 1560685284.1722565\ttotal: 1.33s\tremaining: 3.26s\n",
      "58:\tlearn: 1560053152.6476531\ttotal: 1.36s\tremaining: 3.24s\n",
      "59:\tlearn: 1554693558.7312293\ttotal: 1.38s\tremaining: 3.22s\n",
      "60:\tlearn: 1554243943.7330298\ttotal: 1.4s\tremaining: 3.19s\n",
      "61:\tlearn: 1553352369.0938842\ttotal: 1.43s\tremaining: 3.17s\n",
      "62:\tlearn: 1551428480.4130018\ttotal: 1.45s\tremaining: 3.15s\n",
      "63:\tlearn: 1550723544.0542791\ttotal: 1.47s\tremaining: 3.13s\n",
      "64:\tlearn: 1550344186.4525766\ttotal: 1.5s\tremaining: 3.1s\n",
      "65:\tlearn: 1545084396.2473917\ttotal: 1.52s\tremaining: 3.09s\n",
      "66:\tlearn: 1543813458.6953139\ttotal: 1.54s\tremaining: 3.06s\n",
      "67:\tlearn: 1542811682.2712116\ttotal: 1.56s\tremaining: 3.04s\n",
      "68:\tlearn: 1539470792.0994396\ttotal: 1.59s\tremaining: 3.02s\n",
      "69:\tlearn: 1538855930.0921006\ttotal: 1.62s\tremaining: 3.01s\n",
      "70:\tlearn: 1538290244.0168703\ttotal: 1.64s\tremaining: 2.98s\n",
      "71:\tlearn: 1538080097.5936730\ttotal: 1.67s\tremaining: 2.97s\n",
      "72:\tlearn: 1535045360.5906959\ttotal: 1.7s\tremaining: 2.96s\n",
      "73:\tlearn: 1529303225.3596849\ttotal: 1.73s\tremaining: 2.94s\n",
      "74:\tlearn: 1528346506.8408639\ttotal: 1.75s\tremaining: 2.92s\n",
      "75:\tlearn: 1527532457.6521690\ttotal: 1.78s\tremaining: 2.9s\n",
      "76:\tlearn: 1527494106.0098894\ttotal: 1.8s\tremaining: 2.87s\n",
      "77:\tlearn: 1523700080.6017761\ttotal: 1.83s\tremaining: 2.86s\n",
      "78:\tlearn: 1523267607.7474289\ttotal: 1.85s\tremaining: 2.83s\n",
      "79:\tlearn: 1522612438.6255095\ttotal: 1.87s\tremaining: 2.81s\n",
      "80:\tlearn: 1521457514.8587260\ttotal: 1.9s\tremaining: 2.78s\n",
      "81:\tlearn: 1521255504.1364486\ttotal: 1.92s\tremaining: 2.76s\n",
      "82:\tlearn: 1520045794.8336253\ttotal: 1.94s\tremaining: 2.73s\n",
      "83:\tlearn: 1519746140.0773783\ttotal: 1.96s\tremaining: 2.71s\n",
      "84:\tlearn: 1516634890.3854742\ttotal: 1.98s\tremaining: 2.68s\n",
      "85:\tlearn: 1515579803.8185487\ttotal: 2.01s\tremaining: 2.66s\n",
      "86:\tlearn: 1514458995.8818991\ttotal: 2.03s\tremaining: 2.63s\n",
      "87:\tlearn: 1513991932.2286823\ttotal: 2.05s\tremaining: 2.61s\n",
      "88:\tlearn: 1513636986.8381042\ttotal: 2.07s\tremaining: 2.58s\n",
      "89:\tlearn: 1513588943.3642039\ttotal: 2.1s\tremaining: 2.56s\n",
      "90:\tlearn: 1513062177.8627200\ttotal: 2.12s\tremaining: 2.54s\n",
      "91:\tlearn: 1513023373.1809719\ttotal: 2.14s\tremaining: 2.51s\n",
      "92:\tlearn: 1510015694.5662673\ttotal: 2.16s\tremaining: 2.48s\n",
      "93:\tlearn: 1509922046.5039659\ttotal: 2.18s\tremaining: 2.46s\n",
      "94:\tlearn: 1509706978.8175304\ttotal: 2.2s\tremaining: 2.43s\n",
      "95:\tlearn: 1508516627.0812588\ttotal: 2.23s\tremaining: 2.41s\n",
      "96:\tlearn: 1493131139.0871544\ttotal: 2.25s\tremaining: 2.39s\n",
      "97:\tlearn: 1492868652.4157610\ttotal: 2.28s\tremaining: 2.37s\n",
      "98:\tlearn: 1481058820.2280948\ttotal: 2.3s\tremaining: 2.35s\n",
      "99:\tlearn: 1480076517.5983195\ttotal: 2.32s\tremaining: 2.32s\n",
      "100:\tlearn: 1470013661.7831595\ttotal: 2.34s\tremaining: 2.29s\n",
      "101:\tlearn: 1455113931.2555189\ttotal: 2.37s\tremaining: 2.27s\n",
      "102:\tlearn: 1453990231.7376535\ttotal: 2.39s\tremaining: 2.25s\n",
      "103:\tlearn: 1452653296.3705645\ttotal: 2.42s\tremaining: 2.23s\n",
      "104:\tlearn: 1452413303.0671148\ttotal: 2.44s\tremaining: 2.21s\n",
      "105:\tlearn: 1451936084.7775857\ttotal: 2.47s\tremaining: 2.19s\n",
      "106:\tlearn: 1451668167.0917063\ttotal: 2.5s\tremaining: 2.17s\n",
      "107:\tlearn: 1451507632.7470443\ttotal: 2.52s\tremaining: 2.15s\n",
      "108:\tlearn: 1450914294.7873445\ttotal: 2.55s\tremaining: 2.13s\n",
      "109:\tlearn: 1450765153.4572351\ttotal: 2.59s\tremaining: 2.12s\n",
      "110:\tlearn: 1449138358.5518360\ttotal: 2.61s\tremaining: 2.09s\n",
      "111:\tlearn: 1448643260.5772207\ttotal: 2.63s\tremaining: 2.07s\n",
      "112:\tlearn: 1448480283.1618278\ttotal: 2.66s\tremaining: 2.05s\n",
      "113:\tlearn: 1447113734.3176658\ttotal: 2.68s\tremaining: 2.02s\n",
      "114:\tlearn: 1446111742.5589762\ttotal: 2.7s\tremaining: 2s\n",
      "115:\tlearn: 1446068704.6891687\ttotal: 2.72s\tremaining: 1.97s\n",
      "116:\tlearn: 1445252078.6005673\ttotal: 2.75s\tremaining: 1.95s\n",
      "117:\tlearn: 1445217822.1295135\ttotal: 2.77s\tremaining: 1.93s\n",
      "118:\tlearn: 1444190781.0309160\ttotal: 2.8s\tremaining: 1.91s\n",
      "119:\tlearn: 1444046289.8196936\ttotal: 2.83s\tremaining: 1.89s\n",
      "120:\tlearn: 1435723908.0608447\ttotal: 2.86s\tremaining: 1.87s\n",
      "121:\tlearn: 1429224275.7186391\ttotal: 2.89s\tremaining: 1.85s\n",
      "122:\tlearn: 1429129601.2545164\ttotal: 2.92s\tremaining: 1.82s\n",
      "123:\tlearn: 1428979884.2095244\ttotal: 2.95s\tremaining: 1.81s\n",
      "124:\tlearn: 1428641528.3537886\ttotal: 2.98s\tremaining: 1.79s\n",
      "125:\tlearn: 1428415813.4917133\ttotal: 3s\tremaining: 1.76s\n",
      "126:\tlearn: 1428271307.4353848\ttotal: 3.03s\tremaining: 1.74s\n",
      "127:\tlearn: 1424871671.4695256\ttotal: 3.05s\tremaining: 1.71s\n",
      "128:\tlearn: 1424494745.8066919\ttotal: 3.07s\tremaining: 1.69s\n",
      "129:\tlearn: 1418097665.1835995\ttotal: 3.1s\tremaining: 1.67s\n",
      "130:\tlearn: 1418059852.1555939\ttotal: 3.12s\tremaining: 1.64s\n",
      "131:\tlearn: 1417998255.9925539\ttotal: 3.14s\tremaining: 1.62s\n",
      "132:\tlearn: 1417816596.5566201\ttotal: 3.16s\tremaining: 1.59s\n",
      "133:\tlearn: 1415597998.1502838\ttotal: 3.19s\tremaining: 1.57s\n",
      "134:\tlearn: 1414311863.7727687\ttotal: 3.2s\tremaining: 1.54s\n",
      "135:\tlearn: 1414292014.6079085\ttotal: 3.23s\tremaining: 1.52s\n",
      "136:\tlearn: 1412859518.5044615\ttotal: 3.24s\tremaining: 1.49s\n",
      "137:\tlearn: 1412635423.4033377\ttotal: 3.27s\tremaining: 1.47s\n",
      "138:\tlearn: 1412163414.7280645\ttotal: 3.3s\tremaining: 1.45s\n",
      "139:\tlearn: 1411047887.2641068\ttotal: 3.33s\tremaining: 1.43s\n",
      "140:\tlearn: 1410492901.5714743\ttotal: 3.35s\tremaining: 1.4s\n",
      "141:\tlearn: 1410203073.8965518\ttotal: 3.37s\tremaining: 1.38s\n",
      "142:\tlearn: 1410092422.7299442\ttotal: 3.4s\tremaining: 1.35s\n",
      "143:\tlearn: 1409270176.9592311\ttotal: 3.42s\tremaining: 1.33s\n",
      "144:\tlearn: 1408304097.7282281\ttotal: 3.44s\tremaining: 1.3s\n",
      "145:\tlearn: 1408268629.0820634\ttotal: 3.46s\tremaining: 1.28s\n",
      "146:\tlearn: 1406939274.7308195\ttotal: 3.49s\tremaining: 1.26s\n",
      "147:\tlearn: 1402555954.5356917\ttotal: 3.51s\tremaining: 1.23s\n",
      "148:\tlearn: 1402544996.7859414\ttotal: 3.54s\tremaining: 1.21s\n",
      "149:\tlearn: 1402385572.2801294\ttotal: 3.56s\tremaining: 1.19s\n",
      "150:\tlearn: 1402341148.5609620\ttotal: 3.58s\tremaining: 1.16s\n",
      "151:\tlearn: 1402085780.9879477\ttotal: 3.61s\tremaining: 1.14s\n",
      "152:\tlearn: 1400997455.3656523\ttotal: 3.63s\tremaining: 1.11s\n",
      "153:\tlearn: 1400994278.4370904\ttotal: 3.65s\tremaining: 1.09s\n",
      "154:\tlearn: 1400938907.7870333\ttotal: 3.67s\tremaining: 1.07s\n",
      "155:\tlearn: 1400564303.8037779\ttotal: 3.7s\tremaining: 1.04s\n",
      "156:\tlearn: 1400481519.7718105\ttotal: 3.72s\tremaining: 1.02s\n",
      "157:\tlearn: 1399798763.4760964\ttotal: 3.75s\tremaining: 997ms\n",
      "158:\tlearn: 1399659891.0931592\ttotal: 3.77s\tremaining: 973ms\n",
      "159:\tlearn: 1398109384.3191395\ttotal: 3.8s\tremaining: 950ms\n",
      "160:\tlearn: 1397377115.3717661\ttotal: 3.82s\tremaining: 926ms\n",
      "161:\tlearn: 1397151539.3746789\ttotal: 3.84s\tremaining: 901ms\n",
      "162:\tlearn: 1396957923.1137028\ttotal: 3.87s\tremaining: 878ms\n",
      "163:\tlearn: 1394353702.5602763\ttotal: 3.89s\tremaining: 855ms\n",
      "164:\tlearn: 1393825744.8250608\ttotal: 3.92s\tremaining: 831ms\n",
      "165:\tlearn: 1393714724.4983442\ttotal: 3.94s\tremaining: 808ms\n",
      "166:\tlearn: 1386955352.4883678\ttotal: 3.96s\tremaining: 783ms\n",
      "167:\tlearn: 1386597082.8355956\ttotal: 3.98s\tremaining: 759ms\n",
      "168:\tlearn: 1386552727.6398718\ttotal: 4s\tremaining: 734ms\n",
      "169:\tlearn: 1386505646.8354623\ttotal: 4.03s\tremaining: 710ms\n",
      "170:\tlearn: 1386285052.2955592\ttotal: 4.05s\tremaining: 686ms\n",
      "171:\tlearn: 1382814669.6056232\ttotal: 4.07s\tremaining: 662ms\n",
      "172:\tlearn: 1382360465.0680790\ttotal: 4.08s\tremaining: 638ms\n",
      "173:\tlearn: 1382324247.5426266\ttotal: 4.12s\tremaining: 616ms\n",
      "174:\tlearn: 1382016084.8694623\ttotal: 4.14s\tremaining: 592ms\n",
      "175:\tlearn: 1381764232.5848875\ttotal: 4.16s\tremaining: 567ms\n",
      "176:\tlearn: 1381640122.4524357\ttotal: 4.18s\tremaining: 544ms\n",
      "177:\tlearn: 1381622072.5863216\ttotal: 4.21s\tremaining: 520ms\n",
      "178:\tlearn: 1381576244.3581452\ttotal: 4.23s\tremaining: 497ms\n",
      "179:\tlearn: 1380345686.1545653\ttotal: 4.25s\tremaining: 473ms\n",
      "180:\tlearn: 1380324174.4820647\ttotal: 4.28s\tremaining: 449ms\n",
      "181:\tlearn: 1377353657.4415212\ttotal: 4.3s\tremaining: 425ms\n",
      "182:\tlearn: 1377223689.1269143\ttotal: 4.34s\tremaining: 403ms\n",
      "183:\tlearn: 1376577278.8781099\ttotal: 4.37s\tremaining: 380ms\n",
      "184:\tlearn: 1374953319.4566360\ttotal: 4.39s\tremaining: 356ms\n",
      "185:\tlearn: 1374883880.8440228\ttotal: 4.42s\tremaining: 333ms\n",
      "186:\tlearn: 1372695594.7123926\ttotal: 4.44s\tremaining: 308ms\n",
      "187:\tlearn: 1372384947.2680569\ttotal: 4.46s\tremaining: 285ms\n",
      "188:\tlearn: 1372077489.7516618\ttotal: 4.48s\tremaining: 261ms\n",
      "189:\tlearn: 1370361064.0824564\ttotal: 4.51s\tremaining: 237ms\n",
      "190:\tlearn: 1369029636.7335725\ttotal: 4.53s\tremaining: 214ms\n",
      "191:\tlearn: 1368329458.6791689\ttotal: 4.56s\tremaining: 190ms\n",
      "192:\tlearn: 1368280358.3939307\ttotal: 4.58s\tremaining: 166ms\n",
      "193:\tlearn: 1368248905.1504653\ttotal: 4.6s\tremaining: 142ms\n",
      "194:\tlearn: 1367966515.5546324\ttotal: 4.63s\tremaining: 119ms\n",
      "195:\tlearn: 1367923265.2642462\ttotal: 4.65s\tremaining: 94.8ms\n",
      "196:\tlearn: 1367704026.9905605\ttotal: 4.67s\tremaining: 71.2ms\n",
      "197:\tlearn: 1366988349.7380526\ttotal: 4.7s\tremaining: 47.4ms\n",
      "198:\tlearn: 1366393834.1071057\ttotal: 4.72s\tremaining: 23.7ms\n",
      "199:\tlearn: 1366314695.4617705\ttotal: 4.75s\tremaining: 0us\n"
     ]
    }
   ],
   "source": [
    "catboost = CatBoostRegressor(n_estimators=200, cat_features = ['common_name', 'functional_group', 'commercial_group', 'sector_type', 'catch_status', 'reporting_status', 'gear_name'])\n",
    "cv_r2 = cross_val_score(catboost, X, y, cv=3, scoring='r2')"
   ]
  },
  {
   "cell_type": "code",
   "execution_count": 179,
   "id": "f29d3009",
   "metadata": {
    "ExecuteTime": {
     "end_time": "2023-06-14T19:54:36.443266Z",
     "start_time": "2023-06-14T19:54:36.436246Z"
    }
   },
   "outputs": [
    {
     "name": "stdout",
     "output_type": "stream",
     "text": [
      "[0.44237983 0.23789531 0.25539811]\n"
     ]
    }
   ],
   "source": [
    "print(cv_r2)"
   ]
  },
  {
   "cell_type": "markdown",
   "id": "17aba375",
   "metadata": {
    "ExecuteTime": {
     "end_time": "2023-06-14T19:54:52.254426Z",
     "start_time": "2023-06-14T19:54:52.240398Z"
    }
   },
   "source": [
    "Был сделан прогноз общей стоимости рыбы в Дании на основании имеющихся данных по всем годам с помощью градиентного бустинга. Модель показала лучшую объясняющую способность на кросс-валидации при первой итерации - 44%."
   ]
  },
  {
   "cell_type": "code",
   "execution_count": null,
   "id": "81573b83",
   "metadata": {},
   "outputs": [],
   "source": []
  }
 ],
 "metadata": {
  "kernelspec": {
   "display_name": "Python 3 (ipykernel)",
   "language": "python",
   "name": "python3"
  },
  "language_info": {
   "codemirror_mode": {
    "name": "ipython",
    "version": 3
   },
   "file_extension": ".py",
   "mimetype": "text/x-python",
   "name": "python",
   "nbconvert_exporter": "python",
   "pygments_lexer": "ipython3",
   "version": "3.9.13"
  }
 },
 "nbformat": 4,
 "nbformat_minor": 5
}
