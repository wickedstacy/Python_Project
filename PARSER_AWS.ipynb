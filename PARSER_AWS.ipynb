{
 "cells": [
  {
   "cell_type": "code",
   "execution_count": 11,
   "id": "8d38f7c2",
   "metadata": {
    "ExecuteTime": {
     "end_time": "2023-06-08T20:05:06.995875Z",
     "start_time": "2023-06-08T20:05:06.978490Z"
    }
   },
   "outputs": [],
   "source": [
    "import boto3\n",
    "import botocore\n",
    "import pandas as pd\n",
    "from IPython.display import display, Markdown\n",
    "import boto3\n",
    "from botocore import UNSIGNED\n",
    "from botocore.client import Config"
   ]
  },
  {
   "cell_type": "markdown",
   "id": "ff6b9096",
   "metadata": {},
   "source": [
    "## ПОДКЛЮЧАЮСЬ К AWS"
   ]
  },
  {
   "cell_type": "code",
   "execution_count": 12,
   "id": "21dd2561",
   "metadata": {
    "ExecuteTime": {
     "end_time": "2023-06-08T20:05:08.800631Z",
     "start_time": "2023-06-08T20:05:08.344483Z"
    }
   },
   "outputs": [],
   "source": [
    "s3 = boto3.client('s3',config=Config(signature_version=UNSIGNED))\n",
    "s3_resource = boto3.resource('s3', config=Config(signature_version=UNSIGNED))"
   ]
  },
  {
   "cell_type": "markdown",
   "id": "75447411",
   "metadata": {},
   "source": [
    "## ИЗУЧАЮ БАКЕТ\n"
   ]
  },
  {
   "cell_type": "code",
   "execution_count": 13,
   "id": "9be30518",
   "metadata": {
    "ExecuteTime": {
     "end_time": "2023-06-08T20:05:09.187114Z",
     "start_time": "2023-06-08T20:05:09.167097Z"
    }
   },
   "outputs": [],
   "source": [
    "def list_bucket_contents(bucket, match='', size_mb=0):\n",
    "    bucket_resource = s3_resource.Bucket(bucket)\n",
    "    total_size_gb = 0\n",
    "    total_files = 0\n",
    "    match_size_gb = 0\n",
    "    match_files = 0\n",
    "    for key in bucket_resource.objects.all():\n",
    "        key_size_mb = key.size/1024/1024\n",
    "        total_size_gb += key_size_mb\n",
    "        total_files += 1\n",
    "        list_check = False\n",
    "        if not match:\n",
    "            list_check = True\n",
    "        elif match in key.key:\n",
    "            list_check = True\n",
    "        if list_check and not size_mb:\n",
    "            match_files += 1\n",
    "            match_size_gb += key_size_mb\n",
    "            print(f'{key.key} ({key_size_mb:3.0f}MB)')\n",
    "        elif list_check and key_size_mb <= size_mb:\n",
    "            match_files += 1\n",
    "            match_size_gb += key_size_mb\n",
    "            print(f'{key.key} ({key_size_mb:3.0f}MB)')\n",
    "\n",
    "    if match:\n",
    "        print(f'Размер файла {match_size_gb/1024:3.1f}GB with {match_files} files')            \n",
    "    \n",
    "    print(f'Размер корзиным {total_size_gb/1024:3.1f}GB with {total_files} files')\n",
    "def csv_dataset(bucket, key,):\n",
    "    data_source = {\n",
    "            'Bucket': bucket,\n",
    "            'Key': key\n",
    "        }\n",
    "    # Generate the URL to get Key from Bucket\n",
    "    url = s3.generate_presigned_url(\n",
    "        ClientMethod = 'get_object',\n",
    "        Params = data_source\n",
    "    )\n",
    "\n",
    "    data = pd.read_csv(url)\n",
    "    return data"
   ]
  },
  {
   "cell_type": "code",
   "execution_count": 14,
   "id": "c8c26f4a",
   "metadata": {
    "ExecuteTime": {
     "end_time": "2023-06-08T20:05:11.347621Z",
     "start_time": "2023-06-08T20:05:09.939305Z"
    }
   },
   "outputs": [
    {
     "name": "stdout",
     "output_type": "stream",
     "text": [
      "global-catch-data/ (  0MB)\n",
      "global-catch-data/csv/ (  0MB)\n",
      "global-catch-data/csv/rfmo_12.csv (194MB)\n",
      "spatial-catch-maps/ (  0MB)\n",
      "spatial-catch-maps/csv/ (  0MB)\n",
      "Размер корзиным 0.2GB with 5 files\n"
     ]
    }
   ],
   "source": [
    "list_bucket_contents(bucket='fisheries-catch-data',match='')"
   ]
  },
  {
   "cell_type": "markdown",
   "id": "682aec9e",
   "metadata": {},
   "source": [
    "## Складываю В PANDAS"
   ]
  },
  {
   "cell_type": "code",
   "execution_count": 15,
   "id": "60e3a92e",
   "metadata": {
    "ExecuteTime": {
     "end_time": "2023-06-08T20:05:25.980936Z",
     "start_time": "2023-06-08T20:05:11.349614Z"
    }
   },
   "outputs": [],
   "source": [
    "df = csv_dataset(bucket='fisheries-catch-data', key='global-catch-data/csv/rfmo_12.csv')"
   ]
  },
  {
   "cell_type": "code",
   "execution_count": 17,
   "id": "1e30a17d",
   "metadata": {
    "ExecuteTime": {
     "end_time": "2023-06-08T20:05:35.466842Z",
     "start_time": "2023-06-08T20:05:28.116747Z"
    }
   },
   "outputs": [],
   "source": [
    "df.to_csv('fishes.csv')"
   ]
  },
  {
   "cell_type": "code",
   "execution_count": null,
   "id": "770f2ff0",
   "metadata": {},
   "outputs": [],
   "source": []
  }
 ],
 "metadata": {
  "kernelspec": {
   "display_name": "Python 3 (ipykernel)",
   "language": "python",
   "name": "python3"
  },
  "language_info": {
   "codemirror_mode": {
    "name": "ipython",
    "version": 3
   },
   "file_extension": ".py",
   "mimetype": "text/x-python",
   "name": "python",
   "nbconvert_exporter": "python",
   "pygments_lexer": "ipython3",
   "version": "3.9.13"
  }
 },
 "nbformat": 4,
 "nbformat_minor": 5
}
